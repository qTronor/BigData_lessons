{
  "nbformat": 4,
  "nbformat_minor": 0,
  "metadata": {
    "colab": {
      "provenance": [],
      "gpuType": "T4",
      "authorship_tag": "ABX9TyO7O496RQG1rwgC+Bd/K8+7",
      "include_colab_link": true
    },
    "kernelspec": {
      "name": "python3",
      "display_name": "Python 3"
    },
    "language_info": {
      "name": "python"
    },
    "accelerator": "GPU"
  },
  "cells": [
    {
      "cell_type": "markdown",
      "metadata": {
        "id": "view-in-github",
        "colab_type": "text"
      },
      "source": [
        "<a href=\"https://colab.research.google.com/github/qTronor/BigData_lessons/blob/main/BigData_7.ipynb\" target=\"_parent\"><img src=\"https://colab.research.google.com/assets/colab-badge.svg\" alt=\"Open In Colab\"/></a>"
      ]
    },
    {
      "cell_type": "code",
      "execution_count": null,
      "metadata": {
        "id": "QejqH-BQ21ND"
      },
      "outputs": [],
      "source": [
        "import numpy as np\n",
        "import pandas as pd\n",
        "import warnings\n",
        "import matplotlib.pyplot as plt\n",
        "from sklearn import datasets\n",
        "from sklearn.model_selection import train_test_split\n",
        "from sklearn import tree\n",
        "from sklearn import ensemble\n",
        "from sklearn.tree import DecisionTreeClassifier\n",
        "from sklearn.metrics import accuracy_score\n",
        "from sklearn import metrics\n",
        "from sklearn.ensemble import BaggingClassifier\n",
        "import time\n",
        "warnings.filterwarnings('ignore')"
      ]
    },
    {
      "cell_type": "code",
      "source": [
        "digits = datasets.load_digits()"
      ],
      "metadata": {
        "id": "gwoFXa1j6e6x"
      },
      "execution_count": null,
      "outputs": []
    },
    {
      "cell_type": "code",
      "source": [
        "X, y = digits.images, digits.target\n",
        "\n",
        "x_train, x_test, y_train, y_test = train_test_split(X, y, test_size=0.2, random_state=42)"
      ],
      "metadata": {
        "id": "-AH0qCR46tSE"
      },
      "execution_count": null,
      "outputs": []
    },
    {
      "cell_type": "code",
      "source": [
        "X_train = np.reshape(x_train, (x_train.shape[0], -1))\n",
        "X_test = np.reshape(x_test, (x_test.shape[0], -1))"
      ],
      "metadata": {
        "id": "Ae6xaucJ8fWo"
      },
      "execution_count": null,
      "outputs": []
    },
    {
      "cell_type": "code",
      "source": [
        "models = []\n",
        "\n",
        "for i in range(10):\n",
        "  model = DecisionTreeClassifier()\n",
        "  model.fit(X_train,y_train)\n",
        "  models.append(model)"
      ],
      "metadata": {
        "id": "qRtQPfJi6tNw"
      },
      "execution_count": null,
      "outputs": []
    },
    {
      "cell_type": "code",
      "source": [
        "models"
      ],
      "metadata": {
        "colab": {
          "base_uri": "https://localhost:8080/"
        },
        "id": "CRYpHBvP7Cya",
        "outputId": "6dd4fe43-1028-4748-be04-885c475a9007"
      },
      "execution_count": null,
      "outputs": [
        {
          "output_type": "execute_result",
          "data": {
            "text/plain": [
              "[DecisionTreeClassifier(),\n",
              " DecisionTreeClassifier(),\n",
              " DecisionTreeClassifier(),\n",
              " DecisionTreeClassifier(),\n",
              " DecisionTreeClassifier(),\n",
              " DecisionTreeClassifier(),\n",
              " DecisionTreeClassifier(),\n",
              " DecisionTreeClassifier(),\n",
              " DecisionTreeClassifier(),\n",
              " DecisionTreeClassifier()]"
            ]
          },
          "metadata": {},
          "execution_count": 6
        }
      ]
    },
    {
      "cell_type": "code",
      "source": [
        "y_pred = []\n",
        "\n",
        "for i in range(len(models)):\n",
        "  y_pred.append(models[i].predict(X_test))"
      ],
      "metadata": {
        "id": "8PWmkc2j8lhq"
      },
      "execution_count": null,
      "outputs": []
    },
    {
      "cell_type": "code",
      "source": [
        "def most_common_values(list_of_lists):\n",
        "    result_list = []\n",
        "    if not list_of_lists:\n",
        "        return result_list\n",
        "    for i in range(len(list_of_lists[0])):\n",
        "        current_values = [lst[i] for lst in list_of_lists]\n",
        "        counts = pd.Series(current_values).value_counts()\n",
        "        most_common_value = counts.idxmax()\n",
        "        result_list.append(most_common_value)\n",
        "\n",
        "    return result_list\n",
        "\n",
        "lists = y_pred\n",
        "result = most_common_values(lists)\n",
        "\n",
        "print(\"Результат:\", result)"
      ],
      "metadata": {
        "colab": {
          "base_uri": "https://localhost:8080/"
        },
        "id": "tGlHkn5vEJEh",
        "outputId": "e66fbdfe-3273-4030-fabd-4621afbd78d8"
      },
      "execution_count": null,
      "outputs": [
        {
          "output_type": "stream",
          "name": "stdout",
          "text": [
            "Результат: [6, 9, 3, 7, 2, 1, 5, 3, 5, 7, 2, 6, 4, 0, 4, 2, 3, 7, 8, 4, 4, 3, 9, 7, 5, 6, 3, 5, 6, 3, 4, 9, 1, 4, 4, 6, 9, 4, 7, 6, 6, 9, 1, 3, 6, 1, 3, 0, 6, 5, 5, 1, 8, 5, 6, 0, 3, 0, 0, 8, 5, 4, 4, 2, 4, 5, 7, 0, 7, 5, 9, 5, 5, 4, 7, 0, 4, 5, 5, 9, 9, 0, 2, 3, 8, 0, 6, 4, 4, 9, 1, 2, 5, 3, 5, 2, 9, 4, 4, 7, 4, 3, 4, 3, 4, 3, 5, 9, 4, 2, 7, 7, 4, 6, 1, 9, 2, 7, 3, 3, 2, 6, 9, 4, 0, 7, 4, 7, 5, 8, 7, 5, 7, 3, 0, 6, 6, 4, 2, 8, 0, 9, 4, 6, 9, 9, 6, 9, 0, 3, 5, 6, 6, 0, 6, 4, 3, 9, 3, 4, 7, 2, 9, 0, 4, 5, 8, 6, 5, 9, 9, 8, 4, 2, 1, 8, 7, 7, 2, 2, 3, 9, 8, 0, 3, 3, 2, 5, 6, 9, 9, 4, 4, 5, 4, 2, 3, 6, 4, 8, 5, 9, 5, 7, 1, 9, 4, 8, 1, 5, 4, 4, 9, 6, 1, 8, 6, 0, 4, 5, 2, 7, 4, 6, 4, 5, 6, 4, 3, 2, 3, 6, 7, 1, 5, 1, 4, 7, 6, 9, 1, 5, 5, 1, 4, 4, 8, 8, 9, 9, 7, 4, 2, 8, 2, 3, 5, 8, 3, 3, 6, 0, 9, 7, 7, 0, 1, 0, 4, 5, 1, 5, 3, 6, 0, 4, 1, 0, 2, 3, 6, 5, 9, 7, 3, 5, 5, 9, 9, 8, 5, 3, 2, 2, 0, 5, 8, 3, 4, 0, 2, 4, 6, 4, 3, 4, 5, 0, 5, 2, 1, 3, 1, 4, 3, 1, 7, 0, 1, 5, 6, 1, 1, 8, 7, 0, 6, 4, 8, 8, 5, 1, 8, 4, 5, 9, 7, 9, 8, 6, 0, 8, 2, 0, 7, 9, 8, 9, 5, 2, 7, 4, 9, 8, 7, 4, 3, 8, 9, 5]\n"
          ]
        }
      ]
    },
    {
      "cell_type": "code",
      "source": [
        "_, ax = plt.subplots(nrows=1, ncols=1, figsize=(5, 3))\n",
        "ax.set_axis_off()\n",
        "ax.imshow(x_test[0], cmap=plt.cm.gray_r, interpolation=\"nearest\")\n",
        "ax.set_title(\"Test Image\")\n",
        "\n",
        "plt.show()"
      ],
      "metadata": {
        "colab": {
          "base_uri": "https://localhost:8080/",
          "height": 290
        },
        "id": "xj0lAzhQB8es",
        "outputId": "b4bd48d7-ab82-4be7-b577-6416ee117dc8"
      },
      "execution_count": null,
      "outputs": [
        {
          "output_type": "display_data",
          "data": {
            "text/plain": [
              "<Figure size 500x300 with 1 Axes>"
            ],
            "image/png": "[encoded data removed]"
          },
          "metadata": {}
        }
      ]
    },
    {
      "cell_type": "code",
      "source": [
        "model_tree = DecisionTreeClassifier()\n",
        "x = np.reshape(X, (X.shape[0], -1))\n",
        "\n",
        "one_model = model_tree.fit(X_train, y_train)"
      ],
      "metadata": {
        "id": "-Mj4RTzgCi4F"
      },
      "execution_count": null,
      "outputs": []
    },
    {
      "cell_type": "code",
      "source": [
        "predictions = one_model.predict(X_test)"
      ],
      "metadata": {
        "id": "q4mmtaCpDP8i"
      },
      "execution_count": null,
      "outputs": []
    },
    {
      "cell_type": "code",
      "source": [
        "for i, (res, pred, true) in enumerate(zip(result, predictions, y_test)):\n",
        "    if res != true or pred != true:\n",
        "        print(f\"Индекс {i}: Мода - {res}, Предсказание одного дерева - {pred}, Реальное значение - {true}\")"
      ],
      "metadata": {
        "colab": {
          "base_uri": "https://localhost:8080/"
        },
        "id": "hTmNDPlEGpcb",
        "outputId": "5653c2fe-7576-4780-83ed-3e48d778bbd9"
      },
      "execution_count": null,
      "outputs": [
        {
          "output_type": "stream",
          "name": "stdout",
          "text": [
            "Индекс 7: Мода - 3, Предсказание одного дерева - 3, Реальное значение - 2\n",
            "Индекс 9: Мода - 7, Предсказание одного дерева - 7, Реальное значение - 2\n",
            "Индекс 10: Мода - 2, Предсказание одного дерева - 2, Реальное значение - 1\n",
            "Индекс 11: Мода - 6, Предсказание одного дерева - 6, Реальное значение - 9\n",
            "Индекс 19: Мода - 4, Предсказание одного дерева - 4, Реальное значение - 8\n",
            "Индекс 41: Мода - 9, Предсказание одного дерева - 3, Реальное значение - 9\n",
            "Индекс 52: Мода - 8, Предсказание одного дерева - 7, Реальное значение - 9\n",
            "Индекс 56: Мода - 3, Предсказание одного дерева - 3, Реальное значение - 9\n",
            "Индекс 59: Мода - 8, Предсказание одного дерева - 8, Реальное значение - 1\n",
            "Индекс 60: Мода - 5, Предсказание одного дерева - 5, Реальное значение - 0\n",
            "Индекс 62: Мода - 4, Предсказание одного дерева - 4, Реальное значение - 5\n",
            "Индекс 89: Мода - 9, Предсказание одного дерева - 3, Реальное значение - 9\n",
            "Индекс 92: Мода - 5, Предсказание одного дерева - 5, Реальное значение - 8\n",
            "Индекс 94: Мода - 5, Предсказание одного дерева - 2, Реальное значение - 5\n",
            "Индекс 97: Мода - 4, Предсказание одного дерева - 4, Реальное значение - 0\n",
            "Индекс 99: Мода - 7, Предсказание одного дерева - 7, Реальное значение - 4\n",
            "Индекс 102: Мода - 4, Предсказание одного дерева - 4, Реальное значение - 5\n",
            "Индекс 104: Мода - 4, Предсказание одного дерева - 4, Реальное значение - 1\n",
            "Индекс 113: Мода - 6, Предсказание одного дерева - 7, Реальное значение - 4\n",
            "Индекс 118: Мода - 3, Предсказание одного дерева - 3, Реальное значение - 8\n",
            "Индекс 119: Мода - 3, Предсказание одного дерева - 3, Реальное значение - 7\n",
            "Индекс 123: Мода - 4, Предсказание одного дерева - 6, Реальное значение - 4\n",
            "Индекс 126: Мода - 4, Предсказание одного дерева - 0, Реальное значение - 2\n",
            "Индекс 133: Мода - 3, Предсказание одного дерева - 2, Реальное значение - 7\n",
            "Индекс 159: Мода - 4, Предсказание одного дерева - 7, Реальное значение - 9\n",
            "Индекс 166: Мода - 8, Предсказание одного дерева - 8, Реальное значение - 3\n",
            "Индекс 169: Мода - 9, Предсказание одного дерева - 7, Реальное значение - 9\n",
            "Индекс 175: Мода - 8, Предсказание одного дерева - 8, Реальное значение - 3\n",
            "Индекс 185: Мода - 3, Предсказание одного дерева - 3, Реальное значение - 2\n",
            "Индекс 192: Мода - 4, Предсказание одного дерева - 6, Реальное значение - 1\n",
            "Индекс 193: Мода - 5, Предсказание одного дерева - 6, Реальное значение - 5\n",
            "Индекс 204: Мода - 1, Предсказание одного дерева - 1, Реальное значение - 8\n",
            "Индекс 222: Мода - 4, Предсказание одного дерева - 8, Реальное значение - 4\n",
            "Индекс 227: Мода - 4, Предсказание одного дерева - 4, Реальное значение - 0\n",
            "Индекс 239: Мода - 9, Предсказание одного дерева - 9, Реальное значение - 8\n",
            "Индекс 240: Мода - 1, Предсказание одного дерева - 1, Реальное значение - 8\n",
            "Индекс 244: Мода - 4, Предсказание одного дерева - 6, Реальное значение - 6\n",
            "Индекс 245: Мода - 4, Предсказание одного дерева - 8, Реальное значение - 2\n",
            "Индекс 251: Мода - 4, Предсказание одного дерева - 6, Реальное значение - 6\n",
            "Индекс 253: Мода - 8, Предсказание одного дерева - 0, Реальное значение - 2\n",
            "Индекс 256: Мода - 5, Предсказание одного дерева - 7, Реальное значение - 4\n",
            "Индекс 258: Мода - 3, Предсказание одного дерева - 1, Реальное значение - 8\n",
            "Индекс 278: Мода - 2, Предсказание одного дерева - 2, Реальное значение - 0\n",
            "Индекс 281: Мода - 5, Предсказание одного дерева - 2, Реальное значение - 5\n",
            "Индекс 284: Мода - 3, Предсказание одного дерева - 7, Реальное значение - 3\n",
            "Индекс 292: Мода - 2, Предсказание одного дерева - 3, Реальное значение - 3\n",
            "Индекс 300: Мода - 2, Предсказание одного дерева - 8, Реальное значение - 2\n",
            "Индекс 305: Мода - 4, Предсказание одного дерева - 9, Реальное значение - 4\n",
            "Индекс 314: Мода - 3, Предсказание одного дерева - 7, Реальное значение - 1\n",
            "Индекс 320: Мода - 6, Предсказание одного дерева - 2, Реальное значение - 2\n",
            "Индекс 322: Мода - 1, Предсказание одного дерева - 3, Реальное значение - 2\n",
            "Индекс 335: Мода - 9, Предсказание одного дерева - 9, Реальное значение - 8\n",
            "Индекс 336: Мода - 7, Предсказание одного дерева - 6, Реальное значение - 7\n",
            "Индекс 339: Мода - 6, Предсказание одного дерева - 6, Реальное значение - 5\n",
            "Индекс 341: Мода - 8, Предсказание одного дерева - 9, Реальное значение - 6\n",
            "Индекс 344: Мода - 7, Предсказание одного дерева - 9, Реальное значение - 7\n",
            "Индекс 351: Мода - 4, Предсказание одного дерева - 4, Реальное значение - 7\n",
            "Индекс 352: Мода - 9, Предсказание одного дерева - 9, Реальное значение - 1\n",
            "Индекс 358: Мода - 9, Предсказание одного дерева - 9, Реальное значение - 3\n"
          ]
        }
      ]
    },
    {
      "cell_type": "code",
      "source": [
        "X_train, X_test, y_train, y_test = train_test_split(X, y, test_size=0.2, random_state=42)\n",
        "X_train = np.reshape(x_train, (x_train.shape[0], -1))\n",
        "X_test = np.reshape(x_test, (x_test.shape[0], -1))\n",
        "\n",
        "# Одно дерево\n",
        "tree_clf = DecisionTreeClassifier(random_state=42)\n",
        "\n",
        "start_time = time.time()\n",
        "\n",
        "tree_clf.fit(X_train, y_train)\n",
        "\n",
        "end_time = time.time()\n",
        "one_tree_time = end_time - start_time\n",
        "\n",
        "print(f\"Время выполнения: {one_tree_time} секунд\")\n",
        "\n",
        "tree_predictions = tree_clf.predict(X_test)\n",
        "\n",
        "tree_accuracy = accuracy_score(y_test, tree_predictions)\n",
        "print(f\"Точность дерева решений: {tree_accuracy:.2%}\")"
      ],
      "metadata": {
        "colab": {
          "base_uri": "https://localhost:8080/"
        },
        "id": "IOsk3iDhIdtM",
        "outputId": "b81d1d03-8706-4af2-e730-528474ba907c"
      },
      "execution_count": null,
      "outputs": [
        {
          "output_type": "stream",
          "name": "stdout",
          "text": [
            "Время выполнения: 0.029001951217651367 секунд\n",
            "Точность дерева решений: 84.17%\n"
          ]
        }
      ]
    },
    {
      "cell_type": "code",
      "source": [
        "# Бэггинг\n",
        "bagging_clf = BaggingClassifier(base_estimator=DecisionTreeClassifier(random_state=42),\n",
        "                                n_estimators=50, random_state=42)\n",
        "\n",
        "start_time = time.time()\n",
        "\n",
        "\n",
        "bagging_clf.fit(X_train, y_train)\n",
        "\n",
        "end_time = time.time()\n",
        "bagging_time = end_time - start_time\n",
        "\n",
        "print(f\"Время выполнения: {bagging_time} секунд\")\n",
        "\n",
        "bagging_predictions = bagging_clf.predict(X_test)\n",
        "\n",
        "bagging_accuracy = accuracy_score(y_test, bagging_predictions)\n",
        "print(f\"Точность бэггинга: {bagging_accuracy:.2%}\")"
      ],
      "metadata": {
        "id": "qFNm10_qJmk4",
        "outputId": "59ef7df8-e9f6-4e29-b211-77acb3dedd83",
        "colab": {
          "base_uri": "https://localhost:8080/"
        }
      },
      "execution_count": null,
      "outputs": [
        {
          "output_type": "stream",
          "name": "stdout",
          "text": [
            "Время выполнения: 0.6012158393859863 секунд\n",
            "Точность бэггинга: 95.56%\n"
          ]
        }
      ]
    },
    {
      "cell_type": "code",
      "source": [
        "print(f\"Точность дерева решений: {tree_accuracy:.2%}\")\n",
        "print(f\"Точность бэггинга: {bagging_accuracy:.2%}\")"
      ],
      "metadata": {
        "id": "IVMrQrN4JnVp",
        "outputId": "9878d8fb-0020-41b6-881e-89f9440a9c24",
        "colab": {
          "base_uri": "https://localhost:8080/"
        }
      },
      "execution_count": null,
      "outputs": [
        {
          "output_type": "stream",
          "name": "stdout",
          "text": [
            "Точность дерева решений: 84.17%\n",
            "Точность бэггинга: 95.56%\n"
          ]
        }
      ]
    },
    {
      "cell_type": "code",
      "source": [
        "from sklearn.ensemble import AdaBoostClassifier\n",
        "from sklearn.ensemble import GradientBoostingClassifier\n",
        "from sklearn.ensemble import RandomForestClassifier\n",
        "from sklearn.metrics import f1_score\n",
        "from sklearn.model_selection import GridSearchCV"
      ],
      "metadata": {
        "id": "czdxSsH0JO-R"
      },
      "execution_count": null,
      "outputs": []
    },
    {
      "cell_type": "code",
      "source": [
        "base_classifier = DecisionTreeClassifier(max_depth=1, random_state=42)\n",
        "\n",
        "boosting_clf = AdaBoostClassifier(base_classifier, n_estimators=50, random_state=42)\n",
        "\n",
        "start_time = time.time()\n",
        "\n",
        "boosting_clf.fit(X_train, y_train)\n",
        "\n",
        "end_time = time.time()\n",
        "execution_time = end_time - start_time\n",
        "\n",
        "print(f\"Время выполнения: {execution_time} секунд\")\n",
        "\n",
        "boosting_predictions = boosting_clf.predict(X_test)\n",
        "\n",
        "boosting_accuracy = accuracy_score(y_test, boosting_predictions)\n",
        "print(f\"Точность бустинга: {boosting_accuracy:.2%}\")"
      ],
      "metadata": {
        "colab": {
          "base_uri": "https://localhost:8080/"
        },
        "id": "eyJESKlMJK3d",
        "outputId": "499deea9-a4d2-4906-f90c-9db0a6f1ad85"
      },
      "execution_count": null,
      "outputs": [
        {
          "output_type": "stream",
          "name": "stdout",
          "text": [
            "Время выполнения: 0.20139741897583008 секунд\n",
            "Точность бустинга: 21.94%\n"
          ]
        }
      ]
    },
    {
      "cell_type": "code",
      "source": [
        "digits = datasets.load_digits()\n",
        "X, y = digits.data, digits.target\n",
        "\n",
        "X_train, X_test, y_train, y_test = train_test_split(X, y, test_size=0.2, random_state=42)\n",
        "\n",
        "n_estimators = 100  # количество деревьев\n",
        "learning_rate = 0.1  # скорость обучения\n",
        "\n",
        "model = GradientBoostingClassifier(n_estimators=n_estimators, learning_rate=learning_rate, random_state=42)\n",
        "\n",
        "start_time = time.time()\n",
        "\n",
        "model.fit(X_train, y_train)\n",
        "\n",
        "end_time = time.time()\n",
        "gradientBoosting_time = end_time - start_time\n",
        "\n",
        "print(f\"Время выполнения: {gradientBoosting_time} секунд\")\n",
        "\n",
        "y_pred = model.predict(X_test)\n",
        "\n",
        "accuracy = accuracy_score(y_test, y_pred)\n",
        "print(f\"Accuracy: {accuracy}\")"
      ],
      "metadata": {
        "colab": {
          "base_uri": "https://localhost:8080/"
        },
        "id": "yDDxQgT2MH5V",
        "outputId": "6926db6d-185f-4b65-86d3-299439cb37ec"
      },
      "execution_count": null,
      "outputs": [
        {
          "output_type": "stream",
          "name": "stdout",
          "text": [
            "Время выполнения: 12.90369462966919 секунд\n",
            "Accuracy: 0.9694444444444444\n"
          ]
        }
      ]
    },
    {
      "cell_type": "code",
      "source": [
        "data = datasets.fetch_covtype()"
      ],
      "metadata": {
        "id": "iUmj9PcmvQHp"
      },
      "execution_count": null,
      "outputs": []
    },
    {
      "cell_type": "code",
      "source": [
        "predicts = data.data\n",
        "target = data.target"
      ],
      "metadata": {
        "id": "VF9NDE-3vnjf"
      },
      "execution_count": null,
      "outputs": []
    },
    {
      "cell_type": "code",
      "source": [
        "predicts.shape"
      ],
      "metadata": {
        "colab": {
          "base_uri": "https://localhost:8080/"
        },
        "id": "PMMFllEsv2c8",
        "outputId": "32a3fd96-66d0-4b31-f583-8b3c258cd90f"
      },
      "execution_count": null,
      "outputs": [
        {
          "output_type": "execute_result",
          "data": {
            "text/plain": [
              "(581012, 54)"
            ]
          },
          "metadata": {},
          "execution_count": 61
        }
      ]
    },
    {
      "cell_type": "code",
      "source": [
        "x_train, x_test, y_train, y_test = train_test_split(predicts, target, train_size=0.8)"
      ],
      "metadata": {
        "id": "zCMp9OOnvfLP"
      },
      "execution_count": null,
      "outputs": []
    },
    {
      "cell_type": "code",
      "source": [
        "x_train.shape"
      ],
      "metadata": {
        "colab": {
          "base_uri": "https://localhost:8080/"
        },
        "id": "Bph1Hvm0wBrn",
        "outputId": "2313fb58-a33b-403a-f66d-e9bd35467c8a"
      },
      "execution_count": null,
      "outputs": [
        {
          "output_type": "execute_result",
          "data": {
            "text/plain": [
              "(464809, 54)"
            ]
          },
          "metadata": {},
          "execution_count": 66
        }
      ]
    },
    {
      "cell_type": "code",
      "source": [
        "start_time = time.time()\n",
        "\n",
        "random_forest  = RandomForestClassifier(max_depth = 15, min_samples_split = 10).fit(x_train, y_train)\n",
        "\n",
        "\n",
        "end_time = time.time()\n",
        "random_forest_time = end_time - start_time\n",
        "\n",
        "print(f\"Время выполнения: {random_forest_time} секунд\")"
      ],
      "metadata": {
        "colab": {
          "base_uri": "https://localhost:8080/"
        },
        "id": "6r11BVuzQcSI",
        "outputId": "e8850bbd-a708-4ec1-82c3-6a18ee78ebe7"
      },
      "execution_count": null,
      "outputs": [
        {
          "output_type": "stream",
          "name": "stdout",
          "text": [
            "Время выполнения: 90.88443303108215 секунд\n"
          ]
        }
      ]
    },
    {
      "cell_type": "code",
      "source": [
        "y_preds = random_forest.predict(x_train)\n",
        "print(\"F1 Мера для test\", f1_score(y_preds, y_train, average='macro'))"
      ],
      "metadata": {
        "colab": {
          "base_uri": "https://localhost:8080/"
        },
        "outputId": "eacfd09f-8fe9-41a3-94aa-f31f1c571114",
        "id": "5Tfi3QfFWO_g"
      },
      "execution_count": null,
      "outputs": [
        {
          "output_type": "stream",
          "name": "stdout",
          "text": [
            "F1 Мера для test 0.7725249875858847\n"
          ]
        }
      ]
    },
    {
      "cell_type": "code",
      "source": [
        "y_preds = random_forest.predict(x_test)\n",
        "print(\"F1 Мера для test\", f1_score(y_preds, y_test, average='macro'))"
      ],
      "metadata": {
        "colab": {
          "base_uri": "https://localhost:8080/"
        },
        "id": "AzGegEjrS55Y",
        "outputId": "eeccd352-dc59-4eea-e606-72a47d582cdc"
      },
      "execution_count": null,
      "outputs": [
        {
          "output_type": "stream",
          "name": "stdout",
          "text": [
            "F1 Мера для test 0.742042862207338\n"
          ]
        }
      ]
    },
    {
      "cell_type": "code",
      "source": [
        "random_forest = RandomForestClassifier()"
      ],
      "metadata": {
        "id": "FNA890FOcii7"
      },
      "execution_count": null,
      "outputs": []
    },
    {
      "cell_type": "code",
      "source": [
        "params_grid = {\n",
        "    \"max_depth\": [12,18],\n",
        "    \"min_samples_leaf\": [3, 10],\n",
        "    \"min_samples_split\": [6, 10],\n",
        "}\n",
        "\n",
        "grid_search_random_forest = GridSearchCV(estimator = random_forest,\n",
        "                                        param_grid=params_grid,\n",
        "                                        scoring = \"f1_macro\",\n",
        "                                        cv = 4)\n",
        "start_time = time.time()\n",
        "\n",
        "grid_search_random_forest.fit(x_train, y_train)\n",
        "\n",
        "end_time = time.time()\n",
        "gridSearch_time = end_time - start_time\n",
        "\n",
        "print(f\"Время выполнения: {gridSearch_time} секунд\")"
      ],
      "metadata": {
        "colab": {
          "base_uri": "https://localhost:8080/"
        },
        "id": "_Lxjh4RxbbTq",
        "outputId": "616678bf-d3eb-4cd9-dd9a-a75f837d1d51"
      },
      "execution_count": null,
      "outputs": [
        {
          "output_type": "stream",
          "name": "stdout",
          "text": [
            "Время выполнения: 1803.883356809616 секунд\n"
          ]
        }
      ]
    },
    {
      "cell_type": "code",
      "source": [
        "best_model = grid_search_random_forest.best_estimator_"
      ],
      "metadata": {
        "id": "MTaIFu8Hc-Nw"
      },
      "execution_count": null,
      "outputs": []
    },
    {
      "cell_type": "code",
      "source": [
        "y_preds_d = best_model.predict(x_train)\n",
        "print(\"F1 Мера для train\", f1_score(y_preds_d, y_train, average='macro'))"
      ],
      "metadata": {
        "colab": {
          "base_uri": "https://localhost:8080/"
        },
        "id": "3qG8tfsnc43B",
        "outputId": "707ee6dd-2a97-4960-ede4-b76c1de91059"
      },
      "execution_count": null,
      "outputs": [
        {
          "output_type": "stream",
          "name": "stdout",
          "text": [
            "F1 Мера для train 0.8377171071681838\n"
          ]
        }
      ]
    },
    {
      "cell_type": "code",
      "source": [
        "y_preds = best_model.predict(x_test)\n",
        "print(\"F1 Мера для test\", f1_score(y_preds, y_test, average='macro'))"
      ],
      "metadata": {
        "colab": {
          "base_uri": "https://localhost:8080/"
        },
        "id": "KALVIgwuc6kr",
        "outputId": "93aa6878-3948-4573-8e56-a4c95801b116"
      },
      "execution_count": null,
      "outputs": [
        {
          "output_type": "stream",
          "name": "stdout",
          "text": [
            "F1 Мера для test 0.7989367141391812\n"
          ]
        }
      ]
    },
    {
      "cell_type": "code",
      "source": [
        "!pip install catboost"
      ],
      "metadata": {
        "colab": {
          "base_uri": "https://localhost:8080/"
        },
        "id": "4sSygzxRe-JL",
        "outputId": "7f0c2dbb-3c8c-4060-b3ae-780e9cdc6406"
      },
      "execution_count": null,
      "outputs": [
        {
          "output_type": "stream",
          "name": "stdout",
          "text": [
            "Collecting catboost\n",
            "  Downloading catboost-1.2.2-cp310-cp310-manylinux2014_x86_64.whl (98.7 MB)\n",
            "\u001b[2K     \u001b[90m━━━━━━━━━━━━━━━━━━━━━━━━━━━━━━━━━━━━━━━━\u001b[0m \u001b[32m98.7/98.7 MB\u001b[0m \u001b[31m10.7 MB/s\u001b[0m eta \u001b[36m0:00:00\u001b[0m\n",
            "\u001b[?25hRequirement already satisfied: graphviz in /usr/local/lib/python3.10/dist-packages (from catboost) (0.20.1)\n",
            "Requirement already satisfied: matplotlib in /usr/local/lib/python3.10/dist-packages (from catboost) (3.7.1)\n",
            "Requirement already satisfied: numpy>=1.16.0 in /usr/local/lib/python3.10/dist-packages (from catboost) (1.23.5)\n",
            "Requirement already satisfied: pandas>=0.24 in /usr/local/lib/python3.10/dist-packages (from catboost) (1.5.3)\n",
            "Requirement already satisfied: scipy in /usr/local/lib/python3.10/dist-packages (from catboost) (1.11.3)\n",
            "Requirement already satisfied: plotly in /usr/local/lib/python3.10/dist-packages (from catboost) (5.15.0)\n",
            "Requirement already satisfied: six in /usr/local/lib/python3.10/dist-packages (from catboost) (1.16.0)\n",
            "Requirement already satisfied: python-dateutil>=2.8.1 in /usr/local/lib/python3.10/dist-packages (from pandas>=0.24->catboost) (2.8.2)\n",
            "Requirement already satisfied: pytz>=2020.1 in /usr/local/lib/python3.10/dist-packages (from pandas>=0.24->catboost) (2023.3.post1)\n",
            "Requirement already satisfied: contourpy>=1.0.1 in /usr/local/lib/python3.10/dist-packages (from matplotlib->catboost) (1.2.0)\n",
            "Requirement already satisfied: cycler>=0.10 in /usr/local/lib/python3.10/dist-packages (from matplotlib->catboost) (0.12.1)\n",
            "Requirement already satisfied: fonttools>=4.22.0 in /usr/local/lib/python3.10/dist-packages (from matplotlib->catboost) (4.44.3)\n",
            "Requirement already satisfied: kiwisolver>=1.0.1 in /usr/local/lib/python3.10/dist-packages (from matplotlib->catboost) (1.4.5)\n",
            "Requirement already satisfied: packaging>=20.0 in /usr/local/lib/python3.10/dist-packages (from matplotlib->catboost) (23.2)\n",
            "Requirement already satisfied: pillow>=6.2.0 in /usr/local/lib/python3.10/dist-packages (from matplotlib->catboost) (9.4.0)\n",
            "Requirement already satisfied: pyparsing>=2.3.1 in /usr/local/lib/python3.10/dist-packages (from matplotlib->catboost) (3.1.1)\n",
            "Requirement already satisfied: tenacity>=6.2.0 in /usr/local/lib/python3.10/dist-packages (from plotly->catboost) (8.2.3)\n",
            "Installing collected packages: catboost\n",
            "Successfully installed catboost-1.2.2\n"
          ]
        }
      ]
    },
    {
      "cell_type": "code",
      "source": [
        "import catboost as cb"
      ],
      "metadata": {
        "id": "oPFeGNFbduo0"
      },
      "execution_count": null,
      "outputs": []
    },
    {
      "cell_type": "code",
      "source": [
        "model_catboost_clf = cb.CatBoostClassifier(iterations = 300, task_type=\"GPU\",\n",
        "                                           devices='0')\n",
        "start_time = time.time()\n",
        "model_catboost_clf.fit(x_train, y_train)\n",
        "end_time = time.time()\n",
        "сatBoost_time = end_time - start_time\n",
        "\n",
        "print(f\"Время выполнения: {сatBoost_time} секунд\")"
      ],
      "metadata": {
        "colab": {
          "base_uri": "https://localhost:8080/"
        },
        "id": "WM2CpaEYddRU",
        "outputId": "71fd200b-3542-435d-879c-a8a7160a8d40"
      },
      "execution_count": null,
      "outputs": [
        {
          "output_type": "stream",
          "name": "stdout",
          "text": [
            "Learning rate set to 0.5\n",
            "0:\tlearn: 1.0168366\ttotal: 60ms\tremaining: 18s\n",
            "1:\tlearn: 0.8576096\ttotal: 115ms\tremaining: 17.1s\n",
            "2:\tlearn: 0.7822061\ttotal: 172ms\tremaining: 17.1s\n",
            "3:\tlearn: 0.7299309\ttotal: 229ms\tremaining: 16.9s\n",
            "4:\tlearn: 0.6971114\ttotal: 287ms\tremaining: 16.9s\n",
            "5:\tlearn: 0.6735819\ttotal: 343ms\tremaining: 16.8s\n",
            "6:\tlearn: 0.6583273\ttotal: 403ms\tremaining: 16.9s\n",
            "7:\tlearn: 0.6472326\ttotal: 460ms\tremaining: 16.8s\n",
            "8:\tlearn: 0.6347635\ttotal: 508ms\tremaining: 16.4s\n",
            "9:\tlearn: 0.6232398\ttotal: 581ms\tremaining: 16.9s\n",
            "10:\tlearn: 0.6136769\ttotal: 651ms\tremaining: 17.1s\n",
            "11:\tlearn: 0.6046227\ttotal: 719ms\tremaining: 17.2s\n",
            "12:\tlearn: 0.5930806\ttotal: 796ms\tremaining: 17.6s\n",
            "13:\tlearn: 0.5846079\ttotal: 865ms\tremaining: 17.7s\n",
            "14:\tlearn: 0.5775123\ttotal: 939ms\tremaining: 17.8s\n",
            "15:\tlearn: 0.5697372\ttotal: 1.02s\tremaining: 18.1s\n",
            "16:\tlearn: 0.5636034\ttotal: 1.09s\tremaining: 18.1s\n",
            "17:\tlearn: 0.5596001\ttotal: 1.16s\tremaining: 18.1s\n",
            "18:\tlearn: 0.5537275\ttotal: 1.23s\tremaining: 18.2s\n",
            "19:\tlearn: 0.5471781\ttotal: 1.3s\tremaining: 18.3s\n",
            "20:\tlearn: 0.5446029\ttotal: 1.36s\tremaining: 18.1s\n",
            "21:\tlearn: 0.5404677\ttotal: 1.44s\tremaining: 18.1s\n",
            "22:\tlearn: 0.5357523\ttotal: 1.51s\tremaining: 18.1s\n",
            "23:\tlearn: 0.5324328\ttotal: 1.57s\tremaining: 18.1s\n",
            "24:\tlearn: 0.5288165\ttotal: 1.65s\tremaining: 18.1s\n",
            "25:\tlearn: 0.5258109\ttotal: 1.72s\tremaining: 18.1s\n",
            "26:\tlearn: 0.5210432\ttotal: 1.77s\tremaining: 17.9s\n",
            "27:\tlearn: 0.5171550\ttotal: 1.84s\tremaining: 17.9s\n",
            "28:\tlearn: 0.5123717\ttotal: 1.91s\tremaining: 17.8s\n",
            "29:\tlearn: 0.5091290\ttotal: 1.98s\tremaining: 17.8s\n",
            "30:\tlearn: 0.5057423\ttotal: 2.03s\tremaining: 17.6s\n",
            "31:\tlearn: 0.5025259\ttotal: 2.09s\tremaining: 17.5s\n",
            "32:\tlearn: 0.5004375\ttotal: 2.16s\tremaining: 17.5s\n",
            "33:\tlearn: 0.4955741\ttotal: 2.23s\tremaining: 17.5s\n",
            "34:\tlearn: 0.4940602\ttotal: 2.28s\tremaining: 17.3s\n",
            "35:\tlearn: 0.4904977\ttotal: 2.34s\tremaining: 17.1s\n",
            "36:\tlearn: 0.4875706\ttotal: 2.39s\tremaining: 17s\n",
            "37:\tlearn: 0.4848891\ttotal: 2.42s\tremaining: 16.7s\n",
            "38:\tlearn: 0.4808373\ttotal: 2.48s\tremaining: 16.6s\n",
            "39:\tlearn: 0.4772478\ttotal: 2.54s\tremaining: 16.5s\n",
            "40:\tlearn: 0.4759909\ttotal: 2.6s\tremaining: 16.4s\n",
            "41:\tlearn: 0.4735381\ttotal: 2.63s\tremaining: 16.2s\n",
            "42:\tlearn: 0.4711152\ttotal: 2.7s\tremaining: 16.1s\n",
            "43:\tlearn: 0.4668432\ttotal: 2.73s\tremaining: 15.9s\n",
            "44:\tlearn: 0.4633135\ttotal: 2.77s\tremaining: 15.7s\n",
            "45:\tlearn: 0.4614789\ttotal: 2.79s\tremaining: 15.4s\n",
            "46:\tlearn: 0.4578791\ttotal: 2.81s\tremaining: 15.1s\n",
            "47:\tlearn: 0.4564045\ttotal: 2.83s\tremaining: 14.9s\n",
            "48:\tlearn: 0.4543344\ttotal: 2.85s\tremaining: 14.6s\n",
            "49:\tlearn: 0.4517496\ttotal: 2.88s\tremaining: 14.4s\n",
            "50:\tlearn: 0.4492636\ttotal: 2.9s\tremaining: 14.1s\n",
            "51:\tlearn: 0.4473606\ttotal: 2.92s\tremaining: 13.9s\n",
            "52:\tlearn: 0.4449247\ttotal: 2.95s\tremaining: 13.7s\n",
            "53:\tlearn: 0.4437569\ttotal: 2.96s\tremaining: 13.5s\n",
            "54:\tlearn: 0.4426088\ttotal: 2.98s\tremaining: 13.3s\n",
            "55:\tlearn: 0.4410191\ttotal: 2.99s\tremaining: 13s\n",
            "56:\tlearn: 0.4402724\ttotal: 3.01s\tremaining: 12.8s\n",
            "57:\tlearn: 0.4386622\ttotal: 3.02s\tremaining: 12.6s\n",
            "58:\tlearn: 0.4373829\ttotal: 3.04s\tremaining: 12.4s\n",
            "59:\tlearn: 0.4363460\ttotal: 3.05s\tremaining: 12.2s\n",
            "60:\tlearn: 0.4343345\ttotal: 3.07s\tremaining: 12s\n",
            "61:\tlearn: 0.4326156\ttotal: 3.08s\tremaining: 11.8s\n",
            "62:\tlearn: 0.4314841\ttotal: 3.1s\tremaining: 11.7s\n",
            "63:\tlearn: 0.4301652\ttotal: 3.11s\tremaining: 11.5s\n",
            "64:\tlearn: 0.4271446\ttotal: 3.13s\tremaining: 11.3s\n",
            "65:\tlearn: 0.4250871\ttotal: 3.14s\tremaining: 11.1s\n",
            "66:\tlearn: 0.4233134\ttotal: 3.15s\tremaining: 11s\n",
            "67:\tlearn: 0.4210896\ttotal: 3.17s\tremaining: 10.8s\n",
            "68:\tlearn: 0.4192998\ttotal: 3.18s\tremaining: 10.7s\n",
            "69:\tlearn: 0.4170448\ttotal: 3.19s\tremaining: 10.5s\n",
            "70:\tlearn: 0.4156285\ttotal: 3.21s\tremaining: 10.3s\n",
            "71:\tlearn: 0.4144059\ttotal: 3.22s\tremaining: 10.2s\n",
            "72:\tlearn: 0.4133210\ttotal: 3.23s\tremaining: 10s\n",
            "73:\tlearn: 0.4124900\ttotal: 3.24s\tremaining: 9.91s\n",
            "74:\tlearn: 0.4115174\ttotal: 3.26s\tremaining: 9.77s\n",
            "75:\tlearn: 0.4108163\ttotal: 3.27s\tremaining: 9.64s\n",
            "76:\tlearn: 0.4092117\ttotal: 3.28s\tremaining: 9.51s\n",
            "77:\tlearn: 0.4073141\ttotal: 3.3s\tremaining: 9.38s\n",
            "78:\tlearn: 0.4065306\ttotal: 3.31s\tremaining: 9.26s\n",
            "79:\tlearn: 0.4049586\ttotal: 3.32s\tremaining: 9.14s\n",
            "80:\tlearn: 0.4039105\ttotal: 3.34s\tremaining: 9.03s\n",
            "81:\tlearn: 0.4032043\ttotal: 3.35s\tremaining: 8.91s\n",
            "82:\tlearn: 0.4019132\ttotal: 3.37s\tremaining: 8.8s\n",
            "83:\tlearn: 0.4006269\ttotal: 3.38s\tremaining: 8.69s\n",
            "84:\tlearn: 0.3998998\ttotal: 3.39s\tremaining: 8.58s\n",
            "85:\tlearn: 0.3977376\ttotal: 3.4s\tremaining: 8.47s\n",
            "86:\tlearn: 0.3959333\ttotal: 3.42s\tremaining: 8.38s\n",
            "87:\tlearn: 0.3945277\ttotal: 3.43s\tremaining: 8.27s\n",
            "88:\tlearn: 0.3932715\ttotal: 3.45s\tremaining: 8.17s\n",
            "89:\tlearn: 0.3922887\ttotal: 3.47s\tremaining: 8.09s\n",
            "90:\tlearn: 0.3909003\ttotal: 3.48s\tremaining: 8s\n",
            "91:\tlearn: 0.3898319\ttotal: 3.49s\tremaining: 7.9s\n",
            "92:\tlearn: 0.3884833\ttotal: 3.51s\tremaining: 7.81s\n",
            "93:\tlearn: 0.3873617\ttotal: 3.52s\tremaining: 7.72s\n",
            "94:\tlearn: 0.3864361\ttotal: 3.53s\tremaining: 7.62s\n",
            "95:\tlearn: 0.3852541\ttotal: 3.55s\tremaining: 7.54s\n",
            "96:\tlearn: 0.3845352\ttotal: 3.56s\tremaining: 7.46s\n",
            "97:\tlearn: 0.3831172\ttotal: 3.58s\tremaining: 7.38s\n",
            "98:\tlearn: 0.3821903\ttotal: 3.59s\tremaining: 7.29s\n",
            "99:\tlearn: 0.3808285\ttotal: 3.6s\tremaining: 7.21s\n",
            "100:\tlearn: 0.3799390\ttotal: 3.62s\tremaining: 7.13s\n",
            "101:\tlearn: 0.3788444\ttotal: 3.63s\tremaining: 7.05s\n",
            "102:\tlearn: 0.3774886\ttotal: 3.64s\tremaining: 6.97s\n",
            "103:\tlearn: 0.3766008\ttotal: 3.66s\tremaining: 6.89s\n",
            "104:\tlearn: 0.3755737\ttotal: 3.67s\tremaining: 6.82s\n",
            "105:\tlearn: 0.3739924\ttotal: 3.68s\tremaining: 6.74s\n",
            "106:\tlearn: 0.3729528\ttotal: 3.7s\tremaining: 6.67s\n",
            "107:\tlearn: 0.3718199\ttotal: 3.71s\tremaining: 6.6s\n",
            "108:\tlearn: 0.3712021\ttotal: 3.73s\tremaining: 6.53s\n",
            "109:\tlearn: 0.3705762\ttotal: 3.74s\tremaining: 6.46s\n",
            "110:\tlearn: 0.3692913\ttotal: 3.76s\tremaining: 6.39s\n",
            "111:\tlearn: 0.3688533\ttotal: 3.77s\tremaining: 6.33s\n",
            "112:\tlearn: 0.3671821\ttotal: 3.78s\tremaining: 6.26s\n",
            "113:\tlearn: 0.3666147\ttotal: 3.79s\tremaining: 6.19s\n",
            "114:\tlearn: 0.3650981\ttotal: 3.81s\tremaining: 6.13s\n",
            "115:\tlearn: 0.3644406\ttotal: 3.82s\tremaining: 6.06s\n",
            "116:\tlearn: 0.3632026\ttotal: 3.83s\tremaining: 6s\n",
            "117:\tlearn: 0.3620187\ttotal: 3.85s\tremaining: 5.94s\n",
            "118:\tlearn: 0.3612860\ttotal: 3.86s\tremaining: 5.87s\n",
            "119:\tlearn: 0.3607165\ttotal: 3.87s\tremaining: 5.81s\n",
            "120:\tlearn: 0.3600847\ttotal: 3.89s\tremaining: 5.75s\n",
            "121:\tlearn: 0.3595990\ttotal: 3.9s\tremaining: 5.69s\n",
            "122:\tlearn: 0.3592226\ttotal: 3.92s\tremaining: 5.65s\n",
            "123:\tlearn: 0.3582400\ttotal: 3.94s\tremaining: 5.59s\n",
            "124:\tlearn: 0.3573913\ttotal: 3.96s\tremaining: 5.54s\n",
            "125:\tlearn: 0.3565621\ttotal: 3.97s\tremaining: 5.48s\n",
            "126:\tlearn: 0.3558173\ttotal: 3.98s\tremaining: 5.43s\n",
            "127:\tlearn: 0.3549747\ttotal: 4s\tremaining: 5.37s\n",
            "128:\tlearn: 0.3540409\ttotal: 4.01s\tremaining: 5.32s\n",
            "129:\tlearn: 0.3532064\ttotal: 4.02s\tremaining: 5.26s\n",
            "130:\tlearn: 0.3524733\ttotal: 4.04s\tremaining: 5.21s\n",
            "131:\tlearn: 0.3516313\ttotal: 4.05s\tremaining: 5.16s\n",
            "132:\tlearn: 0.3508764\ttotal: 4.07s\tremaining: 5.11s\n",
            "133:\tlearn: 0.3504203\ttotal: 4.08s\tremaining: 5.05s\n",
            "134:\tlearn: 0.3495151\ttotal: 4.09s\tremaining: 5s\n",
            "135:\tlearn: 0.3486723\ttotal: 4.11s\tremaining: 4.95s\n",
            "136:\tlearn: 0.3478317\ttotal: 4.12s\tremaining: 4.9s\n",
            "137:\tlearn: 0.3473289\ttotal: 4.13s\tremaining: 4.85s\n",
            "138:\tlearn: 0.3461347\ttotal: 4.14s\tremaining: 4.8s\n",
            "139:\tlearn: 0.3448459\ttotal: 4.16s\tremaining: 4.76s\n",
            "140:\tlearn: 0.3438549\ttotal: 4.17s\tremaining: 4.71s\n",
            "141:\tlearn: 0.3424969\ttotal: 4.19s\tremaining: 4.66s\n",
            "142:\tlearn: 0.3419372\ttotal: 4.2s\tremaining: 4.61s\n",
            "143:\tlearn: 0.3415455\ttotal: 4.22s\tremaining: 4.57s\n",
            "144:\tlearn: 0.3409629\ttotal: 4.23s\tremaining: 4.53s\n",
            "145:\tlearn: 0.3400594\ttotal: 4.25s\tremaining: 4.48s\n",
            "146:\tlearn: 0.3393365\ttotal: 4.26s\tremaining: 4.43s\n",
            "147:\tlearn: 0.3387548\ttotal: 4.27s\tremaining: 4.39s\n",
            "148:\tlearn: 0.3383024\ttotal: 4.29s\tremaining: 4.34s\n",
            "149:\tlearn: 0.3375408\ttotal: 4.3s\tremaining: 4.3s\n",
            "150:\tlearn: 0.3370636\ttotal: 4.31s\tremaining: 4.26s\n",
            "151:\tlearn: 0.3360809\ttotal: 4.33s\tremaining: 4.21s\n",
            "152:\tlearn: 0.3352089\ttotal: 4.34s\tremaining: 4.17s\n",
            "153:\tlearn: 0.3344233\ttotal: 4.35s\tremaining: 4.13s\n",
            "154:\tlearn: 0.3337868\ttotal: 4.37s\tremaining: 4.09s\n",
            "155:\tlearn: 0.3332408\ttotal: 4.38s\tremaining: 4.05s\n",
            "156:\tlearn: 0.3324478\ttotal: 4.4s\tremaining: 4.01s\n",
            "157:\tlearn: 0.3315424\ttotal: 4.41s\tremaining: 3.96s\n",
            "158:\tlearn: 0.3304820\ttotal: 4.42s\tremaining: 3.92s\n",
            "159:\tlearn: 0.3295499\ttotal: 4.44s\tremaining: 3.88s\n",
            "160:\tlearn: 0.3287482\ttotal: 4.46s\tremaining: 3.85s\n",
            "161:\tlearn: 0.3280722\ttotal: 4.47s\tremaining: 3.81s\n",
            "162:\tlearn: 0.3277205\ttotal: 4.48s\tremaining: 3.77s\n",
            "163:\tlearn: 0.3265806\ttotal: 4.49s\tremaining: 3.73s\n",
            "164:\tlearn: 0.3258444\ttotal: 4.51s\tremaining: 3.69s\n",
            "165:\tlearn: 0.3250873\ttotal: 4.52s\tremaining: 3.65s\n",
            "166:\tlearn: 0.3244289\ttotal: 4.54s\tremaining: 3.61s\n",
            "167:\tlearn: 0.3236173\ttotal: 4.55s\tremaining: 3.57s\n",
            "168:\tlearn: 0.3232232\ttotal: 4.56s\tremaining: 3.54s\n",
            "169:\tlearn: 0.3226689\ttotal: 4.58s\tremaining: 3.5s\n",
            "170:\tlearn: 0.3221916\ttotal: 4.59s\tremaining: 3.46s\n",
            "171:\tlearn: 0.3217695\ttotal: 4.6s\tremaining: 3.42s\n",
            "172:\tlearn: 0.3209932\ttotal: 4.62s\tremaining: 3.39s\n",
            "173:\tlearn: 0.3201374\ttotal: 4.63s\tremaining: 3.35s\n",
            "174:\tlearn: 0.3198394\ttotal: 4.64s\tremaining: 3.32s\n",
            "175:\tlearn: 0.3189229\ttotal: 4.66s\tremaining: 3.28s\n",
            "176:\tlearn: 0.3187136\ttotal: 4.67s\tremaining: 3.24s\n",
            "177:\tlearn: 0.3179893\ttotal: 4.68s\tremaining: 3.21s\n",
            "178:\tlearn: 0.3176791\ttotal: 4.69s\tremaining: 3.17s\n",
            "179:\tlearn: 0.3169096\ttotal: 4.71s\tremaining: 3.14s\n",
            "180:\tlearn: 0.3161274\ttotal: 4.72s\tremaining: 3.1s\n",
            "181:\tlearn: 0.3156844\ttotal: 4.73s\tremaining: 3.07s\n",
            "182:\tlearn: 0.3153317\ttotal: 4.75s\tremaining: 3.03s\n",
            "183:\tlearn: 0.3149794\ttotal: 4.76s\tremaining: 3s\n",
            "184:\tlearn: 0.3144458\ttotal: 4.77s\tremaining: 2.97s\n",
            "185:\tlearn: 0.3139118\ttotal: 4.79s\tremaining: 2.94s\n",
            "186:\tlearn: 0.3135597\ttotal: 4.8s\tremaining: 2.9s\n",
            "187:\tlearn: 0.3131578\ttotal: 4.81s\tremaining: 2.87s\n",
            "188:\tlearn: 0.3126693\ttotal: 4.83s\tremaining: 2.83s\n",
            "189:\tlearn: 0.3119501\ttotal: 4.84s\tremaining: 2.8s\n",
            "190:\tlearn: 0.3114389\ttotal: 4.85s\tremaining: 2.77s\n",
            "191:\tlearn: 0.3104113\ttotal: 4.87s\tremaining: 2.74s\n",
            "192:\tlearn: 0.3099336\ttotal: 4.88s\tremaining: 2.71s\n",
            "193:\tlearn: 0.3088619\ttotal: 4.9s\tremaining: 2.68s\n",
            "194:\tlearn: 0.3082877\ttotal: 4.92s\tremaining: 2.65s\n",
            "195:\tlearn: 0.3077666\ttotal: 4.93s\tremaining: 2.62s\n",
            "196:\tlearn: 0.3071448\ttotal: 4.95s\tremaining: 2.59s\n",
            "197:\tlearn: 0.3066771\ttotal: 4.96s\tremaining: 2.56s\n",
            "198:\tlearn: 0.3062478\ttotal: 4.98s\tremaining: 2.53s\n",
            "199:\tlearn: 0.3059159\ttotal: 5s\tremaining: 2.5s\n",
            "200:\tlearn: 0.3052807\ttotal: 5.01s\tremaining: 2.47s\n",
            "201:\tlearn: 0.3042890\ttotal: 5.03s\tremaining: 2.44s\n",
            "202:\tlearn: 0.3034856\ttotal: 5.04s\tremaining: 2.41s\n",
            "203:\tlearn: 0.3033048\ttotal: 5.05s\tremaining: 2.38s\n",
            "204:\tlearn: 0.3030996\ttotal: 5.07s\tremaining: 2.35s\n",
            "205:\tlearn: 0.3025471\ttotal: 5.08s\tremaining: 2.32s\n",
            "206:\tlearn: 0.3021862\ttotal: 5.1s\tremaining: 2.29s\n",
            "207:\tlearn: 0.3015812\ttotal: 5.11s\tremaining: 2.26s\n",
            "208:\tlearn: 0.3007746\ttotal: 5.12s\tremaining: 2.23s\n",
            "209:\tlearn: 0.3003884\ttotal: 5.14s\tremaining: 2.2s\n",
            "210:\tlearn: 0.2996199\ttotal: 5.15s\tremaining: 2.17s\n",
            "211:\tlearn: 0.2990328\ttotal: 5.16s\tremaining: 2.14s\n",
            "212:\tlearn: 0.2983502\ttotal: 5.18s\tremaining: 2.11s\n",
            "213:\tlearn: 0.2979092\ttotal: 5.19s\tremaining: 2.09s\n",
            "214:\tlearn: 0.2975902\ttotal: 5.21s\tremaining: 2.06s\n",
            "215:\tlearn: 0.2971849\ttotal: 5.22s\tremaining: 2.03s\n",
            "216:\tlearn: 0.2966689\ttotal: 5.24s\tremaining: 2s\n",
            "217:\tlearn: 0.2958803\ttotal: 5.25s\tremaining: 1.97s\n",
            "218:\tlearn: 0.2954926\ttotal: 5.26s\tremaining: 1.95s\n",
            "219:\tlearn: 0.2948155\ttotal: 5.28s\tremaining: 1.92s\n",
            "220:\tlearn: 0.2945221\ttotal: 5.29s\tremaining: 1.89s\n",
            "221:\tlearn: 0.2940493\ttotal: 5.3s\tremaining: 1.86s\n",
            "222:\tlearn: 0.2936131\ttotal: 5.31s\tremaining: 1.83s\n",
            "223:\tlearn: 0.2932943\ttotal: 5.33s\tremaining: 1.81s\n",
            "224:\tlearn: 0.2927633\ttotal: 5.34s\tremaining: 1.78s\n",
            "225:\tlearn: 0.2921819\ttotal: 5.35s\tremaining: 1.75s\n",
            "226:\tlearn: 0.2915905\ttotal: 5.37s\tremaining: 1.73s\n",
            "227:\tlearn: 0.2912092\ttotal: 5.38s\tremaining: 1.7s\n",
            "228:\tlearn: 0.2906057\ttotal: 5.39s\tremaining: 1.67s\n",
            "229:\tlearn: 0.2900563\ttotal: 5.41s\tremaining: 1.65s\n",
            "230:\tlearn: 0.2890022\ttotal: 5.43s\tremaining: 1.62s\n",
            "231:\tlearn: 0.2881629\ttotal: 5.45s\tremaining: 1.59s\n",
            "232:\tlearn: 0.2876480\ttotal: 5.46s\tremaining: 1.57s\n",
            "233:\tlearn: 0.2871113\ttotal: 5.47s\tremaining: 1.54s\n",
            "234:\tlearn: 0.2868486\ttotal: 5.48s\tremaining: 1.52s\n",
            "235:\tlearn: 0.2866078\ttotal: 5.5s\tremaining: 1.49s\n",
            "236:\tlearn: 0.2862171\ttotal: 5.51s\tremaining: 1.46s\n",
            "237:\tlearn: 0.2858570\ttotal: 5.52s\tremaining: 1.44s\n",
            "238:\tlearn: 0.2854819\ttotal: 5.53s\tremaining: 1.41s\n",
            "239:\tlearn: 0.2850460\ttotal: 5.55s\tremaining: 1.39s\n",
            "240:\tlearn: 0.2845201\ttotal: 5.56s\tremaining: 1.36s\n",
            "241:\tlearn: 0.2842628\ttotal: 5.57s\tremaining: 1.33s\n",
            "242:\tlearn: 0.2836114\ttotal: 5.59s\tremaining: 1.31s\n",
            "243:\tlearn: 0.2833436\ttotal: 5.6s\tremaining: 1.28s\n",
            "244:\tlearn: 0.2827818\ttotal: 5.62s\tremaining: 1.26s\n",
            "245:\tlearn: 0.2824474\ttotal: 5.63s\tremaining: 1.24s\n",
            "246:\tlearn: 0.2819624\ttotal: 5.64s\tremaining: 1.21s\n",
            "247:\tlearn: 0.2816268\ttotal: 5.66s\tremaining: 1.19s\n",
            "248:\tlearn: 0.2814520\ttotal: 5.67s\tremaining: 1.16s\n",
            "249:\tlearn: 0.2809747\ttotal: 5.68s\tremaining: 1.14s\n",
            "250:\tlearn: 0.2806947\ttotal: 5.7s\tremaining: 1.11s\n",
            "251:\tlearn: 0.2804879\ttotal: 5.71s\tremaining: 1.09s\n",
            "252:\tlearn: 0.2796312\ttotal: 5.72s\tremaining: 1.06s\n",
            "253:\tlearn: 0.2791939\ttotal: 5.74s\tremaining: 1.04s\n",
            "254:\tlearn: 0.2787616\ttotal: 5.75s\tremaining: 1.01s\n",
            "255:\tlearn: 0.2785495\ttotal: 5.76s\tremaining: 990ms\n",
            "256:\tlearn: 0.2782565\ttotal: 5.78s\tremaining: 967ms\n",
            "257:\tlearn: 0.2777128\ttotal: 5.8s\tremaining: 944ms\n",
            "258:\tlearn: 0.2772553\ttotal: 5.81s\tremaining: 920ms\n",
            "259:\tlearn: 0.2767539\ttotal: 5.83s\tremaining: 897ms\n",
            "260:\tlearn: 0.2763760\ttotal: 5.84s\tremaining: 873ms\n",
            "261:\tlearn: 0.2759325\ttotal: 5.86s\tremaining: 849ms\n",
            "262:\tlearn: 0.2755927\ttotal: 5.87s\tremaining: 826ms\n",
            "263:\tlearn: 0.2750384\ttotal: 5.88s\tremaining: 802ms\n",
            "264:\tlearn: 0.2747201\ttotal: 5.9s\tremaining: 779ms\n",
            "265:\tlearn: 0.2744653\ttotal: 5.91s\tremaining: 755ms\n",
            "266:\tlearn: 0.2738180\ttotal: 5.92s\tremaining: 732ms\n",
            "267:\tlearn: 0.2734906\ttotal: 5.95s\tremaining: 710ms\n",
            "268:\tlearn: 0.2733314\ttotal: 5.96s\tremaining: 687ms\n",
            "269:\tlearn: 0.2729522\ttotal: 5.97s\tremaining: 664ms\n",
            "270:\tlearn: 0.2726681\ttotal: 5.99s\tremaining: 641ms\n",
            "271:\tlearn: 0.2721988\ttotal: 6s\tremaining: 618ms\n",
            "272:\tlearn: 0.2717210\ttotal: 6.01s\tremaining: 595ms\n",
            "273:\tlearn: 0.2714695\ttotal: 6.03s\tremaining: 572ms\n",
            "274:\tlearn: 0.2711752\ttotal: 6.04s\tremaining: 549ms\n",
            "275:\tlearn: 0.2708886\ttotal: 6.06s\tremaining: 527ms\n",
            "276:\tlearn: 0.2706413\ttotal: 6.07s\tremaining: 504ms\n",
            "277:\tlearn: 0.2701922\ttotal: 6.08s\tremaining: 481ms\n",
            "278:\tlearn: 0.2699051\ttotal: 6.1s\tremaining: 459ms\n",
            "279:\tlearn: 0.2696701\ttotal: 6.11s\tremaining: 436ms\n",
            "280:\tlearn: 0.2691893\ttotal: 6.12s\tremaining: 414ms\n",
            "281:\tlearn: 0.2687071\ttotal: 6.14s\tremaining: 392ms\n",
            "282:\tlearn: 0.2685302\ttotal: 6.15s\tremaining: 370ms\n",
            "283:\tlearn: 0.2681730\ttotal: 6.17s\tremaining: 347ms\n",
            "284:\tlearn: 0.2678126\ttotal: 6.18s\tremaining: 325ms\n",
            "285:\tlearn: 0.2671410\ttotal: 6.19s\tremaining: 303ms\n",
            "286:\tlearn: 0.2667172\ttotal: 6.21s\tremaining: 281ms\n",
            "287:\tlearn: 0.2662319\ttotal: 6.22s\tremaining: 259ms\n",
            "288:\tlearn: 0.2660027\ttotal: 6.24s\tremaining: 237ms\n",
            "289:\tlearn: 0.2655317\ttotal: 6.25s\tremaining: 216ms\n",
            "290:\tlearn: 0.2651717\ttotal: 6.26s\tremaining: 194ms\n",
            "291:\tlearn: 0.2649931\ttotal: 6.28s\tremaining: 172ms\n",
            "292:\tlearn: 0.2644409\ttotal: 6.29s\tremaining: 150ms\n",
            "293:\tlearn: 0.2639668\ttotal: 6.31s\tremaining: 129ms\n",
            "294:\tlearn: 0.2634981\ttotal: 6.32s\tremaining: 107ms\n",
            "295:\tlearn: 0.2633865\ttotal: 6.33s\tremaining: 85.6ms\n",
            "296:\tlearn: 0.2629088\ttotal: 6.35s\tremaining: 64.1ms\n",
            "297:\tlearn: 0.2625459\ttotal: 6.36s\tremaining: 42.7ms\n",
            "298:\tlearn: 0.2622821\ttotal: 6.38s\tremaining: 21.3ms\n",
            "299:\tlearn: 0.2620418\ttotal: 6.39s\tremaining: 0us\n",
            "Время выполнения: 14.031530141830444 секунд\n"
          ]
        }
      ]
    },
    {
      "cell_type": "code",
      "source": [
        "y_preds_t = model_catboost_clf.predict(x_train, task_type=\"CPU\")\n",
        "print(\"F1 Мера для train\", f1_score(y_preds_t, y_train, average='macro'))"
      ],
      "metadata": {
        "colab": {
          "base_uri": "https://localhost:8080/"
        },
        "id": "uwV2boZSfD_O",
        "outputId": "52977a5c-1cd2-44df-9f44-9eaa7b8dd6da"
      },
      "execution_count": null,
      "outputs": [
        {
          "output_type": "stream",
          "name": "stdout",
          "text": [
            "F1 Мера для train 0.8724891920753434\n"
          ]
        }
      ]
    },
    {
      "cell_type": "code",
      "source": [
        "y_preds = model_catboost_clf.predict(x_test, task_type=\"CPU\")\n",
        "print(\"F1 Мера для test\", f1_score(y_preds, y_test, average='macro'))"
      ],
      "metadata": {
        "colab": {
          "base_uri": "https://localhost:8080/"
        },
        "id": "N8iZfRi4fIb0",
        "outputId": "f4b99605-b080-4071-901f-98d54c23068c"
      },
      "execution_count": null,
      "outputs": [
        {
          "output_type": "stream",
          "name": "stdout",
          "text": [
            "F1 Мера для test 0.8578681890775861\n"
          ]
        }
      ]
    },
    {
      "cell_type": "code",
      "source": [
        "print(\"CatBoost_time = \", сatBoost_time)\n",
        "print(\"gridSearch_time = \", gridSearch_time)\n",
        "print(\"random_forest_time = \", random_forest_time)\n",
        "\n",
        "print(\"\\nDigits: gradientBoosting_time = \", gradientBoosting_time)\n",
        "print(\"Digits: bagging_time = \", bagging_time)\n",
        "print(\"Digits: one_tree_time = \", one_tree_time)"
      ],
      "metadata": {
        "colab": {
          "base_uri": "https://localhost:8080/"
        },
        "id": "TcA7WF_gpYJd",
        "outputId": "9b160c6e-caf3-4d60-e773-8503c7c8cba5"
      },
      "execution_count": null,
      "outputs": [
        {
          "output_type": "stream",
          "name": "stdout",
          "text": [
            "CatBoost_time =  14.031530141830444\n",
            "gridSearch_time =  1803.883356809616\n",
            "random_forest_time =  90.88443303108215\n",
            "\n",
            "Digits: gradientBoosting_time =  12.90369462966919\n",
            "Digits: bagging_time =  0.6012158393859863\n",
            "Digits: one_tree_time =  0.029001951217651367\n"
          ]
        }
      ]
    }
  ]
}