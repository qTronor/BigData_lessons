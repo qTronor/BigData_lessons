{
  "nbformat": 4,
  "nbformat_minor": 0,
  "metadata": {
    "colab": {
      "provenance": [],
      "authorship_tag": "ABX9TyNKL/qYHTyD2JJMD7hNQ9sc",
      "include_colab_link": true
    },
    "kernelspec": {
      "name": "python3",
      "display_name": "Python 3"
    },
    "language_info": {
      "name": "python"
    }
  },
  "cells": [
    {
      "cell_type": "markdown",
      "metadata": {
        "id": "view-in-github",
        "colab_type": "text"
      },
      "source": [
        "<a href=\"https://colab.research.google.com/github/qTronor/BigData_lessons/blob/main/BigData_1.ipynb\" target=\"_parent\"><img src=\"https://colab.research.google.com/assets/colab-badge.svg\" alt=\"Open In Colab\"/></a>"
      ]
    },
    {
      "cell_type": "code",
      "execution_count": null,
      "metadata": {
        "id": "Vwn5_aMhhAQW"
      },
      "outputs": [],
      "source": [
        "import math\n",
        "import pandas as pd"
      ]
    },
    {
      "cell_type": "markdown",
      "source": [
        "# Задание 2\n",
        "\n",
        "Написать программу, которая вычисляет площадь фигуры,\n",
        "параметры которой подаются на вход. Фигуры, которые подаются на вход:\n",
        "треугольник, прямоугольник, круг. Результатом работы является словарь, где\n",
        "ключ – это название фигуры, а значение – это площадь"
      ],
      "metadata": {
        "id": "I2Cwm_RT4n6g"
      }
    },
    {
      "cell_type": "code",
      "source": [
        "def calculate_triangle_area(base, height):\n",
        "    return 0.5 * base * height\n",
        "\n",
        "def calculate_rectangle_area(length, width):\n",
        "    return length * width\n",
        "\n",
        "def calculate_circle_area(radius):\n",
        "    return math.pi * radius ** 2\n",
        "\n",
        "def main():\n",
        "    shapes = {}\n",
        "    while True:\n",
        "        shape_type = input(\"Введите тип фигуры (треугольник, прямоугольник, круг) или 'выход' для завершения: \").lower()\n",
        "        if shape_type == 'выход':\n",
        "            break\n",
        "        if shape_type not in ['треугольник', 'прямоугольник', 'круг']:\n",
        "            print(\"Неверный тип фигуры. Попробуйте еще раз.\")\n",
        "            continue\n",
        "        if shape_type == 'треугольник':\n",
        "            base = float(input(\"Введите длину основания треугольника: \"))\n",
        "            height = float(input(\"Введите высоту треугольника: \"))\n",
        "            area = calculate_triangle_area(base, height)\n",
        "        elif shape_type == 'прямоугольник':\n",
        "            length = float(input(\"Введите длину прямоугольника: \"))\n",
        "            width = float(input(\"Введите ширину прямоугольника: \"))\n",
        "            area = calculate_rectangle_area(length, width)\n",
        "        else:\n",
        "            radius = float(input(\"Введите радиус круга: \"))\n",
        "            area = calculate_circle_area(radius)\n",
        "\n",
        "        shapes[shape_type] = area\n",
        "        print(f\"Площадь {shape_type} равна {area}\")\n",
        "    print(\"Результат:\")\n",
        "    for shape, area in shapes.items():\n",
        "        print(f\"{shape.capitalize()}: {area}\")\n",
        "\n",
        "if __name__ == \"__main__\":\n",
        "    main()"
      ],
      "metadata": {
        "colab": {
          "base_uri": "https://localhost:8080/"
        },
        "id": "CwpVzlbYUgu_",
        "outputId": "8eabdb99-d576-4165-d00d-676c1b34f436"
      },
      "execution_count": null,
      "outputs": [
        {
          "output_type": "stream",
          "name": "stdout",
          "text": [
            "Введите тип фигуры (треугольник, прямоугольник, круг) или 'выход' для завершения: прямоугольник\n",
            "Введите длину прямоугольника: 5\n",
            "Введите ширину прямоугольника: 2\n",
            "Площадь прямоугольник равна 10.0\n",
            "Введите тип фигуры (треугольник, прямоугольник, круг) или 'выход' для завершения: круг\n",
            "Введите радиус круга: 1\n",
            "Площадь круг равна 3.141592653589793\n",
            "Введите тип фигуры (треугольник, прямоугольник, круг) или 'выход' для завершения: треугольник\n",
            "Введите длину основания треугольника: 3\n",
            "Введите высоту треугольника: 2\n",
            "Площадь треугольник равна 3.0\n",
            "Введите тип фигуры (треугольник, прямоугольник, круг) или 'выход' для завершения: выход\n",
            "Результат:\n",
            "Прямоугольник: 10.0\n",
            "Круг: 3.141592653589793\n",
            "Треугольник: 3.0\n"
          ]
        }
      ]
    },
    {
      "cell_type": "code",
      "source": [
        "a = int(input())\n",
        "b = int(input())\n",
        "r = int(input())\n",
        "dict = {\"triangle\": a*b*0.5, \"square\": a*b, \"circle\": math.pi*r*r}"
      ],
      "metadata": {
        "colab": {
          "base_uri": "https://localhost:8080/"
        },
        "id": "6MWzTIAh4QfY",
        "outputId": "c3bdcf30-54c3-483c-d53e-d5c26cffb23d"
      },
      "execution_count": null,
      "outputs": [
        {
          "name": "stdout",
          "output_type": "stream",
          "text": [
            "3\n",
            "2\n",
            "1\n"
          ]
        }
      ]
    },
    {
      "cell_type": "code",
      "source": [
        "print(dict)"
      ],
      "metadata": {
        "colab": {
          "base_uri": "https://localhost:8080/"
        },
        "id": "D86bsic-4lAX",
        "outputId": "f66d3b37-2ca8-4a4d-dc4a-8eee53808629"
      },
      "execution_count": null,
      "outputs": [
        {
          "output_type": "stream",
          "name": "stdout",
          "text": [
            "{'triangle': 3.0, 'square': 6, 'circle': 3.141592653589793}\n"
          ]
        }
      ]
    },
    {
      "cell_type": "markdown",
      "source": [
        "# Задание 3\n",
        "\n",
        "Написать программу, которая на вход получает два числа и\n",
        "операцию, которую к ним нужно применить. Должны быть реализованы\n",
        "следующие операции: +, -, /, //, abs – модуль, pow или ** – возведение в\n",
        "степень"
      ],
      "metadata": {
        "id": "TZbYSg1947XG"
      }
    },
    {
      "cell_type": "code",
      "source": [
        "a = int(input())\n",
        "b = int(input())\n",
        "op = input()"
      ],
      "metadata": {
        "colab": {
          "base_uri": "https://localhost:8080/"
        },
        "id": "4-HsNbQ4487T",
        "outputId": "1abb50d8-e406-4230-abc6-ca67fae80f0b"
      },
      "execution_count": null,
      "outputs": [
        {
          "name": "stdout",
          "output_type": "stream",
          "text": [
            "2\n",
            "3\n",
            "**\n"
          ]
        }
      ]
    },
    {
      "cell_type": "code",
      "source": [
        "if op == \"+\":\n",
        "  print(a+b)\n",
        "elif op == \"-\":\n",
        "  print(a-b)\n",
        "elif op == \"/\":\n",
        "  print(a/b)\n",
        "elif op == \"//\":\n",
        "  print(a//b)\n",
        "elif op == \"abs\":\n",
        "  print(abs(a), abs(b))\n",
        "elif op == \"**\" or op == \"pow\":\n",
        "  print(a**b)"
      ],
      "metadata": {
        "colab": {
          "base_uri": "https://localhost:8080/"
        },
        "id": "eWon5CZL5Erd",
        "outputId": "113eab1f-48da-4f92-9dc6-d328c06ced03"
      },
      "execution_count": null,
      "outputs": [
        {
          "output_type": "stream",
          "name": "stdout",
          "text": [
            "8\n"
          ]
        }
      ]
    },
    {
      "cell_type": "markdown",
      "source": [
        "# Задание 4\n",
        "\n",
        "Напишите программу, которая считывает с консоли числа (по\n",
        "одному в строке) до тех пор, пока сумма введённых чисел не будет равна 0 и\n",
        "после этого выводит сумму квадратов всех считанных чисел."
      ],
      "metadata": {
        "id": "H1olJfKh5lU7"
      }
    },
    {
      "cell_type": "code",
      "source": [
        "list = []\n",
        "list.append(int(input()))"
      ],
      "metadata": {
        "colab": {
          "base_uri": "https://localhost:8080/"
        },
        "id": "V6V6_Wjf5rHH",
        "outputId": "e190aadd-7365-454c-af4d-d4df7230b8fa"
      },
      "execution_count": null,
      "outputs": [
        {
          "name": "stdout",
          "output_type": "stream",
          "text": [
            "5\n"
          ]
        }
      ]
    },
    {
      "cell_type": "code",
      "source": [
        "while(sum(list) != 0):\n",
        "  list.append(int(input()))\n",
        "\n",
        "for i in list:\n",
        "  print(i**2)"
      ],
      "metadata": {
        "colab": {
          "base_uri": "https://localhost:8080/"
        },
        "id": "3NBLS3ph5wd1",
        "outputId": "754b2ea3-95f4-4d62-ce83-6cf4888f0ed5"
      },
      "execution_count": null,
      "outputs": [
        {
          "output_type": "stream",
          "name": "stdout",
          "text": [
            "-2\n",
            "-3\n",
            "25\n",
            "4\n",
            "9\n"
          ]
        }
      ]
    },
    {
      "cell_type": "markdown",
      "source": [
        "# Задание 5\n",
        "\n",
        "Напишите программу, которая выводит последовательность\n",
        "чисел, длинною N, где каждое число повторяется столько раз, чему оно равно.\n",
        "На вход программе передаётся неотрицательное целое число N. Например,\n",
        "если N = 7, то программа должна вывести 1 2 2 3 3 3 4. Вывод элементов списка\n",
        "через пробел – print(*list)."
      ],
      "metadata": {
        "id": "-paPPcFY6CYm"
      }
    },
    {
      "cell_type": "code",
      "source": [
        "n = int(input())\n",
        "t = []\n",
        "for i in range(n+1):\n",
        "  c = 0\n",
        "  while c < i+1:\n",
        "    t.append(i+1)\n",
        "    c+=1\n",
        "    if n == len(t):\n",
        "      for j in t:\n",
        "        print(j, end=\" \")\n",
        "      break"
      ],
      "metadata": {
        "colab": {
          "base_uri": "https://localhost:8080/"
        },
        "id": "VIyVTGMU6Am_",
        "outputId": "27eafa75-e169-4c52-9cf9-1179b4d2dd8c"
      },
      "execution_count": null,
      "outputs": [
        {
          "output_type": "stream",
          "name": "stdout",
          "text": [
            "7\n",
            "1 2 2 3 3 3 4 "
          ]
        }
      ]
    },
    {
      "cell_type": "markdown",
      "source": [
        "# Задание 6\n",
        "\n",
        "А = [1, 2, 3, 4, 2, 1, 3, 4, 5, 6, 5, 4, 3, 2]\n",
        "В = [‘a’, ’b’, ’c’, ’c’, ’c’, ’b’, ’a’, ’c’, ’a’, ’a’, ’b’, ’c’, ’b’, ’a’]\n",
        "Создать словарь, в котором ключи – это содержимое списка В, а\n",
        "значения для ключей словаря – это сумма всех элементов списка А в\n",
        "соответствии с буквой, содержащийся на той же позиции в списке В.\n",
        "Пример результата программы: {‘a’ : 10, ‘b’ : 15, ‘c’ : 6}"
      ],
      "metadata": {
        "id": "2jEPzE-67WR3"
      }
    },
    {
      "cell_type": "code",
      "source": [
        "A = [1, 2, 3, 4, 2, 1, 3, 4, 5, 6, 5, 4, 3, 2]\n",
        "B = ['a', 'b', 'c', 'c', 'c', 'b', 'a', 'c', 'a', 'a', 'b', 'c', 'b', 'a']"
      ],
      "metadata": {
        "id": "GBNJwQCc7Vc6"
      },
      "execution_count": null,
      "outputs": []
    },
    {
      "cell_type": "code",
      "source": [
        "result_dict = {}\n",
        "for i in range(len(B)):\n",
        "    letter = B[i]\n",
        "    if letter in result_dict:\n",
        "        result_dict[letter] += A[i]\n",
        "    else:\n",
        "        result_dict[letter] = A[i]\n",
        "print(result_dict)"
      ],
      "metadata": {
        "colab": {
          "base_uri": "https://localhost:8080/"
        },
        "id": "VXlX4dg48eQV",
        "outputId": "c6ac6fce-9664-438b-d0fa-ce230884491d"
      },
      "execution_count": null,
      "outputs": [
        {
          "output_type": "stream",
          "name": "stdout",
          "text": [
            "{'a': 17, 'b': 11, 'c': 17}\n"
          ]
        }
      ]
    },
    {
      "cell_type": "markdown",
      "source": [
        "# Задания 8-12\n",
        "\n",
        "Скачать и загрузить данные о стоимости домов в калифорнии,\n",
        "используя библиотеку sklearn.\n",
        "\n",
        "8. Использовать метод info().\n",
        "9. Узнать, есть ли пропущенные значения, используя isna().sum().\n",
        "10. Вывести записи, где средний возраст домов в районе более 50 лет и\n",
        "население более 2500 человек, используя метод loc().\n",
        "11. Узнать максимальное и минимальное значения медианной\n",
        "стоимости дома.\n",
        "12. Используя метод apply(), вывести на экран название признака и его\n",
        "среднее значение"
      ],
      "metadata": {
        "id": "433B3l178uJK"
      }
    },
    {
      "cell_type": "code",
      "source": [
        "from sklearn.datasets import fetch_california_housing\n",
        "data = fetch_california_housing(as_frame=True)"
      ],
      "metadata": {
        "id": "fj8HLPxF8tOK"
      },
      "execution_count": null,
      "outputs": []
    },
    {
      "cell_type": "code",
      "source": [
        "print(type(data))\n",
        "data.keys()"
      ],
      "metadata": {
        "colab": {
          "base_uri": "https://localhost:8080/"
        },
        "id": "fXlwKsXo9T7q",
        "outputId": "803ea676-77bf-4e6a-d357-0cb37df6ea2a"
      },
      "execution_count": null,
      "outputs": [
        {
          "output_type": "stream",
          "name": "stdout",
          "text": [
            "<class 'sklearn.utils._bunch.Bunch'>\n"
          ]
        },
        {
          "output_type": "execute_result",
          "data": {
            "text/plain": [
              "dict_keys(['data', 'target', 'frame', 'target_names', 'feature_names', 'DESCR'])"
            ]
          },
          "metadata": {},
          "execution_count": 33
        }
      ]
    },
    {
      "cell_type": "code",
      "source": [
        "data.data\n",
        "df = data.data"
      ],
      "metadata": {
        "id": "Aq5aSe32_mGM"
      },
      "execution_count": null,
      "outputs": []
    },
    {
      "cell_type": "code",
      "source": [
        "df.keys()"
      ],
      "metadata": {
        "colab": {
          "base_uri": "https://localhost:8080/"
        },
        "id": "3nGtsqa6Ad4y",
        "outputId": "98a0431b-7044-43cd-aa72-1166cd184dee"
      },
      "execution_count": null,
      "outputs": [
        {
          "output_type": "execute_result",
          "data": {
            "text/plain": [
              "Index(['MedInc', 'HouseAge', 'AveRooms', 'AveBedrms', 'Population', 'AveOccup',\n",
              "       'Latitude', 'Longitude'],\n",
              "      dtype='object')"
            ]
          },
          "metadata": {},
          "execution_count": 45
        }
      ]
    },
    {
      "cell_type": "code",
      "source": [
        "df.info"
      ],
      "metadata": {
        "colab": {
          "base_uri": "https://localhost:8080/"
        },
        "id": "FVzK_jWv_8cE",
        "outputId": "c35ff7d3-bdb3-4ad4-9daf-dc8c32584b07"
      },
      "execution_count": null,
      "outputs": [
        {
          "output_type": "execute_result",
          "data": {
            "text/plain": [
              "<bound method DataFrame.info of        MedInc  HouseAge  AveRooms  AveBedrms  Population  AveOccup  Latitude  \\\n",
              "0      8.3252      41.0  6.984127   1.023810       322.0  2.555556     37.88   \n",
              "1      8.3014      21.0  6.238137   0.971880      2401.0  2.109842     37.86   \n",
              "2      7.2574      52.0  8.288136   1.073446       496.0  2.802260     37.85   \n",
              "3      5.6431      52.0  5.817352   1.073059       558.0  2.547945     37.85   \n",
              "4      3.8462      52.0  6.281853   1.081081       565.0  2.181467     37.85   \n",
              "...       ...       ...       ...        ...         ...       ...       ...   \n",
              "20635  1.5603      25.0  5.045455   1.133333       845.0  2.560606     39.48   \n",
              "20636  2.5568      18.0  6.114035   1.315789       356.0  3.122807     39.49   \n",
              "20637  1.7000      17.0  5.205543   1.120092      1007.0  2.325635     39.43   \n",
              "20638  1.8672      18.0  5.329513   1.171920       741.0  2.123209     39.43   \n",
              "20639  2.3886      16.0  5.254717   1.162264      1387.0  2.616981     39.37   \n",
              "\n",
              "       Longitude  \n",
              "0        -122.23  \n",
              "1        -122.22  \n",
              "2        -122.24  \n",
              "3        -122.25  \n",
              "4        -122.25  \n",
              "...          ...  \n",
              "20635    -121.09  \n",
              "20636    -121.21  \n",
              "20637    -121.22  \n",
              "20638    -121.32  \n",
              "20639    -121.24  \n",
              "\n",
              "[20640 rows x 8 columns]>"
            ]
          },
          "metadata": {},
          "execution_count": 39
        }
      ]
    },
    {
      "cell_type": "code",
      "source": [
        "df.isna().sum()"
      ],
      "metadata": {
        "colab": {
          "base_uri": "https://localhost:8080/"
        },
        "id": "pUD9VQA6_J7l",
        "outputId": "b5c06a8b-34cd-466d-f9ff-c939ccd7de13"
      },
      "execution_count": null,
      "outputs": [
        {
          "output_type": "execute_result",
          "data": {
            "text/plain": [
              "MedInc        0\n",
              "HouseAge      0\n",
              "AveRooms      0\n",
              "AveBedrms     0\n",
              "Population    0\n",
              "AveOccup      0\n",
              "Latitude      0\n",
              "Longitude     0\n",
              "dtype: int64"
            ]
          },
          "metadata": {},
          "execution_count": 40
        }
      ]
    },
    {
      "cell_type": "code",
      "source": [
        "df.loc[(df['HouseAge'] > 50) & (df[\"Population\"] > 2500)]"
      ],
      "metadata": {
        "colab": {
          "base_uri": "https://localhost:8080/",
          "height": 457
        },
        "id": "5LSuLvuwAKZk",
        "outputId": "920b48ef-a018-40a4-b099-df895a18bd04"
      },
      "execution_count": null,
      "outputs": [
        {
          "output_type": "execute_result",
          "data": {
            "text/plain": [
              "       MedInc  HouseAge  AveRooms  AveBedrms  Population    AveOccup  \\\n",
              "460    1.4012      52.0  3.105714   1.060000      3337.0    9.534286   \n",
              "4131   3.5349      52.0  4.646119   1.047945      2589.0    5.910959   \n",
              "4440   2.6806      52.0  4.806283   1.057592      3062.0    4.007853   \n",
              "5986   1.8750      52.0  4.500000   1.206349      2688.0   21.333333   \n",
              "7369   3.1901      52.0  4.730942   1.017937      3731.0    4.182735   \n",
              "8227   2.3305      52.0  3.488860   1.170380      3018.0    3.955439   \n",
              "13034  6.1359      52.0  8.275862   1.517241      6675.0  230.172414   \n",
              "15634  1.8295      52.0  2.628169   1.053521      2957.0    4.164789   \n",
              "15652  0.9000      52.0  2.237474   1.053535      3260.0    2.237474   \n",
              "15657  2.5166      52.0  2.839075   1.184049      3436.0    1.621520   \n",
              "15659  1.7240      52.0  2.278566   1.082348      4518.0    1.780142   \n",
              "15795  2.5755      52.0  3.402576   1.058776      2619.0    2.108696   \n",
              "15868  2.8135      52.0  4.584329   1.041169      2987.0    3.966799   \n",
              "\n",
              "       Latitude  Longitude  \n",
              "460       37.87    -122.26  \n",
              "4131      34.13    -118.20  \n",
              "4440      34.08    -118.21  \n",
              "5986      34.10    -117.71  \n",
              "7369      33.97    -118.21  \n",
              "8227      33.78    -118.20  \n",
              "13034     38.69    -121.15  \n",
              "15634     37.80    -122.41  \n",
              "15652     37.80    -122.41  \n",
              "15657     37.79    -122.41  \n",
              "15659     37.79    -122.41  \n",
              "15795     37.77    -122.42  \n",
              "15868     37.76    -122.41  "
            ],
            "text/html": [
              "\n",
              "  <div id=\"df-b19c1134-547e-47a2-a292-de0f80225737\" class=\"colab-df-container\">\n",
              "    <div>\n",
              "<style scoped>\n",
              "    .dataframe tbody tr th:only-of-type {\n",
              "        vertical-align: middle;\n",
              "    }\n",
              "\n",
              "    .dataframe tbody tr th {\n",
              "        vertical-align: top;\n",
              "    }\n",
              "\n",
              "    .dataframe thead th {\n",
              "        text-align: right;\n",
              "    }\n",
              "</style>\n",
              "<table border=\"1\" class=\"dataframe\">\n",
              "  <thead>\n",
              "    <tr style=\"text-align: right;\">\n",
              "      <th></th>\n",
              "      <th>MedInc</th>\n",
              "      <th>HouseAge</th>\n",
              "      <th>AveRooms</th>\n",
              "      <th>AveBedrms</th>\n",
              "      <th>Population</th>\n",
              "      <th>AveOccup</th>\n",
              "      <th>Latitude</th>\n",
              "      <th>Longitude</th>\n",
              "    </tr>\n",
              "  </thead>\n",
              "  <tbody>\n",
              "    <tr>\n",
              "      <th>460</th>\n",
              "      <td>1.4012</td>\n",
              "      <td>52.0</td>\n",
              "      <td>3.105714</td>\n",
              "      <td>1.060000</td>\n",
              "      <td>3337.0</td>\n",
              "      <td>9.534286</td>\n",
              "      <td>37.87</td>\n",
              "      <td>-122.26</td>\n",
              "    </tr>\n",
              "    <tr>\n",
              "      <th>4131</th>\n",
              "      <td>3.5349</td>\n",
              "      <td>52.0</td>\n",
              "      <td>4.646119</td>\n",
              "      <td>1.047945</td>\n",
              "      <td>2589.0</td>\n",
              "      <td>5.910959</td>\n",
              "      <td>34.13</td>\n",
              "      <td>-118.20</td>\n",
              "    </tr>\n",
              "    <tr>\n",
              "      <th>4440</th>\n",
              "      <td>2.6806</td>\n",
              "      <td>52.0</td>\n",
              "      <td>4.806283</td>\n",
              "      <td>1.057592</td>\n",
              "      <td>3062.0</td>\n",
              "      <td>4.007853</td>\n",
              "      <td>34.08</td>\n",
              "      <td>-118.21</td>\n",
              "    </tr>\n",
              "    <tr>\n",
              "      <th>5986</th>\n",
              "      <td>1.8750</td>\n",
              "      <td>52.0</td>\n",
              "      <td>4.500000</td>\n",
              "      <td>1.206349</td>\n",
              "      <td>2688.0</td>\n",
              "      <td>21.333333</td>\n",
              "      <td>34.10</td>\n",
              "      <td>-117.71</td>\n",
              "    </tr>\n",
              "    <tr>\n",
              "      <th>7369</th>\n",
              "      <td>3.1901</td>\n",
              "      <td>52.0</td>\n",
              "      <td>4.730942</td>\n",
              "      <td>1.017937</td>\n",
              "      <td>3731.0</td>\n",
              "      <td>4.182735</td>\n",
              "      <td>33.97</td>\n",
              "      <td>-118.21</td>\n",
              "    </tr>\n",
              "    <tr>\n",
              "      <th>8227</th>\n",
              "      <td>2.3305</td>\n",
              "      <td>52.0</td>\n",
              "      <td>3.488860</td>\n",
              "      <td>1.170380</td>\n",
              "      <td>3018.0</td>\n",
              "      <td>3.955439</td>\n",
              "      <td>33.78</td>\n",
              "      <td>-118.20</td>\n",
              "    </tr>\n",
              "    <tr>\n",
              "      <th>13034</th>\n",
              "      <td>6.1359</td>\n",
              "      <td>52.0</td>\n",
              "      <td>8.275862</td>\n",
              "      <td>1.517241</td>\n",
              "      <td>6675.0</td>\n",
              "      <td>230.172414</td>\n",
              "      <td>38.69</td>\n",
              "      <td>-121.15</td>\n",
              "    </tr>\n",
              "    <tr>\n",
              "      <th>15634</th>\n",
              "      <td>1.8295</td>\n",
              "      <td>52.0</td>\n",
              "      <td>2.628169</td>\n",
              "      <td>1.053521</td>\n",
              "      <td>2957.0</td>\n",
              "      <td>4.164789</td>\n",
              "      <td>37.80</td>\n",
              "      <td>-122.41</td>\n",
              "    </tr>\n",
              "    <tr>\n",
              "      <th>15652</th>\n",
              "      <td>0.9000</td>\n",
              "      <td>52.0</td>\n",
              "      <td>2.237474</td>\n",
              "      <td>1.053535</td>\n",
              "      <td>3260.0</td>\n",
              "      <td>2.237474</td>\n",
              "      <td>37.80</td>\n",
              "      <td>-122.41</td>\n",
              "    </tr>\n",
              "    <tr>\n",
              "      <th>15657</th>\n",
              "      <td>2.5166</td>\n",
              "      <td>52.0</td>\n",
              "      <td>2.839075</td>\n",
              "      <td>1.184049</td>\n",
              "      <td>3436.0</td>\n",
              "      <td>1.621520</td>\n",
              "      <td>37.79</td>\n",
              "      <td>-122.41</td>\n",
              "    </tr>\n",
              "    <tr>\n",
              "      <th>15659</th>\n",
              "      <td>1.7240</td>\n",
              "      <td>52.0</td>\n",
              "      <td>2.278566</td>\n",
              "      <td>1.082348</td>\n",
              "      <td>4518.0</td>\n",
              "      <td>1.780142</td>\n",
              "      <td>37.79</td>\n",
              "      <td>-122.41</td>\n",
              "    </tr>\n",
              "    <tr>\n",
              "      <th>15795</th>\n",
              "      <td>2.5755</td>\n",
              "      <td>52.0</td>\n",
              "      <td>3.402576</td>\n",
              "      <td>1.058776</td>\n",
              "      <td>2619.0</td>\n",
              "      <td>2.108696</td>\n",
              "      <td>37.77</td>\n",
              "      <td>-122.42</td>\n",
              "    </tr>\n",
              "    <tr>\n",
              "      <th>15868</th>\n",
              "      <td>2.8135</td>\n",
              "      <td>52.0</td>\n",
              "      <td>4.584329</td>\n",
              "      <td>1.041169</td>\n",
              "      <td>2987.0</td>\n",
              "      <td>3.966799</td>\n",
              "      <td>37.76</td>\n",
              "      <td>-122.41</td>\n",
              "    </tr>\n",
              "  </tbody>\n",
              "</table>\n",
              "</div>\n",
              "    <div class=\"colab-df-buttons\">\n",
              "\n",
              "  <div class=\"colab-df-container\">\n",
              "    <button class=\"colab-df-convert\" onclick=\"convertToInteractive('df-b19c1134-547e-47a2-a292-de0f80225737')\"\n",
              "            title=\"Convert this dataframe to an interactive table.\"\n",
              "            style=\"display:none;\">\n",
              "\n",
              "  <svg xmlns=\"http://www.w3.org/2000/svg\" height=\"24px\" viewBox=\"0 -960 960 960\">\n",
              "    <path d=\"M120-120v-720h720v720H120Zm60-500h600v-160H180v160Zm220 220h160v-160H400v160Zm0 220h160v-160H400v160ZM180-400h160v-160H180v160Zm440 0h160v-160H620v160ZM180-180h160v-160H180v160Zm440 0h160v-160H620v160Z\"/>\n",
              "  </svg>\n",
              "    </button>\n",
              "\n",
              "  <style>\n",
              "    .colab-df-container {\n",
              "      display:flex;\n",
              "      gap: 12px;\n",
              "    }\n",
              "\n",
              "    .colab-df-convert {\n",
              "      background-color: #E8F0FE;\n",
              "      border: none;\n",
              "      border-radius: 50%;\n",
              "      cursor: pointer;\n",
              "      display: none;\n",
              "      fill: #1967D2;\n",
              "      height: 32px;\n",
              "      padding: 0 0 0 0;\n",
              "      width: 32px;\n",
              "    }\n",
              "\n",
              "    .colab-df-convert:hover {\n",
              "      background-color: #E2EBFA;\n",
              "      box-shadow: 0px 1px 2px rgba(60, 64, 67, 0.3), 0px 1px 3px 1px rgba(60, 64, 67, 0.15);\n",
              "      fill: #174EA6;\n",
              "    }\n",
              "\n",
              "    .colab-df-buttons div {\n",
              "      margin-bottom: 4px;\n",
              "    }\n",
              "\n",
              "    [theme=dark] .colab-df-convert {\n",
              "      background-color: #3B4455;\n",
              "      fill: #D2E3FC;\n",
              "    }\n",
              "\n",
              "    [theme=dark] .colab-df-convert:hover {\n",
              "      background-color: #434B5C;\n",
              "      box-shadow: 0px 1px 3px 1px rgba(0, 0, 0, 0.15);\n",
              "      filter: drop-shadow(0px 1px 2px rgba(0, 0, 0, 0.3));\n",
              "      fill: #FFFFFF;\n",
              "    }\n",
              "  </style>\n",
              "\n",
              "    <script>\n",
              "      const buttonEl =\n",
              "        document.querySelector('#df-b19c1134-547e-47a2-a292-de0f80225737 button.colab-df-convert');\n",
              "      buttonEl.style.display =\n",
              "        google.colab.kernel.accessAllowed ? 'block' : 'none';\n",
              "\n",
              "      async function convertToInteractive(key) {\n",
              "        const element = document.querySelector('#df-b19c1134-547e-47a2-a292-de0f80225737');\n",
              "        const dataTable =\n",
              "          await google.colab.kernel.invokeFunction('convertToInteractive',\n",
              "                                                    [key], {});\n",
              "        if (!dataTable) return;\n",
              "\n",
              "        const docLinkHtml = 'Like what you see? Visit the ' +\n",
              "          '<a target=\"_blank\" href=https://colab.research.google.com/notebooks/data_table.ipynb>data table notebook</a>'\n",
              "          + ' to learn more about interactive tables.';\n",
              "        element.innerHTML = '';\n",
              "        dataTable['output_type'] = 'display_data';\n",
              "        await google.colab.output.renderOutput(dataTable, element);\n",
              "        const docLink = document.createElement('div');\n",
              "        docLink.innerHTML = docLinkHtml;\n",
              "        element.appendChild(docLink);\n",
              "      }\n",
              "    </script>\n",
              "  </div>\n",
              "\n",
              "\n",
              "<div id=\"df-de47b128-fdaa-4529-a1b4-683cec6c913a\">\n",
              "  <button class=\"colab-df-quickchart\" onclick=\"quickchart('df-de47b128-fdaa-4529-a1b4-683cec6c913a')\"\n",
              "            title=\"Suggest charts.\"\n",
              "            style=\"display:none;\">\n",
              "\n",
              "<svg xmlns=\"http://www.w3.org/2000/svg\" height=\"24px\"viewBox=\"0 0 24 24\"\n",
              "     width=\"24px\">\n",
              "    <g>\n",
              "        <path d=\"M19 3H5c-1.1 0-2 .9-2 2v14c0 1.1.9 2 2 2h14c1.1 0 2-.9 2-2V5c0-1.1-.9-2-2-2zM9 17H7v-7h2v7zm4 0h-2V7h2v10zm4 0h-2v-4h2v4z\"/>\n",
              "    </g>\n",
              "</svg>\n",
              "  </button>\n",
              "\n",
              "<style>\n",
              "  .colab-df-quickchart {\n",
              "      --bg-color: #E8F0FE;\n",
              "      --fill-color: #1967D2;\n",
              "      --hover-bg-color: #E2EBFA;\n",
              "      --hover-fill-color: #174EA6;\n",
              "      --disabled-fill-color: #AAA;\n",
              "      --disabled-bg-color: #DDD;\n",
              "  }\n",
              "\n",
              "  [theme=dark] .colab-df-quickchart {\n",
              "      --bg-color: #3B4455;\n",
              "      --fill-color: #D2E3FC;\n",
              "      --hover-bg-color: #434B5C;\n",
              "      --hover-fill-color: #FFFFFF;\n",
              "      --disabled-bg-color: #3B4455;\n",
              "      --disabled-fill-color: #666;\n",
              "  }\n",
              "\n",
              "  .colab-df-quickchart {\n",
              "    background-color: var(--bg-color);\n",
              "    border: none;\n",
              "    border-radius: 50%;\n",
              "    cursor: pointer;\n",
              "    display: none;\n",
              "    fill: var(--fill-color);\n",
              "    height: 32px;\n",
              "    padding: 0;\n",
              "    width: 32px;\n",
              "  }\n",
              "\n",
              "  .colab-df-quickchart:hover {\n",
              "    background-color: var(--hover-bg-color);\n",
              "    box-shadow: 0 1px 2px rgba(60, 64, 67, 0.3), 0 1px 3px 1px rgba(60, 64, 67, 0.15);\n",
              "    fill: var(--button-hover-fill-color);\n",
              "  }\n",
              "\n",
              "  .colab-df-quickchart-complete:disabled,\n",
              "  .colab-df-quickchart-complete:disabled:hover {\n",
              "    background-color: var(--disabled-bg-color);\n",
              "    fill: var(--disabled-fill-color);\n",
              "    box-shadow: none;\n",
              "  }\n",
              "\n",
              "  .colab-df-spinner {\n",
              "    border: 2px solid var(--fill-color);\n",
              "    border-color: transparent;\n",
              "    border-bottom-color: var(--fill-color);\n",
              "    animation:\n",
              "      spin 1s steps(1) infinite;\n",
              "  }\n",
              "\n",
              "  @keyframes spin {\n",
              "    0% {\n",
              "      border-color: transparent;\n",
              "      border-bottom-color: var(--fill-color);\n",
              "      border-left-color: var(--fill-color);\n",
              "    }\n",
              "    20% {\n",
              "      border-color: transparent;\n",
              "      border-left-color: var(--fill-color);\n",
              "      border-top-color: var(--fill-color);\n",
              "    }\n",
              "    30% {\n",
              "      border-color: transparent;\n",
              "      border-left-color: var(--fill-color);\n",
              "      border-top-color: var(--fill-color);\n",
              "      border-right-color: var(--fill-color);\n",
              "    }\n",
              "    40% {\n",
              "      border-color: transparent;\n",
              "      border-right-color: var(--fill-color);\n",
              "      border-top-color: var(--fill-color);\n",
              "    }\n",
              "    60% {\n",
              "      border-color: transparent;\n",
              "      border-right-color: var(--fill-color);\n",
              "    }\n",
              "    80% {\n",
              "      border-color: transparent;\n",
              "      border-right-color: var(--fill-color);\n",
              "      border-bottom-color: var(--fill-color);\n",
              "    }\n",
              "    90% {\n",
              "      border-color: transparent;\n",
              "      border-bottom-color: var(--fill-color);\n",
              "    }\n",
              "  }\n",
              "</style>\n",
              "\n",
              "  <script>\n",
              "    async function quickchart(key) {\n",
              "      const quickchartButtonEl =\n",
              "        document.querySelector('#' + key + ' button');\n",
              "      quickchartButtonEl.disabled = true;  // To prevent multiple clicks.\n",
              "      quickchartButtonEl.classList.add('colab-df-spinner');\n",
              "      try {\n",
              "        const charts = await google.colab.kernel.invokeFunction(\n",
              "            'suggestCharts', [key], {});\n",
              "      } catch (error) {\n",
              "        console.error('Error during call to suggestCharts:', error);\n",
              "      }\n",
              "      quickchartButtonEl.classList.remove('colab-df-spinner');\n",
              "      quickchartButtonEl.classList.add('colab-df-quickchart-complete');\n",
              "    }\n",
              "    (() => {\n",
              "      let quickchartButtonEl =\n",
              "        document.querySelector('#df-de47b128-fdaa-4529-a1b4-683cec6c913a button');\n",
              "      quickchartButtonEl.style.display =\n",
              "        google.colab.kernel.accessAllowed ? 'block' : 'none';\n",
              "    })();\n",
              "  </script>\n",
              "</div>\n",
              "    </div>\n",
              "  </div>\n"
            ]
          },
          "metadata": {},
          "execution_count": 50
        }
      ]
    },
    {
      "cell_type": "code",
      "source": [
        "print(max(df['MedInc']), min(df['MedInc']))"
      ],
      "metadata": {
        "colab": {
          "base_uri": "https://localhost:8080/"
        },
        "id": "PLO5o8QeEDI9",
        "outputId": "6d4a7e86-af2b-4bc5-b41a-d079cea54fb3"
      },
      "execution_count": null,
      "outputs": [
        {
          "output_type": "stream",
          "name": "stdout",
          "text": [
            "15.0001 0.4999\n"
          ]
        }
      ]
    },
    {
      "cell_type": "code",
      "source": [
        "def calculate_mean(column):\n",
        "    return column.mean()\n",
        "\n",
        "means = df.apply(calculate_mean)\n",
        "\n",
        "for column, mean in means.iteritems():\n",
        "    print(f'Признак: {column}, Среднее значение: {mean}')"
      ],
      "metadata": {
        "colab": {
          "base_uri": "https://localhost:8080/"
        },
        "id": "JQY-rViiFKi-",
        "outputId": "c101b2f0-f799-4927-d53c-6b67d05bb6fe"
      },
      "execution_count": null,
      "outputs": [
        {
          "output_type": "stream",
          "name": "stdout",
          "text": [
            "Признак: MedInc, Среднее значение: 3.8706710029069766\n",
            "Признак: HouseAge, Среднее значение: 28.639486434108527\n",
            "Признак: AveRooms, Среднее значение: 5.428999742190376\n",
            "Признак: AveBedrms, Среднее значение: 1.096675149606208\n",
            "Признак: Population, Среднее значение: 1425.4767441860465\n",
            "Признак: AveOccup, Среднее значение: 3.0706551594363742\n",
            "Признак: Latitude, Среднее значение: 35.63186143410853\n",
            "Признак: Longitude, Среднее значение: -119.56970445736432\n"
          ]
        },
        {
          "output_type": "stream",
          "name": "stderr",
          "text": [
            "<ipython-input-54-7ec27b2dad2a>:6: FutureWarning: iteritems is deprecated and will be removed in a future version. Use .items instead.\n",
            "  for column, mean in means.iteritems():\n"
          ]
        }
      ]
    },
    {
      "cell_type": "markdown",
      "source": [
        "# Задание 1*\n",
        "\n",
        "Дан текст на английском языке. Необходимо закодировать его с\n",
        "помощью азбуки Морзе, где каждой букве соответствует\n",
        "последовательность точек и тире. Например, буква «g» превратится в\n",
        "строку «--.». В переменной morze для удобства хранится словарь\n",
        "соответствия латинских букв коду Морзе.\n",
        "morze = {'a': '.-', 'b': '-…', 'c': '-.-.', 'd': '-..',\n",
        "'e': '.', 'f': '..-.', 'g': '--.', 'h': '….',\n",
        "'i': '..', 'j': '.---', 'k': '-.-', 'l': '.-..',\n",
        "'m': '--', 'n': '-.', 'o': '---', 'p': '.--.',\n",
        "'q': '--.-', 'r': '.-.', 's': '…', 't': '-',\n",
        "'u': '..-', 'v': '…-', 'w': '.--', 'x': '-..-',\n",
        "'y': '-.--', 'z': '--..'}\n",
        "На входе: В одной строке вам дан текст, который состоит из латинских\n",
        "букв и пробелов.\n",
        "На выходе:\n",
        "Выведите каждое слово исходного текста, закодированное азбукой\n",
        "Морзе. Количество строк в ответе должно совпадать с количеством слов\n",
        "в исходном тексте. Между закодированными буквами ставится ровно\n",
        "один пробел. Например, слово «Help» превратится в «.... . .-.. .--.».\n",
        "Строчные и заглавные буквы кодируются одинаково.\n",
        "Например:\n",
        "Ignition sequence start\n",
        "Перевод\n",
        ".. --. -. .. - .. --- -.\n",
        "… . --.- ..- . -. -.-. .\n",
        "… - .- .-. -"
      ],
      "metadata": {
        "id": "pc7JlzKgGBxb"
      }
    },
    {
      "cell_type": "code",
      "source": [
        "morze = {'a': '.-', 'b': '-…', 'c': '-.-.', 'd': '-..',\n",
        "'e': '.', 'f': '..-.', 'g': '--.', 'h': '….',\n",
        "'i': '..', 'j': '.---', 'k': '-.-', 'l': '.-..',\n",
        "'m': '--', 'n': '-.', 'o': '---', 'p': '.--.',\n",
        "'q': '--.-', 'r': '.-.', 's': '…', 't': '-',\n",
        "'u': '..-', 'v': '…-', 'w': '.--', 'x': '-..-',\n",
        "'y': '-.--', 'z': '--..'}"
      ],
      "metadata": {
        "id": "rOHeElkZGBVj"
      },
      "execution_count": null,
      "outputs": []
    },
    {
      "cell_type": "code",
      "source": [
        "def encode_to_morse(text):\n",
        "    encoded_words = []\n",
        "    words = text.lower().split()\n",
        "    for word in words:\n",
        "        encoded_word = ''\n",
        "        for letter in word:\n",
        "            if letter in morze:\n",
        "                encoded_word += morze[letter] + ' '\n",
        "        encoded_words.append(encoded_word.strip())\n",
        "    return encoded_words"
      ],
      "metadata": {
        "id": "CS7myMvOGZic"
      },
      "execution_count": null,
      "outputs": []
    },
    {
      "cell_type": "code",
      "source": [
        "input_text = input()\n",
        "\n",
        "encoded_text = encode_to_morse(input_text)\n",
        "\n",
        "\n",
        "for word in encoded_text:\n",
        "    print(word)"
      ],
      "metadata": {
        "id": "X8pFs3BkLgy0",
        "colab": {
          "base_uri": "https://localhost:8080/"
        },
        "outputId": "b50b124a-7369-48e7-8281-02f25e41b1f4"
      },
      "execution_count": null,
      "outputs": [
        {
          "output_type": "stream",
          "name": "stdout",
          "text": [
            "Help me\n",
            "…. . .-.. .--.\n",
            "-- .\n"
          ]
        }
      ]
    },
    {
      "cell_type": "markdown",
      "source": [
        "# Задание 2*\n",
        "\n",
        "В некотором городе открывается новая служба по доставке электронных\n",
        "писем. Необходимо наладить систему регистрации новых\n",
        "пользователей.\n",
        "Регистрация должна работать следующим образом: если новый\n",
        "пользователь хочет зарегистрироваться на сайте, то он должен послать\n",
        "системе запрос name со своим именем. Система должна определить,\n",
        "существует ли уже такое имя в базе данных. Если такого имени не\n",
        "существует, то оно заносится в базу данных системы и пользователю\n",
        "возвращается ответ \"ОК\", подтверждающий успешную регистрацию. А\n",
        "если пользователь с таким именем уже существует, то система должна\n",
        "сформировать новое имя и выдать его пользователю в качестве\n",
        "подсказки, при этом сама подсказка также добавляется в базу данных.\n",
        "Новое имя формируется следующим образом: к name последовательно\n",
        "приписываются числа, начиная с 1 (name1, name2 и так далее), и среди\n",
        "них находят такое наименьшее i, что namei еще не содержится в системе.\n",
        "\n",
        "\n",
        "Входные данные\n",
        "\n",
        "В первой строке входных данных задано число n (1 ≤ n ≤ 100000).\n",
        "Следующие n строк содержат запросы к системе. Каждый запрос\n",
        "представляет собой непустую строку длиной не более 32 символов,\n",
        "состоящую только из строчных букв латинского алфавита.\n",
        "\n",
        "\n",
        "Выходные данные\n",
        "\n",
        "В выходных данных должно содержаться n строк – ответы системы на\n",
        "запросы: \"OK\" в случае успешной регистрации, или подсказка с новым\n",
        "именем, если запрашиваемое уже занято."
      ],
      "metadata": {
        "id": "xEdYCCTzG0GT"
      }
    },
    {
      "cell_type": "code",
      "source": [
        "n = int(input())\n",
        "usernames = set()\n",
        "\n",
        "def register_name(name):\n",
        "    if name not in usernames:\n",
        "        usernames.add(name)\n",
        "        return \"OK\"\n",
        "    else:\n",
        "        i = 1\n",
        "        while f\"{name}{i}\" in usernames:\n",
        "            i += 1\n",
        "        new_name = f\"{name}{i}\"\n",
        "        usernames.add(new_name)\n",
        "        return new_name\n",
        "\n",
        "for i in range(n):\n",
        "    query = input()\n",
        "    response = register_name(query)\n",
        "    print(response)"
      ],
      "metadata": {
        "colab": {
          "base_uri": "https://localhost:8080/"
        },
        "id": "SawxBaFZHQoY",
        "outputId": "df75dd76-2808-4588-ad71-504086bbd475"
      },
      "execution_count": null,
      "outputs": [
        {
          "output_type": "stream",
          "name": "stdout",
          "text": [
            "3\n",
            "b\n",
            "OK\n",
            "b\n",
            "b1\n",
            "b\n",
            "b2\n"
          ]
        }
      ]
    },
    {
      "cell_type": "markdown",
      "source": [
        "# Задание 3*\n",
        "\n",
        "Необходимо создать программу обработки запросов пользователей к\n",
        "файловой системе компьютера. Над каждым файлом можно производить\n",
        "следующие действия: запись – w (\"write\"), чтение – r (\"read\"), запуск – x\n",
        "(\"execute\").\n",
        "\n",
        "\n",
        "Входные данные\n",
        "\n",
        "На вход программе подаются следующие параметры: число n –\n",
        "количество файлов в файловой системе. В следующих n строках\n",
        "содержится информация с именами файлов и допустимыми действиями\n",
        "(w, x, r), разделенных пробелами. Далее идет число m – количество\n",
        "запросов к файлам вида «операция файл» (обозначение операции:\n",
        "\"write\", \"read\", \"execute\").\n",
        "\n",
        "\n",
        "Выходные данные\n",
        "\n",
        "Для каждого допустимого запроса программа должна возвращать OK,\n",
        "для недопустимого – Access denied."
      ],
      "metadata": {
        "id": "6V8FsAaTK_qz"
      }
    },
    {
      "cell_type": "code",
      "source": [
        "files = {}"
      ],
      "metadata": {
        "id": "xzgBRSgz_C7t"
      },
      "execution_count": null,
      "outputs": []
    },
    {
      "cell_type": "code",
      "source": [
        "for i in range(int(input())):\n",
        "  list = str(input()).split()\n",
        "  files[list.pop(0)] = list\n",
        "\n",
        "for i in range(int(input())):\n",
        "  list = str(input()).split()\n",
        "\n",
        "  required_file = list[1]\n",
        "  action = list[0]\n",
        "\n",
        "  if action == \"read\":\n",
        "    action = \"r\"\n",
        "  elif action == \"write\":\n",
        "    action = \"w\"\n",
        "  elif action == \"execute\":\n",
        "    action = \"x\"\n",
        "\n",
        "  if (required_file in files.keys()) and (action in files[required_file]):\n",
        "    print(\"OK\")\n",
        "  else:\n",
        "    print(\"Access denied\")"
      ],
      "metadata": {
        "colab": {
          "base_uri": "https://localhost:8080/"
        },
        "id": "nipSZyIGLbYK",
        "outputId": "8e587f12-976d-4e8d-c5e5-a8ec94227a0e"
      },
      "execution_count": null,
      "outputs": [
        {
          "output_type": "stream",
          "name": "stdout",
          "text": [
            "3\n",
            "python.exe x\n",
            "book.txt r w\n",
            "notebook.exe r w x\n",
            "5\n",
            "read python.exe\n",
            "Access denied\n",
            "read book.txt\n",
            "OK\n",
            "write notebook.exe\n",
            "OK\n",
            "execute notebook.exe\n",
            "OK\n",
            "write book.txt\n",
            "OK\n"
          ]
        }
      ]
    }
  ]
}