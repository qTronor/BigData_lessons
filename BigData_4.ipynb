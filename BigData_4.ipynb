{
  "nbformat": 4,
  "nbformat_minor": 0,
  "metadata": {
    "colab": {
      "provenance": [],
      "authorship_tag": "ABX9TyN8YjFhf4nnfoOMYId8IQcX",
      "include_colab_link": true
    },
    "kernelspec": {
      "name": "python3",
      "display_name": "Python 3"
    },
    "language_info": {
      "name": "python"
    }
  },
  "cells": [
    {
      "cell_type": "markdown",
      "metadata": {
        "id": "view-in-github",
        "colab_type": "text"
      },
      "source": [
        "<a href=\"https://colab.research.google.com/github/qTronor/BigData_lessons/blob/main/BigData_4.ipynb\" target=\"_parent\"><img src=\"https://colab.research.google.com/assets/colab-badge.svg\" alt=\"Open In Colab\"/></a>"
      ]
    },
    {
      "cell_type": "code",
      "source": [
        "from google.colab import drive\n",
        "drive.mount('/content/drive')"
      ],
      "metadata": {
        "colab": {
          "base_uri": "https://localhost:8080/"
        },
        "id": "bGCbz41imwUU",
        "outputId": "cfb52a18-4997-4398-87c4-41c29591e0cd"
      },
      "execution_count": null,
      "outputs": [
        {
          "output_type": "stream",
          "name": "stdout",
          "text": [
            "Mounted at /content/drive\n"
          ]
        }
      ]
    },
    {
      "cell_type": "code",
      "source": [
        "import numpy as np\n",
        "import matplotlib.pyplot as plt\n",
        "import pandas as pd\n",
        "from sklearn.linear_model import LinearRegression\n",
        "import sklearn.metrics as stats\n",
        "import scipy.stats as scistats # !!! Обычно as stats"
      ],
      "metadata": {
        "id": "ibwJX2YPjsZw"
      },
      "execution_count": null,
      "outputs": []
    },
    {
      "cell_type": "markdown",
      "source": [
        "# 1. Определить два вектора, представляющие собой число автомобилей, припаркованных в течении 5 рабочих дней у бизнес-центра на уличной стоянке и в подземном гараже.\n",
        "# ![изображение.png](data:image/png;base64,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)"
      ],
      "metadata": {
        "id": "sAGJyX6q1XAX"
      }
    },
    {
      "cell_type": "code",
      "source": [
        "street = np.array([80, 98, 75, 91, 78])\n",
        "garage = np.array([100, 82, 105, 89, 102])"
      ],
      "metadata": {
        "id": "s_zHghg91WU3"
      },
      "execution_count": null,
      "outputs": []
    },
    {
      "cell_type": "markdown",
      "source": [
        "# 1.1 Найти и интерпретировать корреляцию между переменными «Улица» и «Гараж» (подсчитать корреляцию по Пирсону)."
      ],
      "metadata": {
        "id": "ggxNHrQ81ikA"
      }
    },
    {
      "cell_type": "code",
      "source": [
        "np.corrcoef(street, garage)[0, 1]"
      ],
      "metadata": {
        "colab": {
          "base_uri": "https://localhost:8080/"
        },
        "id": "8kGBRpcH2F-Q",
        "outputId": "751658a0-6cf1-4c2a-9485-b938e86fe7d2"
      },
      "execution_count": null,
      "outputs": [
        {
          "output_type": "execute_result",
          "data": {
            "text/plain": [
              "-0.9999999999999998"
            ]
          },
          "metadata": {},
          "execution_count": 4
        }
      ]
    },
    {
      "cell_type": "code",
      "source": [
        "correlation = np.corrcoef(street, garage)\n",
        "print(correlation)"
      ],
      "metadata": {
        "colab": {
          "base_uri": "https://localhost:8080/"
        },
        "id": "jHi_VeWbqH0D",
        "outputId": "d8cec033-8f38-482c-cb71-9485b4dedc46"
      },
      "execution_count": null,
      "outputs": [
        {
          "output_type": "stream",
          "name": "stdout",
          "text": [
            "[[ 1. -1.]\n",
            " [-1.  1.]]\n"
          ]
        }
      ]
    },
    {
      "cell_type": "code",
      "source": [
        "from scipy.stats import pearsonr\n",
        "correlation, _ = pearsonr(street, garage)\n",
        "\n",
        "print(f\"Корреляция между 'Улица' и 'Гараж': {correlation:.2f}\")"
      ],
      "metadata": {
        "colab": {
          "base_uri": "https://localhost:8080/"
        },
        "id": "4YJ3_NkSks2m",
        "outputId": "428f69a6-521c-4af2-8f8a-c3646d20ce80"
      },
      "execution_count": null,
      "outputs": [
        {
          "output_type": "stream",
          "name": "stdout",
          "text": [
            "Корреляция между 'Улица' и 'Гараж': -1.00\n"
          ]
        }
      ]
    },
    {
      "cell_type": "markdown",
      "source": [
        "Сильная отрицательная корреляция"
      ],
      "metadata": {
        "id": "5dIiBtAbjRZO"
      }
    },
    {
      "cell_type": "markdown",
      "source": [
        "# 1.2 Построить диаграмму рассеяния для вышеупомянутых переменных."
      ],
      "metadata": {
        "id": "w0GfclRL1mom"
      }
    },
    {
      "cell_type": "code",
      "source": [
        "plt.grid(True)\n",
        "plt.title(\"Диаграмма рассеяния\", fontsize = 20)\n",
        "plt.xlabel(\"Улица\")\n",
        "plt.ylabel(\"Гараж\")\n",
        "plt.scatter(street, garage, marker = 'o', color = 'crimson')"
      ],
      "metadata": {
        "colab": {
          "base_uri": "https://localhost:8080/",
          "height": 497
        },
        "id": "2V0-4nJO2GZK",
        "outputId": "63fa3203-9520-4337-f2fc-9b8c63365247"
      },
      "execution_count": null,
      "outputs": [
        {
          "output_type": "execute_result",
          "data": {
            "text/plain": [
              "<matplotlib.collections.PathCollection at 0x7c6d8b851bd0>"
            ]
          },
          "metadata": {},
          "execution_count": 6
        },
        {
          "output_type": "display_data",
          "data": {
            "text/plain": [
              "<Figure size 640x480 with 1 Axes>"
            ],
            "image/png": "[encoded data removed]"
          },
          "metadata": {}
        }
      ]
    },
    {
      "cell_type": "markdown",
      "source": [
        "# 2. Найти и выгрузить данные. Вывести, провести предобработку и описать признаки."
      ],
      "metadata": {
        "id": "r2DwMG_z1pkN"
      }
    },
    {
      "cell_type": "code",
      "source": [
        "df = pd.read_csv(\"/content/drive/MyDrive/AI_Datasets/BigData_3/ECDCCases.csv\")\n",
        "df.head()"
      ],
      "metadata": {
        "colab": {
          "base_uri": "https://localhost:8080/",
          "height": 243
        },
        "id": "pDsYeOUE2Gzl",
        "outputId": "fc1123e2-1e1e-46d2-f90c-4cd797d21d7b"
      },
      "execution_count": null,
      "outputs": [
        {
          "output_type": "execute_result",
          "data": {
            "text/plain": [
              "      dateRep  day  month  year  cases  deaths countriesAndTerritories geoId  \\\n",
              "0  14/12/2020   14     12  2020    746       6             Afghanistan    AF   \n",
              "1  13/12/2020   13     12  2020    298       9             Afghanistan    AF   \n",
              "2  12/12/2020   12     12  2020    113      11             Afghanistan    AF   \n",
              "3  12/12/2020   12     12  2020    113      11             Afghanistan    AF   \n",
              "4  11/12/2020   11     12  2020     63      10             Afghanistan    AF   \n",
              "\n",
              "  countryterritoryCode  popData2019 continentExp  \\\n",
              "0                  AFG   38041757.0         Asia   \n",
              "1                  AFG   38041757.0         Asia   \n",
              "2                  AFG   38041757.0         Asia   \n",
              "3                  AFG   38041757.0         Asia   \n",
              "4                  AFG   38041757.0         Asia   \n",
              "\n",
              "   Cumulative_number_for_14_days_of_COVID-19_cases_per_100000  \n",
              "0                                           9.013779           \n",
              "1                                           7.052776           \n",
              "2                                           6.868768           \n",
              "3                                           6.868768           \n",
              "4                                           7.134266           "
            ],
            "text/html": [
              "\n",
              "  <div id=\"df-29b47c5f-e22d-4656-841c-a7610707be74\" class=\"colab-df-container\">\n",
              "    <div>\n",
              "<style scoped>\n",
              "    .dataframe tbody tr th:only-of-type {\n",
              "        vertical-align: middle;\n",
              "    }\n",
              "\n",
              "    .dataframe tbody tr th {\n",
              "        vertical-align: top;\n",
              "    }\n",
              "\n",
              "    .dataframe thead th {\n",
              "        text-align: right;\n",
              "    }\n",
              "</style>\n",
              "<table border=\"1\" class=\"dataframe\">\n",
              "  <thead>\n",
              "    <tr style=\"text-align: right;\">\n",
              "      <th></th>\n",
              "      <th>dateRep</th>\n",
              "      <th>day</th>\n",
              "      <th>month</th>\n",
              "      <th>year</th>\n",
              "      <th>cases</th>\n",
              "      <th>deaths</th>\n",
              "      <th>countriesAndTerritories</th>\n",
              "      <th>geoId</th>\n",
              "      <th>countryterritoryCode</th>\n",
              "      <th>popData2019</th>\n",
              "      <th>continentExp</th>\n",
              "      <th>Cumulative_number_for_14_days_of_COVID-19_cases_per_100000</th>\n",
              "    </tr>\n",
              "  </thead>\n",
              "  <tbody>\n",
              "    <tr>\n",
              "      <th>0</th>\n",
              "      <td>14/12/2020</td>\n",
              "      <td>14</td>\n",
              "      <td>12</td>\n",
              "      <td>2020</td>\n",
              "      <td>746</td>\n",
              "      <td>6</td>\n",
              "      <td>Afghanistan</td>\n",
              "      <td>AF</td>\n",
              "      <td>AFG</td>\n",
              "      <td>38041757.0</td>\n",
              "      <td>Asia</td>\n",
              "      <td>9.013779</td>\n",
              "    </tr>\n",
              "    <tr>\n",
              "      <th>1</th>\n",
              "      <td>13/12/2020</td>\n",
              "      <td>13</td>\n",
              "      <td>12</td>\n",
              "      <td>2020</td>\n",
              "      <td>298</td>\n",
              "      <td>9</td>\n",
              "      <td>Afghanistan</td>\n",
              "      <td>AF</td>\n",
              "      <td>AFG</td>\n",
              "      <td>38041757.0</td>\n",
              "      <td>Asia</td>\n",
              "      <td>7.052776</td>\n",
              "    </tr>\n",
              "    <tr>\n",
              "      <th>2</th>\n",
              "      <td>12/12/2020</td>\n",
              "      <td>12</td>\n",
              "      <td>12</td>\n",
              "      <td>2020</td>\n",
              "      <td>113</td>\n",
              "      <td>11</td>\n",
              "      <td>Afghanistan</td>\n",
              "      <td>AF</td>\n",
              "      <td>AFG</td>\n",
              "      <td>38041757.0</td>\n",
              "      <td>Asia</td>\n",
              "      <td>6.868768</td>\n",
              "    </tr>\n",
              "    <tr>\n",
              "      <th>3</th>\n",
              "      <td>12/12/2020</td>\n",
              "      <td>12</td>\n",
              "      <td>12</td>\n",
              "      <td>2020</td>\n",
              "      <td>113</td>\n",
              "      <td>11</td>\n",
              "      <td>Afghanistan</td>\n",
              "      <td>AF</td>\n",
              "      <td>AFG</td>\n",
              "      <td>38041757.0</td>\n",
              "      <td>Asia</td>\n",
              "      <td>6.868768</td>\n",
              "    </tr>\n",
              "    <tr>\n",
              "      <th>4</th>\n",
              "      <td>11/12/2020</td>\n",
              "      <td>11</td>\n",
              "      <td>12</td>\n",
              "      <td>2020</td>\n",
              "      <td>63</td>\n",
              "      <td>10</td>\n",
              "      <td>Afghanistan</td>\n",
              "      <td>AF</td>\n",
              "      <td>AFG</td>\n",
              "      <td>38041757.0</td>\n",
              "      <td>Asia</td>\n",
              "      <td>7.134266</td>\n",
              "    </tr>\n",
              "  </tbody>\n",
              "</table>\n",
              "</div>\n",
              "    <div class=\"colab-df-buttons\">\n",
              "\n",
              "  <div class=\"colab-df-container\">\n",
              "    <button class=\"colab-df-convert\" onclick=\"convertToInteractive('df-29b47c5f-e22d-4656-841c-a7610707be74')\"\n",
              "            title=\"Convert this dataframe to an interactive table.\"\n",
              "            style=\"display:none;\">\n",
              "\n",
              "  <svg xmlns=\"http://www.w3.org/2000/svg\" height=\"24px\" viewBox=\"0 -960 960 960\">\n",
              "    <path d=\"M120-120v-720h720v720H120Zm60-500h600v-160H180v160Zm220 220h160v-160H400v160Zm0 220h160v-160H400v160ZM180-400h160v-160H180v160Zm440 0h160v-160H620v160ZM180-180h160v-160H180v160Zm440 0h160v-160H620v160Z\"/>\n",
              "  </svg>\n",
              "    </button>\n",
              "\n",
              "  <style>\n",
              "    .colab-df-container {\n",
              "      display:flex;\n",
              "      gap: 12px;\n",
              "    }\n",
              "\n",
              "    .colab-df-convert {\n",
              "      background-color: #E8F0FE;\n",
              "      border: none;\n",
              "      border-radius: 50%;\n",
              "      cursor: pointer;\n",
              "      display: none;\n",
              "      fill: #1967D2;\n",
              "      height: 32px;\n",
              "      padding: 0 0 0 0;\n",
              "      width: 32px;\n",
              "    }\n",
              "\n",
              "    .colab-df-convert:hover {\n",
              "      background-color: #E2EBFA;\n",
              "      box-shadow: 0px 1px 2px rgba(60, 64, 67, 0.3), 0px 1px 3px 1px rgba(60, 64, 67, 0.15);\n",
              "      fill: #174EA6;\n",
              "    }\n",
              "\n",
              "    .colab-df-buttons div {\n",
              "      margin-bottom: 4px;\n",
              "    }\n",
              "\n",
              "    [theme=dark] .colab-df-convert {\n",
              "      background-color: #3B4455;\n",
              "      fill: #D2E3FC;\n",
              "    }\n",
              "\n",
              "    [theme=dark] .colab-df-convert:hover {\n",
              "      background-color: #434B5C;\n",
              "      box-shadow: 0px 1px 3px 1px rgba(0, 0, 0, 0.15);\n",
              "      filter: drop-shadow(0px 1px 2px rgba(0, 0, 0, 0.3));\n",
              "      fill: #FFFFFF;\n",
              "    }\n",
              "  </style>\n",
              "\n",
              "    <script>\n",
              "      const buttonEl =\n",
              "        document.querySelector('#df-29b47c5f-e22d-4656-841c-a7610707be74 button.colab-df-convert');\n",
              "      buttonEl.style.display =\n",
              "        google.colab.kernel.accessAllowed ? 'block' : 'none';\n",
              "\n",
              "      async function convertToInteractive(key) {\n",
              "        const element = document.querySelector('#df-29b47c5f-e22d-4656-841c-a7610707be74');\n",
              "        const dataTable =\n",
              "          await google.colab.kernel.invokeFunction('convertToInteractive',\n",
              "                                                    [key], {});\n",
              "        if (!dataTable) return;\n",
              "\n",
              "        const docLinkHtml = 'Like what you see? Visit the ' +\n",
              "          '<a target=\"_blank\" href=https://colab.research.google.com/notebooks/data_table.ipynb>data table notebook</a>'\n",
              "          + ' to learn more about interactive tables.';\n",
              "        element.innerHTML = '';\n",
              "        dataTable['output_type'] = 'display_data';\n",
              "        await google.colab.output.renderOutput(dataTable, element);\n",
              "        const docLink = document.createElement('div');\n",
              "        docLink.innerHTML = docLinkHtml;\n",
              "        element.appendChild(docLink);\n",
              "      }\n",
              "    </script>\n",
              "  </div>\n",
              "\n",
              "\n",
              "<div id=\"df-ba99c752-b357-4036-8c2b-fb16eb0592f3\">\n",
              "  <button class=\"colab-df-quickchart\" onclick=\"quickchart('df-ba99c752-b357-4036-8c2b-fb16eb0592f3')\"\n",
              "            title=\"Suggest charts.\"\n",
              "            style=\"display:none;\">\n",
              "\n",
              "<svg xmlns=\"http://www.w3.org/2000/svg\" height=\"24px\"viewBox=\"0 0 24 24\"\n",
              "     width=\"24px\">\n",
              "    <g>\n",
              "        <path d=\"M19 3H5c-1.1 0-2 .9-2 2v14c0 1.1.9 2 2 2h14c1.1 0 2-.9 2-2V5c0-1.1-.9-2-2-2zM9 17H7v-7h2v7zm4 0h-2V7h2v10zm4 0h-2v-4h2v4z\"/>\n",
              "    </g>\n",
              "</svg>\n",
              "  </button>\n",
              "\n",
              "<style>\n",
              "  .colab-df-quickchart {\n",
              "      --bg-color: #E8F0FE;\n",
              "      --fill-color: #1967D2;\n",
              "      --hover-bg-color: #E2EBFA;\n",
              "      --hover-fill-color: #174EA6;\n",
              "      --disabled-fill-color: #AAA;\n",
              "      --disabled-bg-color: #DDD;\n",
              "  }\n",
              "\n",
              "  [theme=dark] .colab-df-quickchart {\n",
              "      --bg-color: #3B4455;\n",
              "      --fill-color: #D2E3FC;\n",
              "      --hover-bg-color: #434B5C;\n",
              "      --hover-fill-color: #FFFFFF;\n",
              "      --disabled-bg-color: #3B4455;\n",
              "      --disabled-fill-color: #666;\n",
              "  }\n",
              "\n",
              "  .colab-df-quickchart {\n",
              "    background-color: var(--bg-color);\n",
              "    border: none;\n",
              "    border-radius: 50%;\n",
              "    cursor: pointer;\n",
              "    display: none;\n",
              "    fill: var(--fill-color);\n",
              "    height: 32px;\n",
              "    padding: 0;\n",
              "    width: 32px;\n",
              "  }\n",
              "\n",
              "  .colab-df-quickchart:hover {\n",
              "    background-color: var(--hover-bg-color);\n",
              "    box-shadow: 0 1px 2px rgba(60, 64, 67, 0.3), 0 1px 3px 1px rgba(60, 64, 67, 0.15);\n",
              "    fill: var(--button-hover-fill-color);\n",
              "  }\n",
              "\n",
              "  .colab-df-quickchart-complete:disabled,\n",
              "  .colab-df-quickchart-complete:disabled:hover {\n",
              "    background-color: var(--disabled-bg-color);\n",
              "    fill: var(--disabled-fill-color);\n",
              "    box-shadow: none;\n",
              "  }\n",
              "\n",
              "  .colab-df-spinner {\n",
              "    border: 2px solid var(--fill-color);\n",
              "    border-color: transparent;\n",
              "    border-bottom-color: var(--fill-color);\n",
              "    animation:\n",
              "      spin 1s steps(1) infinite;\n",
              "  }\n",
              "\n",
              "  @keyframes spin {\n",
              "    0% {\n",
              "      border-color: transparent;\n",
              "      border-bottom-color: var(--fill-color);\n",
              "      border-left-color: var(--fill-color);\n",
              "    }\n",
              "    20% {\n",
              "      border-color: transparent;\n",
              "      border-left-color: var(--fill-color);\n",
              "      border-top-color: var(--fill-color);\n",
              "    }\n",
              "    30% {\n",
              "      border-color: transparent;\n",
              "      border-left-color: var(--fill-color);\n",
              "      border-top-color: var(--fill-color);\n",
              "      border-right-color: var(--fill-color);\n",
              "    }\n",
              "    40% {\n",
              "      border-color: transparent;\n",
              "      border-right-color: var(--fill-color);\n",
              "      border-top-color: var(--fill-color);\n",
              "    }\n",
              "    60% {\n",
              "      border-color: transparent;\n",
              "      border-right-color: var(--fill-color);\n",
              "    }\n",
              "    80% {\n",
              "      border-color: transparent;\n",
              "      border-right-color: var(--fill-color);\n",
              "      border-bottom-color: var(--fill-color);\n",
              "    }\n",
              "    90% {\n",
              "      border-color: transparent;\n",
              "      border-bottom-color: var(--fill-color);\n",
              "    }\n",
              "  }\n",
              "</style>\n",
              "\n",
              "  <script>\n",
              "    async function quickchart(key) {\n",
              "      const quickchartButtonEl =\n",
              "        document.querySelector('#' + key + ' button');\n",
              "      quickchartButtonEl.disabled = true;  // To prevent multiple clicks.\n",
              "      quickchartButtonEl.classList.add('colab-df-spinner');\n",
              "      try {\n",
              "        const charts = await google.colab.kernel.invokeFunction(\n",
              "            'suggestCharts', [key], {});\n",
              "      } catch (error) {\n",
              "        console.error('Error during call to suggestCharts:', error);\n",
              "      }\n",
              "      quickchartButtonEl.classList.remove('colab-df-spinner');\n",
              "      quickchartButtonEl.classList.add('colab-df-quickchart-complete');\n",
              "    }\n",
              "    (() => {\n",
              "      let quickchartButtonEl =\n",
              "        document.querySelector('#df-ba99c752-b357-4036-8c2b-fb16eb0592f3 button');\n",
              "      quickchartButtonEl.style.display =\n",
              "        google.colab.kernel.accessAllowed ? 'block' : 'none';\n",
              "    })();\n",
              "  </script>\n",
              "</div>\n",
              "    </div>\n",
              "  </div>\n"
            ]
          },
          "metadata": {},
          "execution_count": 24
        }
      ]
    },
    {
      "cell_type": "code",
      "source": [
        "print(df.isna().sum())"
      ],
      "metadata": {
        "colab": {
          "base_uri": "https://localhost:8080/"
        },
        "id": "_vBQX8mSnOHG",
        "outputId": "36dc2728-891d-4b0b-bd16-756bc98e6028"
      },
      "execution_count": null,
      "outputs": [
        {
          "output_type": "stream",
          "name": "stdout",
          "text": [
            "dateRep                                                          0\n",
            "day                                                              0\n",
            "month                                                            0\n",
            "year                                                             0\n",
            "cases                                                            0\n",
            "deaths                                                           0\n",
            "countriesAndTerritories                                          0\n",
            "geoId                                                          275\n",
            "countryterritoryCode                                           123\n",
            "popData2019                                                    123\n",
            "continentExp                                                     0\n",
            "Cumulative_number_for_14_days_of_COVID-19_cases_per_100000    2879\n",
            "dtype: int64\n"
          ]
        }
      ]
    },
    {
      "cell_type": "code",
      "source": [
        "df = df.drop(\"geoId\", axis=1)\n",
        "df = df.drop(\"Cumulative_number_for_14_days_of_COVID-19_cases_per_100000\", axis=1)\n",
        "print(df.columns)"
      ],
      "metadata": {
        "colab": {
          "base_uri": "https://localhost:8080/"
        },
        "id": "e0qr1zubnR20",
        "outputId": "f53c5cb2-c8a9-4293-8f27-047390919cc5"
      },
      "execution_count": null,
      "outputs": [
        {
          "output_type": "stream",
          "name": "stdout",
          "text": [
            "Index(['dateRep', 'day', 'month', 'year', 'cases', 'deaths',\n",
            "       'countriesAndTerritories', 'countryterritoryCode', 'popData2019',\n",
            "       'continentExp'],\n",
            "      dtype='object')\n"
          ]
        }
      ]
    },
    {
      "cell_type": "code",
      "source": [
        "country_val = {'countryterritoryCode':'Other', 'popData2019':df['popData2019'].median()}\n",
        "df.fillna(value=country_val, inplace=True)"
      ],
      "metadata": {
        "id": "9zKQgtpgnVHr"
      },
      "execution_count": null,
      "outputs": []
    },
    {
      "cell_type": "code",
      "source": [
        "for column in df.columns:\n",
        "    missing = np.mean(df[column].isna() * 100)\n",
        "    print(f\"{column} : {round(missing, 1)}\")\n",
        "print()\n",
        "print(df)"
      ],
      "metadata": {
        "colab": {
          "base_uri": "https://localhost:8080/"
        },
        "id": "-XqglA44nYjD",
        "outputId": "3f8b6132-d185-4a4e-b81d-b9562056b1a0"
      },
      "execution_count": null,
      "outputs": [
        {
          "output_type": "stream",
          "name": "stdout",
          "text": [
            "dateRep : 0.0\n",
            "day : 0.0\n",
            "month : 0.0\n",
            "year : 0.0\n",
            "cases : 0.0\n",
            "deaths : 0.0\n",
            "countriesAndTerritories : 0.0\n",
            "countryterritoryCode : 0.0\n",
            "popData2019 : 0.0\n",
            "continentExp : 0.0\n",
            "\n",
            "          dateRep  day  month  year  cases  deaths countriesAndTerritories  \\\n",
            "0      14/12/2020   14     12  2020    746       6             Afghanistan   \n",
            "1      13/12/2020   13     12  2020    298       9             Afghanistan   \n",
            "2      12/12/2020   12     12  2020    113      11             Afghanistan   \n",
            "3      12/12/2020   12     12  2020    113      11             Afghanistan   \n",
            "4      11/12/2020   11     12  2020     63      10             Afghanistan   \n",
            "...           ...  ...    ...   ...    ...     ...                     ...   \n",
            "61899  25/03/2020   25      3  2020      0       0                Zimbabwe   \n",
            "61900  24/03/2020   24      3  2020      0       1                Zimbabwe   \n",
            "61901  23/03/2020   23      3  2020      0       0                Zimbabwe   \n",
            "61902  22/03/2020   22      3  2020      1       0                Zimbabwe   \n",
            "61903  21/03/2020   21      3  2020      1       0                Zimbabwe   \n",
            "\n",
            "      countryterritoryCode  popData2019 continentExp  \n",
            "0                      AFG   38041757.0         Asia  \n",
            "1                      AFG   38041757.0         Asia  \n",
            "2                      AFG   38041757.0         Asia  \n",
            "3                      AFG   38041757.0         Asia  \n",
            "4                      AFG   38041757.0         Asia  \n",
            "...                    ...          ...          ...  \n",
            "61899                  ZWE   14645473.0       Africa  \n",
            "61900                  ZWE   14645473.0       Africa  \n",
            "61901                  ZWE   14645473.0       Africa  \n",
            "61902                  ZWE   14645473.0       Africa  \n",
            "61903                  ZWE   14645473.0       Africa  \n",
            "\n",
            "[61904 rows x 10 columns]\n"
          ]
        }
      ]
    },
    {
      "cell_type": "markdown",
      "source": [
        "Признаки day, month, year и dateRep описывают дату, для которой собиралась статистика. Cases количество выявленных случаев заражения COVID-19 за день, deaths - количество смертей. CountriesAndTerritories отражает страну, countryterritoryCode - код этой страны, popData2019 - население этой страны на 2019 год. continentExp - континент, на котором находится страна."
      ],
      "metadata": {
        "id": "5nj8-Dv8rZyO"
      }
    },
    {
      "cell_type": "markdown",
      "source": [
        "# 2.1 Построить корреляционную матрицу по одной целевой переменной. Определить наиболее коррелирующую переменную, продолжить с ней работу в следующем пункте."
      ],
      "metadata": {
        "id": "70i-eWvQ1rq3"
      }
    },
    {
      "cell_type": "code",
      "source": [
        "corr_matrix = df.corr().cases.to_frame().round(3)\n",
        "corr_matrix.style.background_gradient('coolwarm')"
      ],
      "metadata": {
        "colab": {
          "base_uri": "https://localhost:8080/",
          "height": 292
        },
        "id": "aSI94Ebl2HH_",
        "outputId": "14aabeea-6d46-4071-d5bc-1fa0a9ade6c7"
      },
      "execution_count": null,
      "outputs": [
        {
          "output_type": "stream",
          "name": "stderr",
          "text": [
            "<ipython-input-8-74e7cfba0545>:1: FutureWarning: The default value of numeric_only in DataFrame.corr is deprecated. In a future version, it will default to False. Select only valid columns or specify the value of numeric_only to silence this warning.\n",
            "  corr_matrix = df.corr().cases.to_frame().round(3)\n"
          ]
        },
        {
          "output_type": "execute_result",
          "data": {
            "text/plain": [
              "<pandas.io.formats.style.Styler at 0x7eac097e6b30>"
            ],
            "text/html": [
              "<style type=\"text/css\">\n",
              "#T_39b1d_row0_col0 {\n",
              "  background-color: #3b4cc0;\n",
              "  color: #f1f1f1;\n",
              "}\n",
              "#T_39b1d_row1_col0 {\n",
              "  background-color: #6180e9;\n",
              "  color: #f1f1f1;\n",
              "}\n",
              "#T_39b1d_row2_col0 {\n",
              "  background-color: #3d50c3;\n",
              "  color: #f1f1f1;\n",
              "}\n",
              "#T_39b1d_row3_col0 {\n",
              "  background-color: #b40426;\n",
              "  color: #f1f1f1;\n",
              "}\n",
              "#T_39b1d_row4_col0 {\n",
              "  background-color: #f59c7d;\n",
              "  color: #000000;\n",
              "}\n",
              "#T_39b1d_row5_col0 {\n",
              "  background-color: #a2c1ff;\n",
              "  color: #000000;\n",
              "}\n",
              "</style>\n",
              "<table id=\"T_39b1d\" class=\"dataframe\">\n",
              "  <thead>\n",
              "    <tr>\n",
              "      <th class=\"blank level0\" >&nbsp;</th>\n",
              "      <th id=\"T_39b1d_level0_col0\" class=\"col_heading level0 col0\" >cases</th>\n",
              "    </tr>\n",
              "  </thead>\n",
              "  <tbody>\n",
              "    <tr>\n",
              "      <th id=\"T_39b1d_level0_row0\" class=\"row_heading level0 row0\" >day</th>\n",
              "      <td id=\"T_39b1d_row0_col0\" class=\"data row0 col0\" >-0.004000</td>\n",
              "    </tr>\n",
              "    <tr>\n",
              "      <th id=\"T_39b1d_level0_row1\" class=\"row_heading level0 row1\" >month</th>\n",
              "      <td id=\"T_39b1d_row1_col0\" class=\"data row1 col0\" >0.119000</td>\n",
              "    </tr>\n",
              "    <tr>\n",
              "      <th id=\"T_39b1d_level0_row2\" class=\"row_heading level0 row2\" >year</th>\n",
              "      <td id=\"T_39b1d_row2_col0\" class=\"data row2 col0\" >0.006000</td>\n",
              "    </tr>\n",
              "    <tr>\n",
              "      <th id=\"T_39b1d_level0_row3\" class=\"row_heading level0 row3\" >cases</th>\n",
              "      <td id=\"T_39b1d_row3_col0\" class=\"data row3 col0\" >1.000000</td>\n",
              "    </tr>\n",
              "    <tr>\n",
              "      <th id=\"T_39b1d_level0_row4\" class=\"row_heading level0 row4\" >deaths</th>\n",
              "      <td id=\"T_39b1d_row4_col0\" class=\"data row4 col0\" >0.744000</td>\n",
              "    </tr>\n",
              "    <tr>\n",
              "      <th id=\"T_39b1d_level0_row5\" class=\"row_heading level0 row5\" >popData2019</th>\n",
              "      <td id=\"T_39b1d_row5_col0\" class=\"data row5 col0\" >0.308000</td>\n",
              "    </tr>\n",
              "  </tbody>\n",
              "</table>\n"
            ]
          },
          "metadata": {},
          "execution_count": 8
        }
      ]
    },
    {
      "cell_type": "code",
      "source": [
        "corr_matrix = df.corr().deaths.to_frame().round(3)\n",
        "corr_matrix.style.background_gradient('coolwarm')"
      ],
      "metadata": {
        "colab": {
          "base_uri": "https://localhost:8080/",
          "height": 292
        },
        "id": "SSX61CoPqVIK",
        "outputId": "bb4a4f29-611e-4859-f3ed-555a7f2e5b08"
      },
      "execution_count": null,
      "outputs": [
        {
          "output_type": "stream",
          "name": "stderr",
          "text": [
            "<ipython-input-9-ffcb2555fec8>:1: FutureWarning: The default value of numeric_only in DataFrame.corr is deprecated. In a future version, it will default to False. Select only valid columns or specify the value of numeric_only to silence this warning.\n",
            "  corr_matrix = df.corr().deaths.to_frame().round(3)\n"
          ]
        },
        {
          "output_type": "execute_result",
          "data": {
            "text/plain": [
              "<pandas.io.formats.style.Styler at 0x7eac37d60220>"
            ],
            "text/html": [
              "<style type=\"text/css\">\n",
              "#T_d3708_row0_col0 {\n",
              "  background-color: #3b4cc0;\n",
              "  color: #f1f1f1;\n",
              "}\n",
              "#T_d3708_row1_col0 {\n",
              "  background-color: #516ddb;\n",
              "  color: #f1f1f1;\n",
              "}\n",
              "#T_d3708_row2_col0 {\n",
              "  background-color: #3e51c5;\n",
              "  color: #f1f1f1;\n",
              "}\n",
              "#T_d3708_row3_col0 {\n",
              "  background-color: #f59c7d;\n",
              "  color: #000000;\n",
              "}\n",
              "#T_d3708_row4_col0 {\n",
              "  background-color: #b40426;\n",
              "  color: #f1f1f1;\n",
              "}\n",
              "#T_d3708_row5_col0 {\n",
              "  background-color: #97b8ff;\n",
              "  color: #000000;\n",
              "}\n",
              "</style>\n",
              "<table id=\"T_d3708\" class=\"dataframe\">\n",
              "  <thead>\n",
              "    <tr>\n",
              "      <th class=\"blank level0\" >&nbsp;</th>\n",
              "      <th id=\"T_d3708_level0_col0\" class=\"col_heading level0 col0\" >deaths</th>\n",
              "    </tr>\n",
              "  </thead>\n",
              "  <tbody>\n",
              "    <tr>\n",
              "      <th id=\"T_d3708_level0_row0\" class=\"row_heading level0 row0\" >day</th>\n",
              "      <td id=\"T_d3708_row0_col0\" class=\"data row0 col0\" >-0.007000</td>\n",
              "    </tr>\n",
              "    <tr>\n",
              "      <th id=\"T_d3708_level0_row1\" class=\"row_heading level0 row1\" >month</th>\n",
              "      <td id=\"T_d3708_row1_col0\" class=\"data row1 col0\" >0.068000</td>\n",
              "    </tr>\n",
              "    <tr>\n",
              "      <th id=\"T_d3708_level0_row2\" class=\"row_heading level0 row2\" >year</th>\n",
              "      <td id=\"T_d3708_row2_col0\" class=\"data row2 col0\" >0.007000</td>\n",
              "    </tr>\n",
              "    <tr>\n",
              "      <th id=\"T_d3708_level0_row3\" class=\"row_heading level0 row3\" >cases</th>\n",
              "      <td id=\"T_d3708_row3_col0\" class=\"data row3 col0\" >0.744000</td>\n",
              "    </tr>\n",
              "    <tr>\n",
              "      <th id=\"T_d3708_level0_row4\" class=\"row_heading level0 row4\" >deaths</th>\n",
              "      <td id=\"T_d3708_row4_col0\" class=\"data row4 col0\" >1.000000</td>\n",
              "    </tr>\n",
              "    <tr>\n",
              "      <th id=\"T_d3708_level0_row5\" class=\"row_heading level0 row5\" >popData2019</th>\n",
              "      <td id=\"T_d3708_row5_col0\" class=\"data row5 col0\" >0.273000</td>\n",
              "    </tr>\n",
              "  </tbody>\n",
              "</table>\n"
            ]
          },
          "metadata": {},
          "execution_count": 9
        }
      ]
    },
    {
      "cell_type": "code",
      "source": [
        "corr_matrix = df.corr().popData2019.to_frame().round(3)\n",
        "corr_matrix.style.background_gradient('coolwarm')"
      ],
      "metadata": {
        "colab": {
          "base_uri": "https://localhost:8080/",
          "height": 292
        },
        "id": "OzWlhdKxqVkp",
        "outputId": "ef496267-3511-45f4-a43e-487eaede9a33"
      },
      "execution_count": null,
      "outputs": [
        {
          "output_type": "stream",
          "name": "stderr",
          "text": [
            "<ipython-input-10-45e9c6d6e974>:1: FutureWarning: The default value of numeric_only in DataFrame.corr is deprecated. In a future version, it will default to False. Select only valid columns or specify the value of numeric_only to silence this warning.\n",
            "  corr_matrix = df.corr().popData2019.to_frame().round(3)\n"
          ]
        },
        {
          "output_type": "execute_result",
          "data": {
            "text/plain": [
              "<pandas.io.formats.style.Styler at 0x7eac37d1a4a0>"
            ],
            "text/html": [
              "<style type=\"text/css\">\n",
              "#T_0a5a4_row0_col0 {\n",
              "  background-color: #485fd1;\n",
              "  color: #f1f1f1;\n",
              "}\n",
              "#T_0a5a4_row1_col0 {\n",
              "  background-color: #3b4cc0;\n",
              "  color: #f1f1f1;\n",
              "}\n",
              "#T_0a5a4_row2_col0 {\n",
              "  background-color: #455cce;\n",
              "  color: #f1f1f1;\n",
              "}\n",
              "#T_0a5a4_row3_col0 {\n",
              "  background-color: #adc9fd;\n",
              "  color: #000000;\n",
              "}\n",
              "#T_0a5a4_row4_col0 {\n",
              "  background-color: #a1c0ff;\n",
              "  color: #000000;\n",
              "}\n",
              "#T_0a5a4_row5_col0 {\n",
              "  background-color: #b40426;\n",
              "  color: #f1f1f1;\n",
              "}\n",
              "</style>\n",
              "<table id=\"T_0a5a4\" class=\"dataframe\">\n",
              "  <thead>\n",
              "    <tr>\n",
              "      <th class=\"blank level0\" >&nbsp;</th>\n",
              "      <th id=\"T_0a5a4_level0_col0\" class=\"col_heading level0 col0\" >popData2019</th>\n",
              "    </tr>\n",
              "  </thead>\n",
              "  <tbody>\n",
              "    <tr>\n",
              "      <th id=\"T_0a5a4_level0_row0\" class=\"row_heading level0 row0\" >day</th>\n",
              "      <td id=\"T_0a5a4_row0_col0\" class=\"data row0 col0\" >-0.003000</td>\n",
              "    </tr>\n",
              "    <tr>\n",
              "      <th id=\"T_0a5a4_level0_row1\" class=\"row_heading level0 row1\" >month</th>\n",
              "      <td id=\"T_0a5a4_row1_col0\" class=\"data row1 col0\" >-0.050000</td>\n",
              "    </tr>\n",
              "    <tr>\n",
              "      <th id=\"T_0a5a4_level0_row2\" class=\"row_heading level0 row2\" >year</th>\n",
              "      <td id=\"T_0a5a4_row2_col0\" class=\"data row2 col0\" >-0.010000</td>\n",
              "    </tr>\n",
              "    <tr>\n",
              "      <th id=\"T_0a5a4_level0_row3\" class=\"row_heading level0 row3\" >cases</th>\n",
              "      <td id=\"T_0a5a4_row3_col0\" class=\"data row3 col0\" >0.308000</td>\n",
              "    </tr>\n",
              "    <tr>\n",
              "      <th id=\"T_0a5a4_level0_row4\" class=\"row_heading level0 row4\" >deaths</th>\n",
              "      <td id=\"T_0a5a4_row4_col0\" class=\"data row4 col0\" >0.273000</td>\n",
              "    </tr>\n",
              "    <tr>\n",
              "      <th id=\"T_0a5a4_level0_row5\" class=\"row_heading level0 row5\" >popData2019</th>\n",
              "      <td id=\"T_0a5a4_row5_col0\" class=\"data row5 col0\" >1.000000</td>\n",
              "    </tr>\n",
              "  </tbody>\n",
              "</table>\n"
            ]
          },
          "metadata": {},
          "execution_count": 10
        }
      ]
    },
    {
      "cell_type": "code",
      "source": [
        "corr_matrix = df.corr().round(3)\n",
        "corr_matrix.style.background_gradient('coolwarm')"
      ],
      "metadata": {
        "colab": {
          "base_uri": "https://localhost:8080/",
          "height": 292
        },
        "id": "MvUKlXg7qcsf",
        "outputId": "eef73cc2-17b6-4df9-ebb8-104f27cbe18c"
      },
      "execution_count": null,
      "outputs": [
        {
          "output_type": "stream",
          "name": "stderr",
          "text": [
            "<ipython-input-11-b0c6e89b9f25>:1: FutureWarning: The default value of numeric_only in DataFrame.corr is deprecated. In a future version, it will default to False. Select only valid columns or specify the value of numeric_only to silence this warning.\n",
            "  corr_matrix = df.corr().round(3)\n"
          ]
        },
        {
          "output_type": "execute_result",
          "data": {
            "text/plain": [
              "<pandas.io.formats.style.Styler at 0x7eac092a6350>"
            ],
            "text/html": [
              "<style type=\"text/css\">\n",
              "#T_1914a_row0_col0, #T_1914a_row1_col1, #T_1914a_row2_col2, #T_1914a_row3_col3, #T_1914a_row4_col4, #T_1914a_row5_col5 {\n",
              "  background-color: #b40426;\n",
              "  color: #f1f1f1;\n",
              "}\n",
              "#T_1914a_row0_col1, #T_1914a_row0_col2, #T_1914a_row0_col3, #T_1914a_row0_col4, #T_1914a_row1_col0, #T_1914a_row1_col2, #T_1914a_row1_col5 {\n",
              "  background-color: #3b4cc0;\n",
              "  color: #f1f1f1;\n",
              "}\n",
              "#T_1914a_row0_col5, #T_1914a_row5_col2 {\n",
              "  background-color: #485fd1;\n",
              "  color: #f1f1f1;\n",
              "}\n",
              "#T_1914a_row1_col3 {\n",
              "  background-color: #6180e9;\n",
              "  color: #f1f1f1;\n",
              "}\n",
              "#T_1914a_row1_col4 {\n",
              "  background-color: #516ddb;\n",
              "  color: #f1f1f1;\n",
              "}\n",
              "#T_1914a_row2_col0, #T_1914a_row2_col1 {\n",
              "  background-color: #4961d2;\n",
              "  color: #f1f1f1;\n",
              "}\n",
              "#T_1914a_row2_col3 {\n",
              "  background-color: #3d50c3;\n",
              "  color: #f1f1f1;\n",
              "}\n",
              "#T_1914a_row2_col4 {\n",
              "  background-color: #3e51c5;\n",
              "  color: #f1f1f1;\n",
              "}\n",
              "#T_1914a_row2_col5 {\n",
              "  background-color: #455cce;\n",
              "  color: #f1f1f1;\n",
              "}\n",
              "#T_1914a_row3_col0, #T_1914a_row5_col0 {\n",
              "  background-color: #5875e1;\n",
              "  color: #f1f1f1;\n",
              "}\n",
              "#T_1914a_row3_col1 {\n",
              "  background-color: #7da0f9;\n",
              "  color: #f1f1f1;\n",
              "}\n",
              "#T_1914a_row3_col2, #T_1914a_row4_col2 {\n",
              "  background-color: #4c66d6;\n",
              "  color: #f1f1f1;\n",
              "}\n",
              "#T_1914a_row3_col4, #T_1914a_row4_col3 {\n",
              "  background-color: #f59c7d;\n",
              "  color: #000000;\n",
              "}\n",
              "#T_1914a_row3_col5 {\n",
              "  background-color: #adc9fd;\n",
              "  color: #000000;\n",
              "}\n",
              "#T_1914a_row4_col0 {\n",
              "  background-color: #5673e0;\n",
              "  color: #f1f1f1;\n",
              "}\n",
              "#T_1914a_row4_col1 {\n",
              "  background-color: #6e90f2;\n",
              "  color: #f1f1f1;\n",
              "}\n",
              "#T_1914a_row4_col5 {\n",
              "  background-color: #a1c0ff;\n",
              "  color: #000000;\n",
              "}\n",
              "#T_1914a_row5_col1 {\n",
              "  background-color: #4a63d3;\n",
              "  color: #f1f1f1;\n",
              "}\n",
              "#T_1914a_row5_col3 {\n",
              "  background-color: #a2c1ff;\n",
              "  color: #000000;\n",
              "}\n",
              "#T_1914a_row5_col4 {\n",
              "  background-color: #97b8ff;\n",
              "  color: #000000;\n",
              "}\n",
              "</style>\n",
              "<table id=\"T_1914a\" class=\"dataframe\">\n",
              "  <thead>\n",
              "    <tr>\n",
              "      <th class=\"blank level0\" >&nbsp;</th>\n",
              "      <th id=\"T_1914a_level0_col0\" class=\"col_heading level0 col0\" >day</th>\n",
              "      <th id=\"T_1914a_level0_col1\" class=\"col_heading level0 col1\" >month</th>\n",
              "      <th id=\"T_1914a_level0_col2\" class=\"col_heading level0 col2\" >year</th>\n",
              "      <th id=\"T_1914a_level0_col3\" class=\"col_heading level0 col3\" >cases</th>\n",
              "      <th id=\"T_1914a_level0_col4\" class=\"col_heading level0 col4\" >deaths</th>\n",
              "      <th id=\"T_1914a_level0_col5\" class=\"col_heading level0 col5\" >popData2019</th>\n",
              "    </tr>\n",
              "  </thead>\n",
              "  <tbody>\n",
              "    <tr>\n",
              "      <th id=\"T_1914a_level0_row0\" class=\"row_heading level0 row0\" >day</th>\n",
              "      <td id=\"T_1914a_row0_col0\" class=\"data row0 col0\" >1.000000</td>\n",
              "      <td id=\"T_1914a_row0_col1\" class=\"data row0 col1\" >-0.110000</td>\n",
              "      <td id=\"T_1914a_row0_col2\" class=\"data row0 col2\" >-0.057000</td>\n",
              "      <td id=\"T_1914a_row0_col3\" class=\"data row0 col3\" >-0.004000</td>\n",
              "      <td id=\"T_1914a_row0_col4\" class=\"data row0 col4\" >-0.007000</td>\n",
              "      <td id=\"T_1914a_row0_col5\" class=\"data row0 col5\" >-0.003000</td>\n",
              "    </tr>\n",
              "    <tr>\n",
              "      <th id=\"T_1914a_level0_row1\" class=\"row_heading level0 row1\" >month</th>\n",
              "      <td id=\"T_1914a_row1_col0\" class=\"data row1 col0\" >-0.110000</td>\n",
              "      <td id=\"T_1914a_row1_col1\" class=\"data row1 col1\" >1.000000</td>\n",
              "      <td id=\"T_1914a_row1_col2\" class=\"data row1 col2\" >-0.055000</td>\n",
              "      <td id=\"T_1914a_row1_col3\" class=\"data row1 col3\" >0.119000</td>\n",
              "      <td id=\"T_1914a_row1_col4\" class=\"data row1 col4\" >0.068000</td>\n",
              "      <td id=\"T_1914a_row1_col5\" class=\"data row1 col5\" >-0.050000</td>\n",
              "    </tr>\n",
              "    <tr>\n",
              "      <th id=\"T_1914a_level0_row2\" class=\"row_heading level0 row2\" >year</th>\n",
              "      <td id=\"T_1914a_row2_col0\" class=\"data row2 col0\" >-0.057000</td>\n",
              "      <td id=\"T_1914a_row2_col1\" class=\"data row2 col1\" >-0.055000</td>\n",
              "      <td id=\"T_1914a_row2_col2\" class=\"data row2 col2\" >1.000000</td>\n",
              "      <td id=\"T_1914a_row2_col3\" class=\"data row2 col3\" >0.006000</td>\n",
              "      <td id=\"T_1914a_row2_col4\" class=\"data row2 col4\" >0.007000</td>\n",
              "      <td id=\"T_1914a_row2_col5\" class=\"data row2 col5\" >-0.010000</td>\n",
              "    </tr>\n",
              "    <tr>\n",
              "      <th id=\"T_1914a_level0_row3\" class=\"row_heading level0 row3\" >cases</th>\n",
              "      <td id=\"T_1914a_row3_col0\" class=\"data row3 col0\" >-0.004000</td>\n",
              "      <td id=\"T_1914a_row3_col1\" class=\"data row3 col1\" >0.119000</td>\n",
              "      <td id=\"T_1914a_row3_col2\" class=\"data row3 col2\" >0.006000</td>\n",
              "      <td id=\"T_1914a_row3_col3\" class=\"data row3 col3\" >1.000000</td>\n",
              "      <td id=\"T_1914a_row3_col4\" class=\"data row3 col4\" >0.744000</td>\n",
              "      <td id=\"T_1914a_row3_col5\" class=\"data row3 col5\" >0.308000</td>\n",
              "    </tr>\n",
              "    <tr>\n",
              "      <th id=\"T_1914a_level0_row4\" class=\"row_heading level0 row4\" >deaths</th>\n",
              "      <td id=\"T_1914a_row4_col0\" class=\"data row4 col0\" >-0.007000</td>\n",
              "      <td id=\"T_1914a_row4_col1\" class=\"data row4 col1\" >0.068000</td>\n",
              "      <td id=\"T_1914a_row4_col2\" class=\"data row4 col2\" >0.007000</td>\n",
              "      <td id=\"T_1914a_row4_col3\" class=\"data row4 col3\" >0.744000</td>\n",
              "      <td id=\"T_1914a_row4_col4\" class=\"data row4 col4\" >1.000000</td>\n",
              "      <td id=\"T_1914a_row4_col5\" class=\"data row4 col5\" >0.273000</td>\n",
              "    </tr>\n",
              "    <tr>\n",
              "      <th id=\"T_1914a_level0_row5\" class=\"row_heading level0 row5\" >popData2019</th>\n",
              "      <td id=\"T_1914a_row5_col0\" class=\"data row5 col0\" >-0.003000</td>\n",
              "      <td id=\"T_1914a_row5_col1\" class=\"data row5 col1\" >-0.050000</td>\n",
              "      <td id=\"T_1914a_row5_col2\" class=\"data row5 col2\" >-0.010000</td>\n",
              "      <td id=\"T_1914a_row5_col3\" class=\"data row5 col3\" >0.308000</td>\n",
              "      <td id=\"T_1914a_row5_col4\" class=\"data row5 col4\" >0.273000</td>\n",
              "      <td id=\"T_1914a_row5_col5\" class=\"data row5 col5\" >1.000000</td>\n",
              "    </tr>\n",
              "  </tbody>\n",
              "</table>\n"
            ]
          },
          "metadata": {},
          "execution_count": 11
        }
      ]
    },
    {
      "cell_type": "code",
      "source": [
        "#Определение самой коррелирующей переменной\n",
        "columns_to_corr = ['cases', 'deaths', 'popData2019']\n",
        "corr_val_list = []\n",
        "dataset_to_corr = pd.DataFrame(df, columns = ['cases', 'deaths', 'popData2019'])\n",
        "corr_matrix = dataset_to_corr.corr()\n",
        "max = -1\n",
        "sum_score_list = []\n",
        "for feauture in columns_to_corr:\n",
        "    corr_sum = 0\n",
        "    for feauture_to_compare in columns_to_corr:\n",
        "        corr = abs(round(df[feauture].corr(df[feauture_to_compare]), 2))\n",
        "        corr_sum += corr\n",
        "    if corr_sum > max:\n",
        "        max = corr_sum\n",
        "        max_corr_feauture = feauture\n",
        "    sum_score_list.append(corr_sum)\n",
        "score_dict = {columns_to_corr[i]: sum_score_list[i] for i in range(0,3)}\n",
        "\n",
        "print(f\"Переменная с максимальной суммарной корреляцией - {max_corr_feauture}\")\n",
        "print(f\"Суммарная корреляция ко всем остальным переменным относительно текущей - {score_dict[max_corr_feauture]}\")"
      ],
      "metadata": {
        "colab": {
          "base_uri": "https://localhost:8080/"
        },
        "id": "AxHfGQi-rR_0",
        "outputId": "729643e8-b2c8-4dd1-b660-82fa6b7f9c5a"
      },
      "execution_count": null,
      "outputs": [
        {
          "output_type": "stream",
          "name": "stdout",
          "text": [
            "Переменная с максимальной суммарной корреляцией - cases\n",
            "Суммарная корреляция ко всем остальным переменным относительно текущей - 2.05\n"
          ]
        }
      ]
    },
    {
      "cell_type": "markdown",
      "source": [
        "# 2.2 Реализовать регрессию вручную, отобразить наклон, сдвиг и MSE."
      ],
      "metadata": {
        "id": "ESbsScDm1tPR"
      }
    },
    {
      "cell_type": "code",
      "source": [
        "model = LinearRegression()\n"
      ],
      "metadata": {
        "id": "tisLxwjC2Hgb"
      },
      "execution_count": null,
      "outputs": []
    },
    {
      "cell_type": "code",
      "source": [
        "x = np.array(df['deaths']).reshape(-1, 1)\n",
        "y = np.array(df['cases'])"
      ],
      "metadata": {
        "id": "zkRjuTO2yOYz"
      },
      "execution_count": null,
      "outputs": []
    },
    {
      "cell_type": "code",
      "source": [
        "model.fit(x, y)"
      ],
      "metadata": {
        "colab": {
          "base_uri": "https://localhost:8080/",
          "height": 75
        },
        "id": "dDAUQzZ2ySpX",
        "outputId": "992f4e15-28e5-46cc-ca27-19759f9cb1c4"
      },
      "execution_count": null,
      "outputs": [
        {
          "output_type": "execute_result",
          "data": {
            "text/plain": [
              "LinearRegression()"
            ],
            "text/html": [
              "<style>#sk-container-id-1 {color: black;background-color: white;}#sk-container-id-1 pre{padding: 0;}#sk-container-id-1 div.sk-toggleable {background-color: white;}#sk-container-id-1 label.sk-toggleable__label {cursor: pointer;display: block;width: 100%;margin-bottom: 0;padding: 0.3em;box-sizing: border-box;text-align: center;}#sk-container-id-1 label.sk-toggleable__label-arrow:before {content: \"▸\";float: left;margin-right: 0.25em;color: #696969;}#sk-container-id-1 label.sk-toggleable__label-arrow:hover:before {color: black;}#sk-container-id-1 div.sk-estimator:hover label.sk-toggleable__label-arrow:before {color: black;}#sk-container-id-1 div.sk-toggleable__content {max-height: 0;max-width: 0;overflow: hidden;text-align: left;background-color: #f0f8ff;}#sk-container-id-1 div.sk-toggleable__content pre {margin: 0.2em;color: black;border-radius: 0.25em;background-color: #f0f8ff;}#sk-container-id-1 input.sk-toggleable__control:checked~div.sk-toggleable__content {max-height: 200px;max-width: 100%;overflow: auto;}#sk-container-id-1 input.sk-toggleable__control:checked~label.sk-toggleable__label-arrow:before {content: \"▾\";}#sk-container-id-1 div.sk-estimator input.sk-toggleable__control:checked~label.sk-toggleable__label {background-color: #d4ebff;}#sk-container-id-1 div.sk-label input.sk-toggleable__control:checked~label.sk-toggleable__label {background-color: #d4ebff;}#sk-container-id-1 input.sk-hidden--visually {border: 0;clip: rect(1px 1px 1px 1px);clip: rect(1px, 1px, 1px, 1px);height: 1px;margin: -1px;overflow: hidden;padding: 0;position: absolute;width: 1px;}#sk-container-id-1 div.sk-estimator {font-family: monospace;background-color: #f0f8ff;border: 1px dotted black;border-radius: 0.25em;box-sizing: border-box;margin-bottom: 0.5em;}#sk-container-id-1 div.sk-estimator:hover {background-color: #d4ebff;}#sk-container-id-1 div.sk-parallel-item::after {content: \"\";width: 100%;border-bottom: 1px solid gray;flex-grow: 1;}#sk-container-id-1 div.sk-label:hover label.sk-toggleable__label {background-color: #d4ebff;}#sk-container-id-1 div.sk-serial::before {content: \"\";position: absolute;border-left: 1px solid gray;box-sizing: border-box;top: 0;bottom: 0;left: 50%;z-index: 0;}#sk-container-id-1 div.sk-serial {display: flex;flex-direction: column;align-items: center;background-color: white;padding-right: 0.2em;padding-left: 0.2em;position: relative;}#sk-container-id-1 div.sk-item {position: relative;z-index: 1;}#sk-container-id-1 div.sk-parallel {display: flex;align-items: stretch;justify-content: center;background-color: white;position: relative;}#sk-container-id-1 div.sk-item::before, #sk-container-id-1 div.sk-parallel-item::before {content: \"\";position: absolute;border-left: 1px solid gray;box-sizing: border-box;top: 0;bottom: 0;left: 50%;z-index: -1;}#sk-container-id-1 div.sk-parallel-item {display: flex;flex-direction: column;z-index: 1;position: relative;background-color: white;}#sk-container-id-1 div.sk-parallel-item:first-child::after {align-self: flex-end;width: 50%;}#sk-container-id-1 div.sk-parallel-item:last-child::after {align-self: flex-start;width: 50%;}#sk-container-id-1 div.sk-parallel-item:only-child::after {width: 0;}#sk-container-id-1 div.sk-dashed-wrapped {border: 1px dashed gray;margin: 0 0.4em 0.5em 0.4em;box-sizing: border-box;padding-bottom: 0.4em;background-color: white;}#sk-container-id-1 div.sk-label label {font-family: monospace;font-weight: bold;display: inline-block;line-height: 1.2em;}#sk-container-id-1 div.sk-label-container {text-align: center;}#sk-container-id-1 div.sk-container {/* jupyter's `normalize.less` sets `[hidden] { display: none; }` but bootstrap.min.css set `[hidden] { display: none !important; }` so we also need the `!important` here to be able to override the default hidden behavior on the sphinx rendered scikit-learn.org. See: https://github.com/scikit-learn/scikit-learn/issues/21755 */display: inline-block !important;position: relative;}#sk-container-id-1 div.sk-text-repr-fallback {display: none;}</style><div id=\"sk-container-id-1\" class=\"sk-top-container\"><div class=\"sk-text-repr-fallback\"><pre>LinearRegression()</pre><b>In a Jupyter environment, please rerun this cell to show the HTML representation or trust the notebook. <br />On GitHub, the HTML representation is unable to render, please try loading this page with nbviewer.org.</b></div><div class=\"sk-container\" hidden><div class=\"sk-item\"><div class=\"sk-estimator sk-toggleable\"><input class=\"sk-toggleable__control sk-hidden--visually\" id=\"sk-estimator-id-1\" type=\"checkbox\" checked><label for=\"sk-estimator-id-1\" class=\"sk-toggleable__label sk-toggleable__label-arrow\">LinearRegression</label><div class=\"sk-toggleable__content\"><pre>LinearRegression()</pre></div></div></div></div></div>"
            ]
          },
          "metadata": {},
          "execution_count": 15
        }
      ]
    },
    {
      "cell_type": "code",
      "source": [
        "model.coef_, model.intercept_"
      ],
      "metadata": {
        "colab": {
          "base_uri": "https://localhost:8080/"
        },
        "id": "1Sx5vQzQyZJ7",
        "outputId": "3b09bc39-6e07-4e0b-8aa6-16559a48e63b"
      },
      "execution_count": null,
      "outputs": [
        {
          "output_type": "execute_result",
          "data": {
            "text/plain": [
              "(array([38.41170663]), 154.30092742273678)"
            ]
          },
          "metadata": {},
          "execution_count": 16
        }
      ]
    },
    {
      "cell_type": "code",
      "source": [
        "k = model.coef_[0]\n",
        "b = model.intercept_\n",
        "\n",
        "print(k, b)\n",
        "\n",
        "y_regr = k * x + b\n",
        "plt.figure(figsize = (10,7))\n",
        "plt.plot(x, y_regr, alpha = 0.7, lw=2, color='black', ls='dotted',\n",
        "         label=f'linear model = {model.coef_[0]:.2f}x + {model.intercept_:.2f}'\n",
        "         )\n",
        "plt.legend()\n",
        "plt.xlabel('deaths')\n",
        "plt.ylabel('cases')\n",
        "plt.scatter(x, y, color='grey', edgecolors='red', lw=1, s=17)\n",
        "plt.grid(True)"
      ],
      "metadata": {
        "colab": {
          "base_uri": "https://localhost:8080/",
          "height": 641
        },
        "id": "IYbZ7WhDyqRW",
        "outputId": "6c25f1e7-fbde-4c3e-b42e-f51860cf221e"
      },
      "execution_count": null,
      "outputs": [
        {
          "output_type": "stream",
          "name": "stdout",
          "text": [
            "38.41170662842138 154.30092742273678\n"
          ]
        },
        {
          "output_type": "display_data",
          "data": {
            "text/plain": [
              "<Figure size 1000x700 with 1 Axes>"
            ],
            "image/png": "[encoded data removed]"
          },
          "metadata": {}
        }
      ]
    },
    {
      "cell_type": "code",
      "source": [
        "print(f\"k = {model.coef_[0]:.2f}\")\n",
        "print(f\"b = {model.intercept_:.2f}\")\n",
        "print(f\"MSE = {stats.mean_squared_error(y, y_regr):.2f}\")"
      ],
      "metadata": {
        "colab": {
          "base_uri": "https://localhost:8080/"
        },
        "id": "wzyBPnH2zOe2",
        "outputId": "d7eacd1e-6956-4501-ff6a-9876e330dafa"
      },
      "execution_count": null,
      "outputs": [
        {
          "output_type": "stream",
          "name": "stdout",
          "text": [
            "k = 38.41\n",
            "b = 154.30\n",
            "MSE = 20548041.80\n"
          ]
        }
      ]
    },
    {
      "cell_type": "code",
      "source": [
        "def mserror(x, w_k, w_b, y):\n",
        "    y_regr_manual = w_k * x[:, 0] + w_b\n",
        "    return np.sum((y - y_regr_manual) ** 2) / len(y_regr_manual)\n",
        "\n",
        "\n",
        "#функция для вычисления grad(mse)\\n\",\n",
        "def grad_mserror(x, w_k, w_b, y):\n",
        "    y_regr_manual = w_k * x[:,0] + w_b\n",
        "    return np.array([2/len(x) * np.sum(y - y_regr_manual) * (-1),\n",
        "                    2/len(x) * np.sum((y - y_regr_manual) * (-x[:, 0]))])"
      ],
      "metadata": {
        "id": "zvCzxAii4TR7"
      },
      "execution_count": null,
      "outputs": []
    },
    {
      "cell_type": "code",
      "source": [
        "eps = 0.001\n",
        "\n",
        "#начальное состояние\",\n",
        "w_k = 0\n",
        "w_b = 0\n",
        "\n",
        "next_w_k = w_k\n",
        "next_w_b = w_b\n",
        "\n",
        "#размер шага\n",
        "learning_rate = 0.00001\n",
        "\n",
        "#Определение количества итераций,\n",
        "n = 10000000000000\n",
        "\n",
        "for i in range(n):\n",
        "    cur_w_k = next_w_k\n",
        "    cur_w_b = next_w_b\n",
        "\n",
        "    #движение в сторону, противоположную направлению градиента\\n\",\n",
        "    next_w_k = cur_w_k - learning_rate * grad_mserror(x, cur_w_k, cur_w_b, y)[1]\n",
        "    next_w_b = cur_w_b - learning_rate * grad_mserror(x, cur_w_k, cur_w_b, y)[0]\n",
        "\n",
        "    #Остновка вычисления, когда достигнута требуемая точность\\n\",\n",
        "    if i > 56530:\n",
        "        print(f\"Итерация {i}\")\n",
        "        print(f\"Текущая точка {cur_w_k, cur_w_b} | Следующая точка {next_w_k, next_w_b}\")\n",
        "        print(f\"MSE = {mserror(x, cur_w_k, cur_w_b, y)}\")\n",
        "        print(\"------------------------------------------------------------------------------------\")\n",
        "    if abs(cur_w_k - next_w_k) < eps and abs(cur_w_b - next_w_b) < eps:\n",
        "        print(\"The end of calculations\")\n",
        "        break"
      ],
      "metadata": {
        "colab": {
          "base_uri": "https://localhost:8080/"
        },
        "id": "b9I9YS-A4VfS",
        "outputId": "06caf3b3-98bc-4b55-f527-1accbb573b52"
      },
      "execution_count": null,
      "outputs": [
        {
          "output_type": "stream",
          "name": "stdout",
          "text": [
            "Итерация 56531\n",
            "Текущая точка (38.48737259753492, 102.3243799010691) | Следующая точка (38.4873711416137, 102.3253800040163)\n",
            "MSE = 20550640.90296073\n",
            "------------------------------------------------------------------------------------\n",
            "Итерация 56532\n",
            "Текущая точка (38.4873711416137, 102.3253800040163) | Следующая точка (38.48736968572049, 102.32638008772008)\n",
            "MSE = 20550640.802940883\n",
            "------------------------------------------------------------------------------------\n",
            "Итерация 56533\n",
            "Текущая точка (38.48736968572049, 102.32638008772008) | Следующая точка (38.48736822985529, 102.32738015218084)\n",
            "MSE = 20550640.702924892\n",
            "------------------------------------------------------------------------------------\n",
            "Итерация 56534\n",
            "Текущая точка (38.48736822985529, 102.32738015218084) | Следующая точка (38.487366774018106, 102.32838019739891)\n",
            "MSE = 20550640.60291275\n",
            "------------------------------------------------------------------------------------\n",
            "Итерация 56535\n",
            "Текущая точка (38.487366774018106, 102.32838019739891) | Следующая точка (38.48736531820894, 102.3293802233747)\n",
            "MSE = 20550640.502904456\n",
            "------------------------------------------------------------------------------------\n",
            "Итерация 56536\n",
            "Текущая точка (38.48736531820894, 102.3293802233747) | Следующая точка (38.48736386242778, 102.33038023010856)\n",
            "MSE = 20550640.402900007\n",
            "------------------------------------------------------------------------------------\n",
            "Итерация 56537\n",
            "Текущая точка (38.48736386242778, 102.33038023010856) | Следующая точка (38.48736240667463, 102.33138021760087)\n",
            "MSE = 20550640.302899417\n",
            "------------------------------------------------------------------------------------\n",
            "The end of calculations\n"
          ]
        }
      ]
    },
    {
      "cell_type": "markdown",
      "source": [
        "# 2.3 Визуализировать регрессию на графике."
      ],
      "metadata": {
        "id": "h4XsHSua1xgo"
      }
    },
    {
      "cell_type": "code",
      "source": [
        "k_man = next_w_k\n",
        "b_man = next_w_b\n",
        "\n",
        "y_regr_manual = k_man * x + b_man\n",
        "plt.figure(figsize = (10,7))\n",
        "plt.plot(x, y_regr_manual, alpha = 0.7, lw=2, color='black', ls='dotted',\n",
        "         label=f\"linear model = {k_man:.2f}x + {b_man:.2f}\")\n",
        "plt.legend()\n",
        "plt.xlabel('deaths')\n",
        "plt.ylabel('cases')\n",
        "plt.scatter(x, y, color='grey', edgecolors='red', lw=1, s=17)\n",
        "plt.grid(True)"
      ],
      "metadata": {
        "colab": {
          "base_uri": "https://localhost:8080/",
          "height": 624
        },
        "id": "easdGfNz3-8h",
        "outputId": "6b83d878-0a1a-441e-8201-64c617aa989d"
      },
      "execution_count": null,
      "outputs": [
        {
          "output_type": "display_data",
          "data": {
            "text/plain": [
              "<Figure size 1000x700 with 1 Axes>"
            ],
            "image/png": "[encoded data removed]"
          },
          "metadata": {}
        }
      ]
    },
    {
      "cell_type": "code",
      "source": [
        "plt.figure(figsize = (10,7))\n",
        "plt.plot(x, y_regr, alpha = 0.7, lw=2, color='black', ls='dotted',\n",
        "         label=f\"linear model = {k:.2f}x + {b:.2f} (sklearn)\")\n",
        "\n",
        "plt.plot(x, y_regr_manual, alpha = 0.7, lw=2, color='green', ls='dotted',\n",
        "         label=f\"linear model = {k_man:.2f}x + {b_man:.2f} (manual)\")\n",
        "\n",
        "plt.legend()\n",
        "plt.xlabel('deaths')\n",
        "plt.ylabel('cases')\n",
        "plt.scatter(x, y, color='grey', edgecolors='red', lw=1, s=17)\n",
        "plt.grid(True)"
      ],
      "metadata": {
        "colab": {
          "base_uri": "https://localhost:8080/",
          "height": 624
        },
        "id": "I9VSc-jA4CEF",
        "outputId": "2af22fe7-c2c4-4f1c-b8bc-87baf429ce95"
      },
      "execution_count": null,
      "outputs": [
        {
          "output_type": "display_data",
          "data": {
            "text/plain": [
              "<Figure size 1000x700 with 1 Axes>"
            ],
            "image/png": "[encoded data removed]"
          },
          "metadata": {}
        }
      ]
    },
    {
      "cell_type": "code",
      "source": [
        "print(f\"k = {k_man:.2f}\")\n",
        "print(f\"b = {b_man:.2f}\")\n",
        "print()\n",
        "print(f\"MSE = {stats.mean_squared_error(y, y_regr_manual):.2f}\")"
      ],
      "metadata": {
        "colab": {
          "base_uri": "https://localhost:8080/"
        },
        "id": "oOmPxwAm4D5Z",
        "outputId": "e7802ffe-f564-4bee-b90a-020d1520433d"
      },
      "execution_count": null,
      "outputs": [
        {
          "output_type": "stream",
          "name": "stdout",
          "text": [
            "------------------//Параметры обученной модели//--------------\n",
            "k = 38.49\n",
            "b = 102.33\n",
            "\n",
            "----------------------//Метрики//---------------------------\n",
            "MSE = 20550640.20\n"
          ]
        }
      ]
    },
    {
      "cell_type": "markdown",
      "source": [
        "# 3. Загрузить данные: 'insurance.csv'. Вывести и провести предобработку. Вывести список уникальных регионов."
      ],
      "metadata": {
        "id": "zOIDdgJs1zJp"
      }
    },
    {
      "cell_type": "code",
      "source": [
        "df = pd.read_csv(\"/content/drive/MyDrive/AI_Datasets/BigData_3/insurance.csv\")\n",
        "df.head()"
      ],
      "metadata": {
        "id": "AgMrWzL72IGi",
        "colab": {
          "base_uri": "https://localhost:8080/",
          "height": 206
        },
        "outputId": "063e821c-82b6-4361-e3e0-1ac438e42883"
      },
      "execution_count": null,
      "outputs": [
        {
          "output_type": "execute_result",
          "data": {
            "text/plain": [
              "   age     sex     bmi  children smoker     region      charges\n",
              "0   19  female  27.900         0    yes  southwest  16884.92400\n",
              "1   18    male  33.770         1     no  southeast   1725.55230\n",
              "2   28    male  33.000         3     no  southeast   4449.46200\n",
              "3   33    male  22.705         0     no  northwest  21984.47061\n",
              "4   32    male  28.880         0     no  northwest   3866.85520"
            ],
            "text/html": [
              "\n",
              "  <div id=\"df-e84388c7-9963-4e47-8f6f-96c585208bf2\" class=\"colab-df-container\">\n",
              "    <div>\n",
              "<style scoped>\n",
              "    .dataframe tbody tr th:only-of-type {\n",
              "        vertical-align: middle;\n",
              "    }\n",
              "\n",
              "    .dataframe tbody tr th {\n",
              "        vertical-align: top;\n",
              "    }\n",
              "\n",
              "    .dataframe thead th {\n",
              "        text-align: right;\n",
              "    }\n",
              "</style>\n",
              "<table border=\"1\" class=\"dataframe\">\n",
              "  <thead>\n",
              "    <tr style=\"text-align: right;\">\n",
              "      <th></th>\n",
              "      <th>age</th>\n",
              "      <th>sex</th>\n",
              "      <th>bmi</th>\n",
              "      <th>children</th>\n",
              "      <th>smoker</th>\n",
              "      <th>region</th>\n",
              "      <th>charges</th>\n",
              "    </tr>\n",
              "  </thead>\n",
              "  <tbody>\n",
              "    <tr>\n",
              "      <th>0</th>\n",
              "      <td>19</td>\n",
              "      <td>female</td>\n",
              "      <td>27.900</td>\n",
              "      <td>0</td>\n",
              "      <td>yes</td>\n",
              "      <td>southwest</td>\n",
              "      <td>16884.92400</td>\n",
              "    </tr>\n",
              "    <tr>\n",
              "      <th>1</th>\n",
              "      <td>18</td>\n",
              "      <td>male</td>\n",
              "      <td>33.770</td>\n",
              "      <td>1</td>\n",
              "      <td>no</td>\n",
              "      <td>southeast</td>\n",
              "      <td>1725.55230</td>\n",
              "    </tr>\n",
              "    <tr>\n",
              "      <th>2</th>\n",
              "      <td>28</td>\n",
              "      <td>male</td>\n",
              "      <td>33.000</td>\n",
              "      <td>3</td>\n",
              "      <td>no</td>\n",
              "      <td>southeast</td>\n",
              "      <td>4449.46200</td>\n",
              "    </tr>\n",
              "    <tr>\n",
              "      <th>3</th>\n",
              "      <td>33</td>\n",
              "      <td>male</td>\n",
              "      <td>22.705</td>\n",
              "      <td>0</td>\n",
              "      <td>no</td>\n",
              "      <td>northwest</td>\n",
              "      <td>21984.47061</td>\n",
              "    </tr>\n",
              "    <tr>\n",
              "      <th>4</th>\n",
              "      <td>32</td>\n",
              "      <td>male</td>\n",
              "      <td>28.880</td>\n",
              "      <td>0</td>\n",
              "      <td>no</td>\n",
              "      <td>northwest</td>\n",
              "      <td>3866.85520</td>\n",
              "    </tr>\n",
              "  </tbody>\n",
              "</table>\n",
              "</div>\n",
              "    <div class=\"colab-df-buttons\">\n",
              "\n",
              "  <div class=\"colab-df-container\">\n",
              "    <button class=\"colab-df-convert\" onclick=\"convertToInteractive('df-e84388c7-9963-4e47-8f6f-96c585208bf2')\"\n",
              "            title=\"Convert this dataframe to an interactive table.\"\n",
              "            style=\"display:none;\">\n",
              "\n",
              "  <svg xmlns=\"http://www.w3.org/2000/svg\" height=\"24px\" viewBox=\"0 -960 960 960\">\n",
              "    <path d=\"M120-120v-720h720v720H120Zm60-500h600v-160H180v160Zm220 220h160v-160H400v160Zm0 220h160v-160H400v160ZM180-400h160v-160H180v160Zm440 0h160v-160H620v160ZM180-180h160v-160H180v160Zm440 0h160v-160H620v160Z\"/>\n",
              "  </svg>\n",
              "    </button>\n",
              "\n",
              "  <style>\n",
              "    .colab-df-container {\n",
              "      display:flex;\n",
              "      gap: 12px;\n",
              "    }\n",
              "\n",
              "    .colab-df-convert {\n",
              "      background-color: #E8F0FE;\n",
              "      border: none;\n",
              "      border-radius: 50%;\n",
              "      cursor: pointer;\n",
              "      display: none;\n",
              "      fill: #1967D2;\n",
              "      height: 32px;\n",
              "      padding: 0 0 0 0;\n",
              "      width: 32px;\n",
              "    }\n",
              "\n",
              "    .colab-df-convert:hover {\n",
              "      background-color: #E2EBFA;\n",
              "      box-shadow: 0px 1px 2px rgba(60, 64, 67, 0.3), 0px 1px 3px 1px rgba(60, 64, 67, 0.15);\n",
              "      fill: #174EA6;\n",
              "    }\n",
              "\n",
              "    .colab-df-buttons div {\n",
              "      margin-bottom: 4px;\n",
              "    }\n",
              "\n",
              "    [theme=dark] .colab-df-convert {\n",
              "      background-color: #3B4455;\n",
              "      fill: #D2E3FC;\n",
              "    }\n",
              "\n",
              "    [theme=dark] .colab-df-convert:hover {\n",
              "      background-color: #434B5C;\n",
              "      box-shadow: 0px 1px 3px 1px rgba(0, 0, 0, 0.15);\n",
              "      filter: drop-shadow(0px 1px 2px rgba(0, 0, 0, 0.3));\n",
              "      fill: #FFFFFF;\n",
              "    }\n",
              "  </style>\n",
              "\n",
              "    <script>\n",
              "      const buttonEl =\n",
              "        document.querySelector('#df-e84388c7-9963-4e47-8f6f-96c585208bf2 button.colab-df-convert');\n",
              "      buttonEl.style.display =\n",
              "        google.colab.kernel.accessAllowed ? 'block' : 'none';\n",
              "\n",
              "      async function convertToInteractive(key) {\n",
              "        const element = document.querySelector('#df-e84388c7-9963-4e47-8f6f-96c585208bf2');\n",
              "        const dataTable =\n",
              "          await google.colab.kernel.invokeFunction('convertToInteractive',\n",
              "                                                    [key], {});\n",
              "        if (!dataTable) return;\n",
              "\n",
              "        const docLinkHtml = 'Like what you see? Visit the ' +\n",
              "          '<a target=\"_blank\" href=https://colab.research.google.com/notebooks/data_table.ipynb>data table notebook</a>'\n",
              "          + ' to learn more about interactive tables.';\n",
              "        element.innerHTML = '';\n",
              "        dataTable['output_type'] = 'display_data';\n",
              "        await google.colab.output.renderOutput(dataTable, element);\n",
              "        const docLink = document.createElement('div');\n",
              "        docLink.innerHTML = docLinkHtml;\n",
              "        element.appendChild(docLink);\n",
              "      }\n",
              "    </script>\n",
              "  </div>\n",
              "\n",
              "\n",
              "<div id=\"df-28acc4ff-e550-45ce-8a5b-14fdd04efadd\">\n",
              "  <button class=\"colab-df-quickchart\" onclick=\"quickchart('df-28acc4ff-e550-45ce-8a5b-14fdd04efadd')\"\n",
              "            title=\"Suggest charts.\"\n",
              "            style=\"display:none;\">\n",
              "\n",
              "<svg xmlns=\"http://www.w3.org/2000/svg\" height=\"24px\"viewBox=\"0 0 24 24\"\n",
              "     width=\"24px\">\n",
              "    <g>\n",
              "        <path d=\"M19 3H5c-1.1 0-2 .9-2 2v14c0 1.1.9 2 2 2h14c1.1 0 2-.9 2-2V5c0-1.1-.9-2-2-2zM9 17H7v-7h2v7zm4 0h-2V7h2v10zm4 0h-2v-4h2v4z\"/>\n",
              "    </g>\n",
              "</svg>\n",
              "  </button>\n",
              "\n",
              "<style>\n",
              "  .colab-df-quickchart {\n",
              "      --bg-color: #E8F0FE;\n",
              "      --fill-color: #1967D2;\n",
              "      --hover-bg-color: #E2EBFA;\n",
              "      --hover-fill-color: #174EA6;\n",
              "      --disabled-fill-color: #AAA;\n",
              "      --disabled-bg-color: #DDD;\n",
              "  }\n",
              "\n",
              "  [theme=dark] .colab-df-quickchart {\n",
              "      --bg-color: #3B4455;\n",
              "      --fill-color: #D2E3FC;\n",
              "      --hover-bg-color: #434B5C;\n",
              "      --hover-fill-color: #FFFFFF;\n",
              "      --disabled-bg-color: #3B4455;\n",
              "      --disabled-fill-color: #666;\n",
              "  }\n",
              "\n",
              "  .colab-df-quickchart {\n",
              "    background-color: var(--bg-color);\n",
              "    border: none;\n",
              "    border-radius: 50%;\n",
              "    cursor: pointer;\n",
              "    display: none;\n",
              "    fill: var(--fill-color);\n",
              "    height: 32px;\n",
              "    padding: 0;\n",
              "    width: 32px;\n",
              "  }\n",
              "\n",
              "  .colab-df-quickchart:hover {\n",
              "    background-color: var(--hover-bg-color);\n",
              "    box-shadow: 0 1px 2px rgba(60, 64, 67, 0.3), 0 1px 3px 1px rgba(60, 64, 67, 0.15);\n",
              "    fill: var(--button-hover-fill-color);\n",
              "  }\n",
              "\n",
              "  .colab-df-quickchart-complete:disabled,\n",
              "  .colab-df-quickchart-complete:disabled:hover {\n",
              "    background-color: var(--disabled-bg-color);\n",
              "    fill: var(--disabled-fill-color);\n",
              "    box-shadow: none;\n",
              "  }\n",
              "\n",
              "  .colab-df-spinner {\n",
              "    border: 2px solid var(--fill-color);\n",
              "    border-color: transparent;\n",
              "    border-bottom-color: var(--fill-color);\n",
              "    animation:\n",
              "      spin 1s steps(1) infinite;\n",
              "  }\n",
              "\n",
              "  @keyframes spin {\n",
              "    0% {\n",
              "      border-color: transparent;\n",
              "      border-bottom-color: var(--fill-color);\n",
              "      border-left-color: var(--fill-color);\n",
              "    }\n",
              "    20% {\n",
              "      border-color: transparent;\n",
              "      border-left-color: var(--fill-color);\n",
              "      border-top-color: var(--fill-color);\n",
              "    }\n",
              "    30% {\n",
              "      border-color: transparent;\n",
              "      border-left-color: var(--fill-color);\n",
              "      border-top-color: var(--fill-color);\n",
              "      border-right-color: var(--fill-color);\n",
              "    }\n",
              "    40% {\n",
              "      border-color: transparent;\n",
              "      border-right-color: var(--fill-color);\n",
              "      border-top-color: var(--fill-color);\n",
              "    }\n",
              "    60% {\n",
              "      border-color: transparent;\n",
              "      border-right-color: var(--fill-color);\n",
              "    }\n",
              "    80% {\n",
              "      border-color: transparent;\n",
              "      border-right-color: var(--fill-color);\n",
              "      border-bottom-color: var(--fill-color);\n",
              "    }\n",
              "    90% {\n",
              "      border-color: transparent;\n",
              "      border-bottom-color: var(--fill-color);\n",
              "    }\n",
              "  }\n",
              "</style>\n",
              "\n",
              "  <script>\n",
              "    async function quickchart(key) {\n",
              "      const quickchartButtonEl =\n",
              "        document.querySelector('#' + key + ' button');\n",
              "      quickchartButtonEl.disabled = true;  // To prevent multiple clicks.\n",
              "      quickchartButtonEl.classList.add('colab-df-spinner');\n",
              "      try {\n",
              "        const charts = await google.colab.kernel.invokeFunction(\n",
              "            'suggestCharts', [key], {});\n",
              "      } catch (error) {\n",
              "        console.error('Error during call to suggestCharts:', error);\n",
              "      }\n",
              "      quickchartButtonEl.classList.remove('colab-df-spinner');\n",
              "      quickchartButtonEl.classList.add('colab-df-quickchart-complete');\n",
              "    }\n",
              "    (() => {\n",
              "      let quickchartButtonEl =\n",
              "        document.querySelector('#df-28acc4ff-e550-45ce-8a5b-14fdd04efadd button');\n",
              "      quickchartButtonEl.style.display =\n",
              "        google.colab.kernel.accessAllowed ? 'block' : 'none';\n",
              "    })();\n",
              "  </script>\n",
              "</div>\n",
              "    </div>\n",
              "  </div>\n"
            ]
          },
          "metadata": {},
          "execution_count": 4
        }
      ]
    },
    {
      "cell_type": "code",
      "source": [
        "df.isna().sum()"
      ],
      "metadata": {
        "id": "NIuO3NIx5hA2",
        "outputId": "8fc1ea39-3c37-4c17-9e81-e5d1a6e4877f",
        "colab": {
          "base_uri": "https://localhost:8080/"
        }
      },
      "execution_count": null,
      "outputs": [
        {
          "output_type": "execute_result",
          "data": {
            "text/plain": [
              "age         0\n",
              "sex         0\n",
              "bmi         0\n",
              "children    0\n",
              "smoker      0\n",
              "region      0\n",
              "charges     0\n",
              "dtype: int64"
            ]
          },
          "metadata": {},
          "execution_count": 5
        }
      ]
    },
    {
      "cell_type": "code",
      "source": [
        "print(df['region'])"
      ],
      "metadata": {
        "colab": {
          "base_uri": "https://localhost:8080/"
        },
        "id": "sT9HXKXebYBX",
        "outputId": "dac477bd-c81b-4820-d74f-2834ba103181"
      },
      "execution_count": null,
      "outputs": [
        {
          "output_type": "stream",
          "name": "stdout",
          "text": [
            "0       southwest\n",
            "1       southeast\n",
            "2       southeast\n",
            "3       northwest\n",
            "4       northwest\n",
            "          ...    \n",
            "1333    northwest\n",
            "1334    northeast\n",
            "1335    southeast\n",
            "1336    southwest\n",
            "1337    northwest\n",
            "Name: region, Length: 1338, dtype: object\n"
          ]
        }
      ]
    },
    {
      "cell_type": "code",
      "source": [
        "unique_regions = df.region.unique()\n",
        "print(f\"Уникальные регионы - {'|'.join(map(str, unique_regions))}\")"
      ],
      "metadata": {
        "colab": {
          "base_uri": "https://localhost:8080/"
        },
        "id": "4BPrwJsXbaCu",
        "outputId": "b66fcbb7-b104-4cac-8672-14f876d035ee"
      },
      "execution_count": null,
      "outputs": [
        {
          "output_type": "stream",
          "name": "stdout",
          "text": [
            "Уникальные регионы - southwest|southeast|northwest|northeast\n"
          ]
        }
      ]
    },
    {
      "cell_type": "markdown",
      "source": [
        "# 3.1 Выполнить однофакторный ANOVA тест, чтобы проверить влияние региона на индекс массы тела (BMI), используя первый способ, через библиотеку Scipy.\n"
      ],
      "metadata": {
        "id": "mb-q5p1N106y"
      }
    },
    {
      "cell_type": "code",
      "source": [
        "ins_part = df[['region','bmi']]\n",
        "groups_list = []\n",
        "# print(ins_part)\n",
        "groups = df.groupby('region').groups\n",
        "for region in unique_regions:\n",
        "    groups_list.append(ins_part.iloc[groups[region]]['bmi'])\n",
        "\n",
        "scistats.f_oneway(*groups_list)"
      ],
      "metadata": {
        "id": "m9by3k5c2IgE",
        "colab": {
          "base_uri": "https://localhost:8080/"
        },
        "outputId": "f95232ae-ca7e-4457-8967-bde3a4b6ba16"
      },
      "execution_count": null,
      "outputs": [
        {
          "output_type": "execute_result",
          "data": {
            "text/plain": [
              "F_onewayResult(statistic=39.49505720170283, pvalue=1.881838913929143e-24)"
            ]
          },
          "metadata": {},
          "execution_count": 13
        }
      ]
    },
    {
      "cell_type": "markdown",
      "source": [
        "Регион влияет на bmi\n",
        "p > 0.05"
      ],
      "metadata": {
        "id": "6hizpH3JqkGt"
      }
    },
    {
      "cell_type": "markdown",
      "source": [
        "# 3.2 Выполнить однофакторный ANOVA тест, чтобы проверить влияние региона на индекс массы тела (BMI), используя второй способ, с помощью функции anova_lm() из библиотеки statsmodels."
      ],
      "metadata": {
        "id": "WW12kse314fC"
      }
    },
    {
      "cell_type": "code",
      "source": [
        "import statsmodels.api as sm\n",
        "from statsmodels.formula.api import ols\n",
        "\n",
        "data = df[['bmi','region']]\n",
        "model = ols('bmi ~ region',data = data).fit()\n",
        "anova_result = sm.stats.anova_lm(model, typ=2)\n",
        "\n",
        "print(anova_result)"
      ],
      "metadata": {
        "id": "uKKciUdT2I8p",
        "colab": {
          "base_uri": "https://localhost:8080/"
        },
        "outputId": "11df662e-0c0d-45a7-c72c-a65e2d55e671"
      },
      "execution_count": null,
      "outputs": [
        {
          "output_type": "stream",
          "name": "stdout",
          "text": [
            "                sum_sq      df          F        PR(>F)\n",
            "region     4055.880631     3.0  39.495057  1.881839e-24\n",
            "Residual  45664.319755  1334.0        NaN           NaN\n"
          ]
        }
      ]
    },
    {
      "cell_type": "markdown",
      "source": [
        "# 3.3 С помощью t критерия Стьюдента перебрать все пары. Определить поправку Бонферрони. Сделать выводы."
      ],
      "metadata": {
        "id": "e414sgyO16lX"
      }
    },
    {
      "cell_type": "code",
      "source": [
        "region_pairs = []\n",
        "\n",
        "for region_1 in range(3):\n",
        "    for region_2 in range(region_1 + 1, 4):\n",
        "        region_pairs.append((unique_regions[region_1], unique_regions[region_2]))\n",
        "\n",
        "\n",
        "for region_1, region_2 in region_pairs:\n",
        "    print(region_1, region_2)\n",
        "    print(scistats.ttest_ind(ins_part.iloc[groups[region_1]]['bmi'], ins_part.iloc[groups[region_2]]['bmi']))\n",
        "\n",
        "bonf_corr = 0.05 / 4\n",
        "print(\"----------------------\")\n",
        "print(\"Поправка Бонферрони = \", bonf_corr)"
      ],
      "metadata": {
        "id": "Aux7kRtQ2JRV",
        "colab": {
          "base_uri": "https://localhost:8080/"
        },
        "outputId": "dc0650da-bd7b-4e64-9ced-8e56acfe5e71"
      },
      "execution_count": null,
      "outputs": [
        {
          "output_type": "stream",
          "name": "stdout",
          "text": [
            "southwest southeast\n",
            "TtestResult(statistic=-5.908373821545118, pvalue=5.4374009639680636e-09, df=687.0)\n",
            "southwest northwest\n",
            "TtestResult(statistic=3.2844171500398582, pvalue=0.001076958496307695, df=648.0)\n",
            "southwest northeast\n",
            "TtestResult(statistic=3.1169000930045923, pvalue=0.0019086161671573072, df=647.0)\n",
            "southeast northwest\n",
            "TtestResult(statistic=9.25649013552548, pvalue=2.643571405230106e-19, df=687.0)\n",
            "southeast northeast\n",
            "TtestResult(statistic=8.790905562598699, pvalue=1.186014937424813e-17, df=686.0)\n",
            "northwest northeast\n",
            "TtestResult(statistic=0.060307727183293185, pvalue=0.951929170821864, df=647.0)\n",
            "--------------------------------------\n",
            "Поправка Бонферрони =  0.0125\n"
          ]
        }
      ]
    },
    {
      "cell_type": "markdown",
      "source": [
        "Northwest northeast принадлежат одной генеральной совокупности"
      ],
      "metadata": {
        "id": "U80lMd3MsHBL"
      }
    },
    {
      "cell_type": "markdown",
      "source": [
        "# 3.4 Выполнить пост-хок тесты Тьюки и построить график."
      ],
      "metadata": {
        "id": "yZuFoPHv18wo"
      }
    },
    {
      "cell_type": "code",
      "source": [
        "from statsmodels.stats.multicomp import pairwise_tukeyhsd\n",
        "print(ins_part['bmi'])"
      ],
      "metadata": {
        "id": "npWXaEng2Jm5",
        "colab": {
          "base_uri": "https://localhost:8080/"
        },
        "outputId": "79fea68f-0418-4b5b-8ffa-95cdaf071e35"
      },
      "execution_count": null,
      "outputs": [
        {
          "output_type": "stream",
          "name": "stdout",
          "text": [
            "0       27.900\n",
            "1       33.770\n",
            "2       33.000\n",
            "3       22.705\n",
            "4       28.880\n",
            "         ...  \n",
            "1333    30.970\n",
            "1334    31.920\n",
            "1335    36.850\n",
            "1336    25.800\n",
            "1337    29.070\n",
            "Name: bmi, Length: 1338, dtype: float64\n"
          ]
        }
      ]
    },
    {
      "cell_type": "code",
      "source": [
        "import matplotlib.pyplot as plt\n",
        "\n",
        "tukey = pairwise_tukeyhsd(endog = ins_part['bmi'], groups=ins_part['region'], alpha=0.07)\n",
        "tukey.summary()"
      ],
      "metadata": {
        "colab": {
          "base_uri": "https://localhost:8080/",
          "height": 186
        },
        "id": "dtgW21WLuZ5j",
        "outputId": "8c94366d-e6dd-4c49-bc4b-1e2f60248f15"
      },
      "execution_count": null,
      "outputs": [
        {
          "output_type": "execute_result",
          "data": {
            "text/plain": [
              "<class 'statsmodels.iolib.table.SimpleTable'>"
            ],
            "text/html": [
              "<table class=\"simpletable\">\n",
              "<caption>Multiple Comparison of Means - Tukey HSD, FWER=0.07</caption>\n",
              "<tr>\n",
              "   <th>group1</th>    <th>group2</th>   <th>meandiff</th>  <th>p-adj</th>  <th>lower</th>   <th>upper</th>  <th>reject</th>\n",
              "</tr>\n",
              "<tr>\n",
              "  <td>northeast</td> <td>northwest</td>  <td>0.0263</td>  <td>0.9999</td> <td>-1.0951</td> <td>1.1477</td>   <td>False</td>\n",
              "</tr>\n",
              "<tr>\n",
              "  <td>northeast</td> <td>southeast</td>  <td>4.1825</td>    <td>0.0</td>  <td>3.0915</td>  <td>5.2735</td>   <td>True</td> \n",
              "</tr>\n",
              "<tr>\n",
              "  <td>northeast</td> <td>southwest</td>  <td>1.4231</td>  <td>0.0107</td> <td>0.3017</td>  <td>2.5445</td>   <td>True</td> \n",
              "</tr>\n",
              "<tr>\n",
              "  <td>northwest</td> <td>southeast</td>  <td>4.1562</td>    <td>0.0</td>  <td>3.0661</td>  <td>5.2463</td>   <td>True</td> \n",
              "</tr>\n",
              "<tr>\n",
              "  <td>northwest</td> <td>southwest</td>  <td>1.3968</td>  <td>0.0127</td> <td>0.2763</td>  <td>2.5174</td>   <td>True</td> \n",
              "</tr>\n",
              "<tr>\n",
              "  <td>southeast</td> <td>southwest</td>  <td>-2.7594</td>   <td>0.0</td>  <td>-3.8495</td> <td>-1.6693</td>  <td>True</td> \n",
              "</tr>\n",
              "</table>"
            ],
            "text/latex": "\\begin{center}\n\\begin{tabular}{ccccccc}\n\\toprule\n\\textbf{group1} & \\textbf{group2} & \\textbf{meandiff} & \\textbf{p-adj} & \\textbf{lower} & \\textbf{upper} & \\textbf{reject}  \\\\\n\\midrule\n   northeast    &    northwest    &       0.0263      &     0.9999     &    -1.0951     &     1.1477     &      False       \\\\\n   northeast    &    southeast    &       4.1825      &      0.0       &     3.0915     &     5.2735     &       True       \\\\\n   northeast    &    southwest    &       1.4231      &     0.0107     &     0.3017     &     2.5445     &       True       \\\\\n   northwest    &    southeast    &       4.1562      &      0.0       &     3.0661     &     5.2463     &       True       \\\\\n   northwest    &    southwest    &       1.3968      &     0.0127     &     0.2763     &     2.5174     &       True       \\\\\n   southeast    &    southwest    &      -2.7594      &      0.0       &    -3.8495     &    -1.6693     &       True       \\\\\n\\bottomrule\n\\end{tabular}\n%\\caption{Multiple Comparison of Means - Tukey HSD, FWER=0.07}\n\\end{center}"
          },
          "metadata": {},
          "execution_count": 18
        }
      ]
    },
    {
      "cell_type": "code",
      "source": [
        "tukey = pairwise_tukeyhsd(endog = ins_part['bmi'], groups=ins_part['region'], alpha=0.07).plot_simultaneous()\n",
        "plt.vlines(x=30, ymin=-2, ymax=10)"
      ],
      "metadata": {
        "colab": {
          "base_uri": "https://localhost:8080/",
          "height": 562
        },
        "id": "YB5igwNsubl0",
        "outputId": "e89259da-f3e9-47ab-f1b7-434a6e293f2b"
      },
      "execution_count": null,
      "outputs": [
        {
          "output_type": "execute_result",
          "data": {
            "text/plain": [
              "<matplotlib.collections.LineCollection at 0x7ed491c27eb0>"
            ]
          },
          "metadata": {},
          "execution_count": 19
        },
        {
          "output_type": "display_data",
          "data": {
            "text/plain": [
              "<Figure size 1000x600 with 1 Axes>"
            ],
            "image/png": "[encoded data removed]"
          },
          "metadata": {}
        }
      ]
    },
    {
      "cell_type": "markdown",
      "source": [
        "# 3.5 Выполнить двухфакторный ANOVA тест, чтобы проверить влияние региона и пола на индекс массы тела (BMI), используя функцию anova_lm() из библиотеки statsmodels."
      ],
      "metadata": {
        "id": "-oBcCnU91-6G"
      }
    },
    {
      "cell_type": "code",
      "source": [
        "data = df\n",
        "print(data)\n",
        "model_oth = ols('bmi ~ region + sex + region:sex',data = data)\n",
        "model_oth = model_oth.fit()\n",
        "anova_result = sm.stats.anova_lm(model_oth, typ=2)\n",
        "\n",
        "print(anova_result)"
      ],
      "metadata": {
        "id": "B5oUnZQp2J74",
        "colab": {
          "base_uri": "https://localhost:8080/"
        },
        "outputId": "d069a2a3-9e4f-47c1-8c8c-2acc17ddea7e"
      },
      "execution_count": null,
      "outputs": [
        {
          "output_type": "stream",
          "name": "stdout",
          "text": [
            "      age     sex     bmi  children smoker     region      charges\n",
            "0      19  female  27.900         0    yes  southwest  16884.92400\n",
            "1      18    male  33.770         1     no  southeast   1725.55230\n",
            "2      28    male  33.000         3     no  southeast   4449.46200\n",
            "3      33    male  22.705         0     no  northwest  21984.47061\n",
            "4      32    male  28.880         0     no  northwest   3866.85520\n",
            "...   ...     ...     ...       ...    ...        ...          ...\n",
            "1333   50    male  30.970         3     no  northwest  10600.54830\n",
            "1334   18  female  31.920         0     no  northeast   2205.98080\n",
            "1335   18  female  36.850         0     no  southeast   1629.83350\n",
            "1336   21  female  25.800         0     no  southwest   2007.94500\n",
            "1337   61  female  29.070         0    yes  northwest  29141.36030\n",
            "\n",
            "[1338 rows x 7 columns]\n",
            "                  sum_sq      df          F        PR(>F)\n",
            "region       4034.975135     3.0  39.398134  2.163195e-24\n",
            "sex            86.007035     1.0   2.519359  1.126940e-01\n",
            "region:sex    174.157808     3.0   1.700504  1.650655e-01\n",
            "Residual    45404.154911  1330.0        NaN           NaN\n"
          ]
        }
      ]
    },
    {
      "cell_type": "markdown",
      "source": [
        "Как можно видеть из ANOVA теста, регион оказывает существенное влияние на BMI(индекс массы тела). В то время, как пол и пол+регион не оказывает существенного влияния"
      ],
      "metadata": {
        "id": "mEI23H3ls2MX"
      }
    },
    {
      "cell_type": "markdown",
      "source": [
        "# 3.6 Выполнить пост-хок тесты Тьюки и построить график."
      ],
      "metadata": {
        "id": "-xI1Db7A2Ck7"
      }
    },
    {
      "cell_type": "code",
      "source": [
        "df['sex+region'] = df['region'] + ' / ' + df['sex']\n",
        "print(df)"
      ],
      "metadata": {
        "id": "Z3xBduVp2KWV",
        "colab": {
          "base_uri": "https://localhost:8080/"
        },
        "outputId": "ef711026-cc55-425b-ae7a-677866093694"
      },
      "execution_count": null,
      "outputs": [
        {
          "output_type": "stream",
          "name": "stdout",
          "text": [
            "      age     sex     bmi  children smoker     region      charges  \\\n",
            "0      19  female  27.900         0    yes  southwest  16884.92400   \n",
            "1      18    male  33.770         1     no  southeast   1725.55230   \n",
            "2      28    male  33.000         3     no  southeast   4449.46200   \n",
            "3      33    male  22.705         0     no  northwest  21984.47061   \n",
            "4      32    male  28.880         0     no  northwest   3866.85520   \n",
            "...   ...     ...     ...       ...    ...        ...          ...   \n",
            "1333   50    male  30.970         3     no  northwest  10600.54830   \n",
            "1334   18  female  31.920         0     no  northeast   2205.98080   \n",
            "1335   18  female  36.850         0     no  southeast   1629.83350   \n",
            "1336   21  female  25.800         0     no  southwest   2007.94500   \n",
            "1337   61  female  29.070         0    yes  northwest  29141.36030   \n",
            "\n",
            "              sex+region  \n",
            "0     southwest / female  \n",
            "1       southeast / male  \n",
            "2       southeast / male  \n",
            "3       northwest / male  \n",
            "4       northwest / male  \n",
            "...                  ...  \n",
            "1333    northwest / male  \n",
            "1334  northeast / female  \n",
            "1335  southeast / female  \n",
            "1336  southwest / female  \n",
            "1337  northwest / female  \n",
            "\n",
            "[1338 rows x 8 columns]\n"
          ]
        }
      ]
    },
    {
      "cell_type": "code",
      "source": [
        "tukey = pairwise_tukeyhsd(endog = df['bmi'], groups=df['sex+region'], alpha=0.07)\n",
        "tukey.summary()"
      ],
      "metadata": {
        "colab": {
          "base_uri": "https://localhost:8080/",
          "height": 656
        },
        "id": "musU2vuauw5V",
        "outputId": "ba48cfe4-0ede-43ea-c816-0d7df34d5541"
      },
      "execution_count": null,
      "outputs": [
        {
          "output_type": "execute_result",
          "data": {
            "text/plain": [
              "<class 'statsmodels.iolib.table.SimpleTable'>"
            ],
            "text/html": [
              "<table class=\"simpletable\">\n",
              "<caption>Multiple Comparison of Means - Tukey HSD, FWER=0.07</caption>\n",
              "<tr>\n",
              "        <th>group1</th>             <th>group2</th>       <th>meandiff</th>  <th>p-adj</th>  <th>lower</th>   <th>upper</th>  <th>reject</th>\n",
              "</tr>\n",
              "<tr>\n",
              "  <td>northeast / female</td>  <td>northeast / male</td>   <td>-0.2998</td> <td>0.9998</td> <td>-2.1936</td>  <td>1.594</td>   <td>False</td>\n",
              "</tr>\n",
              "<tr>\n",
              "  <td>northeast / female</td> <td>northwest / female</td>  <td>-0.0464</td>   <td>1.0</td>  <td>-1.9373</td> <td>1.8446</td>   <td>False</td>\n",
              "</tr>\n",
              "<tr>\n",
              "  <td>northeast / female</td>  <td>northwest / male</td>   <td>-0.2042</td>   <td>1.0</td>  <td>-2.1038</td> <td>1.6955</td>   <td>False</td>\n",
              "</tr>\n",
              "<tr>\n",
              "  <td>northeast / female</td> <td>southeast / female</td>  <td>3.3469</td>    <td>0.0</td>  <td>1.4857</td>  <td>5.2082</td>   <td>True</td> \n",
              "</tr>\n",
              "<tr>\n",
              "  <td>northeast / female</td>  <td>southeast / male</td>   <td>4.6657</td>    <td>0.0</td>  <td>2.8377</td>  <td>6.4936</td>   <td>True</td> \n",
              "</tr>\n",
              "<tr>\n",
              "  <td>northeast / female</td> <td>southwest / female</td>  <td>0.7362</td>  <td>0.9497</td> <td>-1.1605</td> <td>2.6329</td>   <td>False</td>\n",
              "</tr>\n",
              "<tr>\n",
              "  <td>northeast / female</td>  <td>southwest / male</td>   <td>1.8051</td>  <td>0.1007</td> <td>-0.0887</td> <td>3.6989</td>   <td>False</td>\n",
              "</tr>\n",
              "<tr>\n",
              "   <td>northeast / male</td>  <td>northwest / female</td>  <td>0.2534</td>  <td>0.9999</td> <td>-1.6317</td> <td>2.1385</td>   <td>False</td>\n",
              "</tr>\n",
              "<tr>\n",
              "   <td>northeast / male</td>   <td>northwest / male</td>   <td>0.0956</td>    <td>1.0</td>  <td>-1.7982</td> <td>1.9894</td>   <td>False</td>\n",
              "</tr>\n",
              "<tr>\n",
              "   <td>northeast / male</td>  <td>southeast / female</td>  <td>3.6467</td>    <td>0.0</td>  <td>1.7914</td>   <td>5.502</td>   <td>True</td> \n",
              "</tr>\n",
              "<tr>\n",
              "   <td>northeast / male</td>   <td>southeast / male</td>   <td>4.9655</td>    <td>0.0</td>  <td>3.1436</td>  <td>6.7873</td>   <td>True</td> \n",
              "</tr>\n",
              "<tr>\n",
              "   <td>northeast / male</td>  <td>southwest / female</td>   <td>1.036</td>  <td>0.7515</td> <td>-0.8549</td> <td>2.9268</td>   <td>False</td>\n",
              "</tr>\n",
              "<tr>\n",
              "   <td>northeast / male</td>   <td>southwest / male</td>   <td>2.1049</td>  <td>0.0258</td> <td>0.2169</td>  <td>3.9929</td>   <td>True</td> \n",
              "</tr>\n",
              "<tr>\n",
              "  <td>northwest / female</td>  <td>northwest / male</td>   <td>-0.1578</td>   <td>1.0</td>  <td>-2.0487</td> <td>1.7331</td>   <td>False</td>\n",
              "</tr>\n",
              "<tr>\n",
              "  <td>northwest / female</td> <td>southeast / female</td>  <td>3.3933</td>    <td>0.0</td>  <td>1.5409</td>  <td>5.2457</td>   <td>True</td> \n",
              "</tr>\n",
              "<tr>\n",
              "  <td>northwest / female</td>  <td>southeast / male</td>    <td>4.712</td>    <td>0.0</td>  <td>2.8932</td>  <td>6.5309</td>   <td>True</td> \n",
              "</tr>\n",
              "<tr>\n",
              "  <td>northwest / female</td> <td>southwest / female</td>  <td>0.7825</td>  <td>0.9294</td> <td>-1.1055</td> <td>2.6705</td>   <td>False</td>\n",
              "</tr>\n",
              "<tr>\n",
              "  <td>northwest / female</td>  <td>southwest / male</td>   <td>1.8515</td>  <td>0.0806</td> <td>-0.0336</td> <td>3.7366</td>   <td>False</td>\n",
              "</tr>\n",
              "<tr>\n",
              "   <td>northwest / male</td>  <td>southeast / female</td>  <td>3.5511</td>    <td>0.0</td>  <td>1.6898</td>  <td>5.4124</td>   <td>True</td> \n",
              "</tr>\n",
              "<tr>\n",
              "   <td>northwest / male</td>   <td>southeast / male</td>   <td>4.8698</td>    <td>0.0</td>  <td>3.0419</td>  <td>6.6978</td>   <td>True</td> \n",
              "</tr>\n",
              "<tr>\n",
              "   <td>northwest / male</td>  <td>southwest / female</td>  <td>0.9403</td>  <td>0.8354</td> <td>-0.9564</td> <td>2.8371</td>   <td>False</td>\n",
              "</tr>\n",
              "<tr>\n",
              "   <td>northwest / male</td>   <td>southwest / male</td>   <td>2.0093</td>   <td>0.042</td> <td>0.1155</td>  <td>3.9031</td>   <td>True</td> \n",
              "</tr>\n",
              "<tr>\n",
              "  <td>southeast / female</td>  <td>southeast / male</td>   <td>1.3187</td>  <td>0.3823</td> <td>-0.4693</td> <td>3.1068</td>   <td>False</td>\n",
              "</tr>\n",
              "<tr>\n",
              "  <td>southeast / female</td> <td>southwest / female</td>  <td>-2.6108</td> <td>0.0011</td> <td>-4.469</td>  <td>-0.7525</td>  <td>True</td> \n",
              "</tr>\n",
              "<tr>\n",
              "  <td>southeast / female</td>  <td>southwest / male</td>   <td>-1.5418</td> <td>0.2304</td> <td>-3.3971</td> <td>0.3135</td>   <td>False</td>\n",
              "</tr>\n",
              "<tr>\n",
              "   <td>southeast / male</td>  <td>southwest / female</td>  <td>-3.9295</td>   <td>0.0</td>  <td>-5.7544</td> <td>-2.1046</td>  <td>True</td> \n",
              "</tr>\n",
              "<tr>\n",
              "   <td>southeast / male</td>   <td>southwest / male</td>   <td>-2.8606</td> <td>0.0001</td> <td>-4.6824</td> <td>-1.0387</td>  <td>True</td> \n",
              "</tr>\n",
              "<tr>\n",
              "  <td>southwest / female</td>  <td>southwest / male</td>    <td>1.069</td>  <td>0.7201</td> <td>-0.8219</td> <td>2.9598</td>   <td>False</td>\n",
              "</tr>\n",
              "</table>"
            ],
            "text/latex": "\\begin{center}\n\\begin{tabular}{ccccccc}\n\\toprule\n \\textbf{group1}   &  \\textbf{group2}   & \\textbf{meandiff} & \\textbf{p-adj} & \\textbf{lower} & \\textbf{upper} & \\textbf{reject}  \\\\\n\\midrule\nnortheast / female &  northeast / male  &      -0.2998      &     0.9998     &    -2.1936     &     1.594      &      False       \\\\\nnortheast / female & northwest / female &      -0.0464      &      1.0       &    -1.9373     &     1.8446     &      False       \\\\\nnortheast / female &  northwest / male  &      -0.2042      &      1.0       &    -2.1038     &     1.6955     &      False       \\\\\nnortheast / female & southeast / female &       3.3469      &      0.0       &     1.4857     &     5.2082     &       True       \\\\\nnortheast / female &  southeast / male  &       4.6657      &      0.0       &     2.8377     &     6.4936     &       True       \\\\\nnortheast / female & southwest / female &       0.7362      &     0.9497     &    -1.1605     &     2.6329     &      False       \\\\\nnortheast / female &  southwest / male  &       1.8051      &     0.1007     &    -0.0887     &     3.6989     &      False       \\\\\n northeast / male  & northwest / female &       0.2534      &     0.9999     &    -1.6317     &     2.1385     &      False       \\\\\n northeast / male  &  northwest / male  &       0.0956      &      1.0       &    -1.7982     &     1.9894     &      False       \\\\\n northeast / male  & southeast / female &       3.6467      &      0.0       &     1.7914     &     5.502      &       True       \\\\\n northeast / male  &  southeast / male  &       4.9655      &      0.0       &     3.1436     &     6.7873     &       True       \\\\\n northeast / male  & southwest / female &       1.036       &     0.7515     &    -0.8549     &     2.9268     &      False       \\\\\n northeast / male  &  southwest / male  &       2.1049      &     0.0258     &     0.2169     &     3.9929     &       True       \\\\\nnorthwest / female &  northwest / male  &      -0.1578      &      1.0       &    -2.0487     &     1.7331     &      False       \\\\\nnorthwest / female & southeast / female &       3.3933      &      0.0       &     1.5409     &     5.2457     &       True       \\\\\nnorthwest / female &  southeast / male  &       4.712       &      0.0       &     2.8932     &     6.5309     &       True       \\\\\nnorthwest / female & southwest / female &       0.7825      &     0.9294     &    -1.1055     &     2.6705     &      False       \\\\\nnorthwest / female &  southwest / male  &       1.8515      &     0.0806     &    -0.0336     &     3.7366     &      False       \\\\\n northwest / male  & southeast / female &       3.5511      &      0.0       &     1.6898     &     5.4124     &       True       \\\\\n northwest / male  &  southeast / male  &       4.8698      &      0.0       &     3.0419     &     6.6978     &       True       \\\\\n northwest / male  & southwest / female &       0.9403      &     0.8354     &    -0.9564     &     2.8371     &      False       \\\\\n northwest / male  &  southwest / male  &       2.0093      &     0.042      &     0.1155     &     3.9031     &       True       \\\\\nsoutheast / female &  southeast / male  &       1.3187      &     0.3823     &    -0.4693     &     3.1068     &      False       \\\\\nsoutheast / female & southwest / female &      -2.6108      &     0.0011     &     -4.469     &    -0.7525     &       True       \\\\\nsoutheast / female &  southwest / male  &      -1.5418      &     0.2304     &    -3.3971     &     0.3135     &      False       \\\\\n southeast / male  & southwest / female &      -3.9295      &      0.0       &    -5.7544     &    -2.1046     &       True       \\\\\n southeast / male  &  southwest / male  &      -2.8606      &     0.0001     &    -4.6824     &    -1.0387     &       True       \\\\\nsouthwest / female &  southwest / male  &       1.069       &     0.7201     &    -0.8219     &     2.9598     &      False       \\\\\n\\bottomrule\n\\end{tabular}\n%\\caption{Multiple Comparison of Means - Tukey HSD, FWER=0.07}\n\\end{center}"
          },
          "metadata": {},
          "execution_count": 27
        }
      ]
    },
    {
      "cell_type": "code",
      "source": [
        "tukey = pairwise_tukeyhsd(endog = df['bmi'], groups=df['sex+region'], alpha=0.07).plot_simultaneous()\n",
        "plt.vlines(x=32, ymin=-2, ymax=10)"
      ],
      "metadata": {
        "colab": {
          "base_uri": "https://localhost:8080/",
          "height": 562
        },
        "id": "xSB6sLLPuzLn",
        "outputId": "e15163c4-f295-4346-c37e-7215b48375f1"
      },
      "execution_count": null,
      "outputs": [
        {
          "output_type": "execute_result",
          "data": {
            "text/plain": [
              "<matplotlib.collections.LineCollection at 0x7ed48f8b1fc0>"
            ]
          },
          "metadata": {},
          "execution_count": 29
        },
        {
          "output_type": "display_data",
          "data": {
            "text/plain": [
              "<Figure size 1000x600 with 1 Axes>"
            ],
            "image/png": "[encoded data removed]"
          },
          "metadata": {}
        }
      ]
    }
  ]
}